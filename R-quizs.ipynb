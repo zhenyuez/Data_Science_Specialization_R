{
 "cells": [
  {
   "cell_type": "code",
   "execution_count": 1,
   "metadata": {
    "collapsed": false
   },
   "outputs": [],
   "source": [
    "#Quiz 1\n",
    "#Problem 11\n",
    "data <- read.csv(\"~/Downloads/hw1_data.csv\")"
   ]
  },
  {
   "cell_type": "code",
   "execution_count": 2,
   "metadata": {
    "collapsed": false
   },
   "outputs": [
    {
     "data": {
      "text/html": [
       "<dl>\n",
       "\t<dt>$names</dt>\n",
       "\t\t<dd><ol class=list-inline>\n",
       "\t<li>'Ozone'</li>\n",
       "\t<li>'Solar.R'</li>\n",
       "\t<li>'Wind'</li>\n",
       "\t<li>'Temp'</li>\n",
       "\t<li>'Month'</li>\n",
       "\t<li>'Day'</li>\n",
       "</ol>\n",
       "</dd>\n",
       "\t<dt>$class</dt>\n",
       "\t\t<dd>'data.frame'</dd>\n",
       "\t<dt>$row.names</dt>\n",
       "\t\t<dd><ol class=list-inline>\n",
       "\t<li>1</li>\n",
       "\t<li>2</li>\n",
       "\t<li>3</li>\n",
       "\t<li>4</li>\n",
       "\t<li>5</li>\n",
       "\t<li>6</li>\n",
       "\t<li>7</li>\n",
       "\t<li>8</li>\n",
       "\t<li>9</li>\n",
       "\t<li>10</li>\n",
       "\t<li>11</li>\n",
       "\t<li>12</li>\n",
       "\t<li>13</li>\n",
       "\t<li>14</li>\n",
       "\t<li>15</li>\n",
       "\t<li>16</li>\n",
       "\t<li>17</li>\n",
       "\t<li>18</li>\n",
       "\t<li>19</li>\n",
       "\t<li>20</li>\n",
       "\t<li>21</li>\n",
       "\t<li>22</li>\n",
       "\t<li>23</li>\n",
       "\t<li>24</li>\n",
       "\t<li>25</li>\n",
       "\t<li>26</li>\n",
       "\t<li>27</li>\n",
       "\t<li>28</li>\n",
       "\t<li>29</li>\n",
       "\t<li>30</li>\n",
       "\t<li>31</li>\n",
       "\t<li>32</li>\n",
       "\t<li>33</li>\n",
       "\t<li>34</li>\n",
       "\t<li>35</li>\n",
       "\t<li>36</li>\n",
       "\t<li>37</li>\n",
       "\t<li>38</li>\n",
       "\t<li>39</li>\n",
       "\t<li>40</li>\n",
       "\t<li>41</li>\n",
       "\t<li>42</li>\n",
       "\t<li>43</li>\n",
       "\t<li>44</li>\n",
       "\t<li>45</li>\n",
       "\t<li>46</li>\n",
       "\t<li>47</li>\n",
       "\t<li>48</li>\n",
       "\t<li>49</li>\n",
       "\t<li>50</li>\n",
       "\t<li>51</li>\n",
       "\t<li>52</li>\n",
       "\t<li>53</li>\n",
       "\t<li>54</li>\n",
       "\t<li>55</li>\n",
       "\t<li>56</li>\n",
       "\t<li>57</li>\n",
       "\t<li>58</li>\n",
       "\t<li>59</li>\n",
       "\t<li>60</li>\n",
       "\t<li>61</li>\n",
       "\t<li>62</li>\n",
       "\t<li>63</li>\n",
       "\t<li>64</li>\n",
       "\t<li>65</li>\n",
       "\t<li>66</li>\n",
       "\t<li>67</li>\n",
       "\t<li>68</li>\n",
       "\t<li>69</li>\n",
       "\t<li>70</li>\n",
       "\t<li>71</li>\n",
       "\t<li>72</li>\n",
       "\t<li>73</li>\n",
       "\t<li>74</li>\n",
       "\t<li>75</li>\n",
       "\t<li>76</li>\n",
       "\t<li>77</li>\n",
       "\t<li>78</li>\n",
       "\t<li>79</li>\n",
       "\t<li>80</li>\n",
       "\t<li>81</li>\n",
       "\t<li>82</li>\n",
       "\t<li>83</li>\n",
       "\t<li>84</li>\n",
       "\t<li>85</li>\n",
       "\t<li>86</li>\n",
       "\t<li>87</li>\n",
       "\t<li>88</li>\n",
       "\t<li>89</li>\n",
       "\t<li>90</li>\n",
       "\t<li>91</li>\n",
       "\t<li>92</li>\n",
       "\t<li>93</li>\n",
       "\t<li>94</li>\n",
       "\t<li>95</li>\n",
       "\t<li>96</li>\n",
       "\t<li>97</li>\n",
       "\t<li>98</li>\n",
       "\t<li>99</li>\n",
       "\t<li>100</li>\n",
       "\t<li>101</li>\n",
       "\t<li>102</li>\n",
       "\t<li>103</li>\n",
       "\t<li>104</li>\n",
       "\t<li>105</li>\n",
       "\t<li>106</li>\n",
       "\t<li>107</li>\n",
       "\t<li>108</li>\n",
       "\t<li>109</li>\n",
       "\t<li>110</li>\n",
       "\t<li>111</li>\n",
       "\t<li>112</li>\n",
       "\t<li>113</li>\n",
       "\t<li>114</li>\n",
       "\t<li>115</li>\n",
       "\t<li>116</li>\n",
       "\t<li>117</li>\n",
       "\t<li>118</li>\n",
       "\t<li>119</li>\n",
       "\t<li>120</li>\n",
       "\t<li>121</li>\n",
       "\t<li>122</li>\n",
       "\t<li>123</li>\n",
       "\t<li>124</li>\n",
       "\t<li>125</li>\n",
       "\t<li>126</li>\n",
       "\t<li>127</li>\n",
       "\t<li>128</li>\n",
       "\t<li>129</li>\n",
       "\t<li>130</li>\n",
       "\t<li>131</li>\n",
       "\t<li>132</li>\n",
       "\t<li>133</li>\n",
       "\t<li>134</li>\n",
       "\t<li>135</li>\n",
       "\t<li>136</li>\n",
       "\t<li>137</li>\n",
       "\t<li>138</li>\n",
       "\t<li>139</li>\n",
       "\t<li>140</li>\n",
       "\t<li>141</li>\n",
       "\t<li>142</li>\n",
       "\t<li>143</li>\n",
       "\t<li>144</li>\n",
       "\t<li>145</li>\n",
       "\t<li>146</li>\n",
       "\t<li>147</li>\n",
       "\t<li>148</li>\n",
       "\t<li>149</li>\n",
       "\t<li>150</li>\n",
       "\t<li>151</li>\n",
       "\t<li>152</li>\n",
       "\t<li>153</li>\n",
       "</ol>\n",
       "</dd>\n",
       "</dl>\n"
      ],
      "text/latex": [
       "\\begin{description}\n",
       "\\item[\\$names] \\begin{enumerate*}\n",
       "\\item 'Ozone'\n",
       "\\item 'Solar.R'\n",
       "\\item 'Wind'\n",
       "\\item 'Temp'\n",
       "\\item 'Month'\n",
       "\\item 'Day'\n",
       "\\end{enumerate*}\n",
       "\n",
       "\\item[\\$class] 'data.frame'\n",
       "\\item[\\$row.names] \\begin{enumerate*}\n",
       "\\item 1\n",
       "\\item 2\n",
       "\\item 3\n",
       "\\item 4\n",
       "\\item 5\n",
       "\\item 6\n",
       "\\item 7\n",
       "\\item 8\n",
       "\\item 9\n",
       "\\item 10\n",
       "\\item 11\n",
       "\\item 12\n",
       "\\item 13\n",
       "\\item 14\n",
       "\\item 15\n",
       "\\item 16\n",
       "\\item 17\n",
       "\\item 18\n",
       "\\item 19\n",
       "\\item 20\n",
       "\\item 21\n",
       "\\item 22\n",
       "\\item 23\n",
       "\\item 24\n",
       "\\item 25\n",
       "\\item 26\n",
       "\\item 27\n",
       "\\item 28\n",
       "\\item 29\n",
       "\\item 30\n",
       "\\item 31\n",
       "\\item 32\n",
       "\\item 33\n",
       "\\item 34\n",
       "\\item 35\n",
       "\\item 36\n",
       "\\item 37\n",
       "\\item 38\n",
       "\\item 39\n",
       "\\item 40\n",
       "\\item 41\n",
       "\\item 42\n",
       "\\item 43\n",
       "\\item 44\n",
       "\\item 45\n",
       "\\item 46\n",
       "\\item 47\n",
       "\\item 48\n",
       "\\item 49\n",
       "\\item 50\n",
       "\\item 51\n",
       "\\item 52\n",
       "\\item 53\n",
       "\\item 54\n",
       "\\item 55\n",
       "\\item 56\n",
       "\\item 57\n",
       "\\item 58\n",
       "\\item 59\n",
       "\\item 60\n",
       "\\item 61\n",
       "\\item 62\n",
       "\\item 63\n",
       "\\item 64\n",
       "\\item 65\n",
       "\\item 66\n",
       "\\item 67\n",
       "\\item 68\n",
       "\\item 69\n",
       "\\item 70\n",
       "\\item 71\n",
       "\\item 72\n",
       "\\item 73\n",
       "\\item 74\n",
       "\\item 75\n",
       "\\item 76\n",
       "\\item 77\n",
       "\\item 78\n",
       "\\item 79\n",
       "\\item 80\n",
       "\\item 81\n",
       "\\item 82\n",
       "\\item 83\n",
       "\\item 84\n",
       "\\item 85\n",
       "\\item 86\n",
       "\\item 87\n",
       "\\item 88\n",
       "\\item 89\n",
       "\\item 90\n",
       "\\item 91\n",
       "\\item 92\n",
       "\\item 93\n",
       "\\item 94\n",
       "\\item 95\n",
       "\\item 96\n",
       "\\item 97\n",
       "\\item 98\n",
       "\\item 99\n",
       "\\item 100\n",
       "\\item 101\n",
       "\\item 102\n",
       "\\item 103\n",
       "\\item 104\n",
       "\\item 105\n",
       "\\item 106\n",
       "\\item 107\n",
       "\\item 108\n",
       "\\item 109\n",
       "\\item 110\n",
       "\\item 111\n",
       "\\item 112\n",
       "\\item 113\n",
       "\\item 114\n",
       "\\item 115\n",
       "\\item 116\n",
       "\\item 117\n",
       "\\item 118\n",
       "\\item 119\n",
       "\\item 120\n",
       "\\item 121\n",
       "\\item 122\n",
       "\\item 123\n",
       "\\item 124\n",
       "\\item 125\n",
       "\\item 126\n",
       "\\item 127\n",
       "\\item 128\n",
       "\\item 129\n",
       "\\item 130\n",
       "\\item 131\n",
       "\\item 132\n",
       "\\item 133\n",
       "\\item 134\n",
       "\\item 135\n",
       "\\item 136\n",
       "\\item 137\n",
       "\\item 138\n",
       "\\item 139\n",
       "\\item 140\n",
       "\\item 141\n",
       "\\item 142\n",
       "\\item 143\n",
       "\\item 144\n",
       "\\item 145\n",
       "\\item 146\n",
       "\\item 147\n",
       "\\item 148\n",
       "\\item 149\n",
       "\\item 150\n",
       "\\item 151\n",
       "\\item 152\n",
       "\\item 153\n",
       "\\end{enumerate*}\n",
       "\n",
       "\\end{description}\n"
      ],
      "text/markdown": [
       "$names\n",
       ":   1. 'Ozone'\n",
       "2. 'Solar.R'\n",
       "3. 'Wind'\n",
       "4. 'Temp'\n",
       "5. 'Month'\n",
       "6. 'Day'\n",
       "\n",
       "\n",
       "\n",
       "$class\n",
       ":   'data.frame'\n",
       "$row.names\n",
       ":   1. 1\n",
       "2. 2\n",
       "3. 3\n",
       "4. 4\n",
       "5. 5\n",
       "6. 6\n",
       "7. 7\n",
       "8. 8\n",
       "9. 9\n",
       "10. 10\n",
       "11. 11\n",
       "12. 12\n",
       "13. 13\n",
       "14. 14\n",
       "15. 15\n",
       "16. 16\n",
       "17. 17\n",
       "18. 18\n",
       "19. 19\n",
       "20. 20\n",
       "21. 21\n",
       "22. 22\n",
       "23. 23\n",
       "24. 24\n",
       "25. 25\n",
       "26. 26\n",
       "27. 27\n",
       "28. 28\n",
       "29. 29\n",
       "30. 30\n",
       "31. 31\n",
       "32. 32\n",
       "33. 33\n",
       "34. 34\n",
       "35. 35\n",
       "36. 36\n",
       "37. 37\n",
       "38. 38\n",
       "39. 39\n",
       "40. 40\n",
       "41. 41\n",
       "42. 42\n",
       "43. 43\n",
       "44. 44\n",
       "45. 45\n",
       "46. 46\n",
       "47. 47\n",
       "48. 48\n",
       "49. 49\n",
       "50. 50\n",
       "51. 51\n",
       "52. 52\n",
       "53. 53\n",
       "54. 54\n",
       "55. 55\n",
       "56. 56\n",
       "57. 57\n",
       "58. 58\n",
       "59. 59\n",
       "60. 60\n",
       "61. 61\n",
       "62. 62\n",
       "63. 63\n",
       "64. 64\n",
       "65. 65\n",
       "66. 66\n",
       "67. 67\n",
       "68. 68\n",
       "69. 69\n",
       "70. 70\n",
       "71. 71\n",
       "72. 72\n",
       "73. 73\n",
       "74. 74\n",
       "75. 75\n",
       "76. 76\n",
       "77. 77\n",
       "78. 78\n",
       "79. 79\n",
       "80. 80\n",
       "81. 81\n",
       "82. 82\n",
       "83. 83\n",
       "84. 84\n",
       "85. 85\n",
       "86. 86\n",
       "87. 87\n",
       "88. 88\n",
       "89. 89\n",
       "90. 90\n",
       "91. 91\n",
       "92. 92\n",
       "93. 93\n",
       "94. 94\n",
       "95. 95\n",
       "96. 96\n",
       "97. 97\n",
       "98. 98\n",
       "99. 99\n",
       "100. 100\n",
       "101. 101\n",
       "102. 102\n",
       "103. 103\n",
       "104. 104\n",
       "105. 105\n",
       "106. 106\n",
       "107. 107\n",
       "108. 108\n",
       "109. 109\n",
       "110. 110\n",
       "111. 111\n",
       "112. 112\n",
       "113. 113\n",
       "114. 114\n",
       "115. 115\n",
       "116. 116\n",
       "117. 117\n",
       "118. 118\n",
       "119. 119\n",
       "120. 120\n",
       "121. 121\n",
       "122. 122\n",
       "123. 123\n",
       "124. 124\n",
       "125. 125\n",
       "126. 126\n",
       "127. 127\n",
       "128. 128\n",
       "129. 129\n",
       "130. 130\n",
       "131. 131\n",
       "132. 132\n",
       "133. 133\n",
       "134. 134\n",
       "135. 135\n",
       "136. 136\n",
       "137. 137\n",
       "138. 138\n",
       "139. 139\n",
       "140. 140\n",
       "141. 141\n",
       "142. 142\n",
       "143. 143\n",
       "144. 144\n",
       "145. 145\n",
       "146. 146\n",
       "147. 147\n",
       "148. 148\n",
       "149. 149\n",
       "150. 150\n",
       "151. 151\n",
       "152. 152\n",
       "153. 153\n",
       "\n",
       "\n",
       "\n",
       "\n",
       "\n"
      ],
      "text/plain": [
       "$names\n",
       "[1] \"Ozone\"   \"Solar.R\" \"Wind\"    \"Temp\"    \"Month\"   \"Day\"    \n",
       "\n",
       "$class\n",
       "[1] \"data.frame\"\n",
       "\n",
       "$row.names\n",
       "  [1]   1   2   3   4   5   6   7   8   9  10  11  12  13  14  15  16  17  18\n",
       " [19]  19  20  21  22  23  24  25  26  27  28  29  30  31  32  33  34  35  36\n",
       " [37]  37  38  39  40  41  42  43  44  45  46  47  48  49  50  51  52  53  54\n",
       " [55]  55  56  57  58  59  60  61  62  63  64  65  66  67  68  69  70  71  72\n",
       " [73]  73  74  75  76  77  78  79  80  81  82  83  84  85  86  87  88  89  90\n",
       " [91]  91  92  93  94  95  96  97  98  99 100 101 102 103 104 105 106 107 108\n",
       "[109] 109 110 111 112 113 114 115 116 117 118 119 120 121 122 123 124 125 126\n",
       "[127] 127 128 129 130 131 132 133 134 135 136 137 138 139 140 141 142 143 144\n",
       "[145] 145 146 147 148 149 150 151 152 153\n"
      ]
     },
     "execution_count": 2,
     "metadata": {},
     "output_type": "execute_result"
    }
   ],
   "source": [
    "attributes(data)"
   ]
  },
  {
   "cell_type": "code",
   "execution_count": 3,
   "metadata": {
    "collapsed": false
   },
   "outputs": [
    {
     "data": {
      "text/html": [
       "'data.frame'"
      ],
      "text/latex": [
       "'data.frame'"
      ],
      "text/markdown": [
       "'data.frame'"
      ],
      "text/plain": [
       "[1] \"data.frame\""
      ]
     },
     "execution_count": 3,
     "metadata": {},
     "output_type": "execute_result"
    }
   ],
   "source": [
    "class(data)"
   ]
  },
  {
   "cell_type": "code",
   "execution_count": 4,
   "metadata": {
    "collapsed": false
   },
   "outputs": [
    {
     "data": {
      "text/html": [
       "<table>\n",
       "<thead><tr><th></th><th scope=col>Ozone</th><th scope=col>Solar.R</th><th scope=col>Wind</th><th scope=col>Temp</th><th scope=col>Month</th><th scope=col>Day</th></tr></thead>\n",
       "<tbody>\n",
       "\t<tr><th scope=row>1</th><td>41</td><td>190</td><td>7.4</td><td>67</td><td>5</td><td>1</td></tr>\n",
       "\t<tr><th scope=row>2</th><td>36</td><td>118</td><td>8</td><td>72</td><td>5</td><td>2</td></tr>\n",
       "</tbody>\n",
       "</table>\n"
      ],
      "text/latex": [
       "\\begin{tabular}{r|llllll}\n",
       "  & Ozone & Solar.R & Wind & Temp & Month & Day\\\\\n",
       "\\hline\n",
       "\t1 & 41 & 190 & 7.4 & 67 & 5 & 1\\\\\n",
       "\t2 & 36 & 118 & 8 & 72 & 5 & 2\\\\\n",
       "\\end{tabular}\n"
      ],
      "text/plain": [
       "  Ozone Solar.R Wind Temp Month Day\n",
       "1    41     190  7.4   67     5   1\n",
       "2    36     118  8.0   72     5   2"
      ]
     },
     "execution_count": 4,
     "metadata": {},
     "output_type": "execute_result"
    }
   ],
   "source": [
    "#Problem 12\n",
    "data[1:2,]"
   ]
  },
  {
   "cell_type": "code",
   "execution_count": 5,
   "metadata": {
    "collapsed": false
   },
   "outputs": [
    {
     "data": {
      "text/html": [
       "153"
      ],
      "text/latex": [
       "153"
      ],
      "text/markdown": [
       "153"
      ],
      "text/plain": [
       "[1] 153"
      ]
     },
     "execution_count": 5,
     "metadata": {},
     "output_type": "execute_result"
    }
   ],
   "source": [
    "#Problem 13\n",
    "nr<-nrow(data)\n",
    "nr"
   ]
  },
  {
   "cell_type": "code",
   "execution_count": 6,
   "metadata": {
    "collapsed": false
   },
   "outputs": [
    {
     "data": {
      "text/html": [
       "<table>\n",
       "<thead><tr><th></th><th scope=col>Ozone</th><th scope=col>Solar.R</th><th scope=col>Wind</th><th scope=col>Temp</th><th scope=col>Month</th><th scope=col>Day</th></tr></thead>\n",
       "<tbody>\n",
       "\t<tr><th scope=row>152</th><td>18</td><td>131</td><td>8</td><td>76</td><td>9</td><td>29</td></tr>\n",
       "\t<tr><th scope=row>153</th><td>20</td><td>223</td><td>11.5</td><td>68</td><td>9</td><td>30</td></tr>\n",
       "</tbody>\n",
       "</table>\n"
      ],
      "text/latex": [
       "\\begin{tabular}{r|llllll}\n",
       "  & Ozone & Solar.R & Wind & Temp & Month & Day\\\\\n",
       "\\hline\n",
       "\t152 & 18 & 131 & 8 & 76 & 9 & 29\\\\\n",
       "\t153 & 20 & 223 & 11.5 & 68 & 9 & 30\\\\\n",
       "\\end{tabular}\n"
      ],
      "text/plain": [
       "    Ozone Solar.R Wind Temp Month Day\n",
       "152    18     131  8.0   76     9  29\n",
       "153    20     223 11.5   68     9  30"
      ]
     },
     "execution_count": 6,
     "metadata": {},
     "output_type": "execute_result"
    }
   ],
   "source": [
    "#Problem 14\n",
    "data[152:153,]"
   ]
  },
  {
   "cell_type": "code",
   "execution_count": 7,
   "metadata": {
    "collapsed": false
   },
   "outputs": [
    {
     "data": {
      "text/html": [
       "<table>\n",
       "<thead><tr><th></th><th scope=col>Ozone</th><th scope=col>Solar.R</th><th scope=col>Wind</th><th scope=col>Temp</th><th scope=col>Month</th><th scope=col>Day</th></tr></thead>\n",
       "<tbody>\n",
       "\t<tr><th scope=row>47</th><td>21</td><td>191</td><td>14.9</td><td>77</td><td>6</td><td>16</td></tr>\n",
       "</tbody>\n",
       "</table>\n"
      ],
      "text/latex": [
       "\\begin{tabular}{r|llllll}\n",
       "  & Ozone & Solar.R & Wind & Temp & Month & Day\\\\\n",
       "\\hline\n",
       "\t47 & 21 & 191 & 14.9 & 77 & 6 & 16\\\\\n",
       "\\end{tabular}\n"
      ],
      "text/plain": [
       "   Ozone Solar.R Wind Temp Month Day\n",
       "47    21     191 14.9   77     6  16"
      ]
     },
     "execution_count": 7,
     "metadata": {},
     "output_type": "execute_result"
    }
   ],
   "source": [
    "#Problem 15\n",
    "data[47,]"
   ]
  },
  {
   "cell_type": "code",
   "execution_count": 8,
   "metadata": {
    "collapsed": true
   },
   "outputs": [],
   "source": [
    "o<-data[\"Ozone\"]"
   ]
  },
  {
   "cell_type": "code",
   "execution_count": 9,
   "metadata": {
    "collapsed": false
   },
   "outputs": [
    {
     "data": {
      "text/html": [
       "37"
      ],
      "text/latex": [
       "37"
      ],
      "text/markdown": [
       "37"
      ],
      "text/plain": [
       "[1] 37"
      ]
     },
     "execution_count": 9,
     "metadata": {},
     "output_type": "execute_result"
    }
   ],
   "source": [
    "#Problem 16\n",
    "sum(is.na(o))"
   ]
  },
  {
   "cell_type": "code",
   "execution_count": 10,
   "metadata": {
    "collapsed": false
   },
   "outputs": [
    {
     "data": {
      "text/html": [
       "42.1293103448276"
      ],
      "text/latex": [
       "42.1293103448276"
      ],
      "text/markdown": [
       "42.1293103448276"
      ],
      "text/plain": [
       "[1] 42.12931"
      ]
     },
     "execution_count": 10,
     "metadata": {},
     "output_type": "execute_result"
    }
   ],
   "source": [
    "#Problem 17\n",
    "mean(o[!is.na(o)])"
   ]
  },
  {
   "cell_type": "code",
   "execution_count": 11,
   "metadata": {
    "collapsed": false
   },
   "outputs": [
    {
     "data": {
      "text/html": [
       "<table>\n",
       "<thead><tr><th></th><th scope=col>Ozone</th><th scope=col>Solar.R</th><th scope=col>Wind</th><th scope=col>Temp</th><th scope=col>Month</th><th scope=col>Day</th></tr></thead>\n",
       "<tbody>\n",
       "\t<tr><th scope=row>69</th><td>97</td><td>267</td><td>6.3</td><td>92</td><td>7</td><td>8</td></tr>\n",
       "\t<tr><th scope=row>70</th><td>97</td><td>272</td><td>5.7</td><td>92</td><td>7</td><td>9</td></tr>\n",
       "\t<tr><th scope=row>120</th><td>76</td><td>203</td><td>9.7</td><td>97</td><td>8</td><td>28</td></tr>\n",
       "\t<tr><th scope=row>121</th><td>118</td><td>225</td><td>2.3</td><td>94</td><td>8</td><td>29</td></tr>\n",
       "\t<tr><th scope=row>122</th><td>84</td><td>237</td><td>6.3</td><td>96</td><td>8</td><td>30</td></tr>\n",
       "\t<tr><th scope=row>123</th><td>85</td><td>188</td><td>6.3</td><td>94</td><td>8</td><td>31</td></tr>\n",
       "\t<tr><th scope=row>124</th><td>96</td><td>167</td><td>6.9</td><td>91</td><td>9</td><td>1</td></tr>\n",
       "\t<tr><th scope=row>125</th><td>78</td><td>197</td><td>5.1</td><td>92</td><td>9</td><td>2</td></tr>\n",
       "\t<tr><th scope=row>126</th><td>73</td><td>183</td><td>2.8</td><td>93</td><td>9</td><td>3</td></tr>\n",
       "\t<tr><th scope=row>127</th><td>91</td><td>189</td><td>4.6</td><td>93</td><td>9</td><td>4</td></tr>\n",
       "</tbody>\n",
       "</table>\n"
      ],
      "text/latex": [
       "\\begin{tabular}{r|llllll}\n",
       "  & Ozone & Solar.R & Wind & Temp & Month & Day\\\\\n",
       "\\hline\n",
       "\t69 & 97 & 267 & 6.3 & 92 & 7 & 8\\\\\n",
       "\t70 & 97 & 272 & 5.7 & 92 & 7 & 9\\\\\n",
       "\t120 & 76 & 203 & 9.7 & 97 & 8 & 28\\\\\n",
       "\t121 & 118 & 225 & 2.3 & 94 & 8 & 29\\\\\n",
       "\t122 & 84 & 237 & 6.3 & 96 & 8 & 30\\\\\n",
       "\t123 & 85 & 188 & 6.3 & 94 & 8 & 31\\\\\n",
       "\t124 & 96 & 167 & 6.9 & 91 & 9 & 1\\\\\n",
       "\t125 & 78 & 197 & 5.1 & 92 & 9 & 2\\\\\n",
       "\t126 & 73 & 183 & 2.8 & 93 & 9 & 3\\\\\n",
       "\t127 & 91 & 189 & 4.6 & 93 & 9 & 4\\\\\n",
       "\\end{tabular}\n"
      ],
      "text/plain": [
       "    Ozone Solar.R Wind Temp Month Day\n",
       "69     97     267  6.3   92     7   8\n",
       "70     97     272  5.7   92     7   9\n",
       "120    76     203  9.7   97     8  28\n",
       "121   118     225  2.3   94     8  29\n",
       "122    84     237  6.3   96     8  30\n",
       "123    85     188  6.3   94     8  31\n",
       "124    96     167  6.9   91     9   1\n",
       "125    78     197  5.1   92     9   2\n",
       "126    73     183  2.8   93     9   3\n",
       "127    91     189  4.6   93     9   4"
      ]
     },
     "execution_count": 11,
     "metadata": {},
     "output_type": "execute_result"
    }
   ],
   "source": [
    "#Problem 18\n",
    "ox<-subset(data,Ozone>31 & Temp>90)\n",
    "ox"
   ]
  },
  {
   "cell_type": "code",
   "execution_count": 12,
   "metadata": {
    "collapsed": false
   },
   "outputs": [
    {
     "data": {
      "text/html": [
       "212.8"
      ],
      "text/latex": [
       "212.8"
      ],
      "text/markdown": [
       "212.8"
      ],
      "text/plain": [
       "[1] 212.8"
      ]
     },
     "execution_count": 12,
     "metadata": {},
     "output_type": "execute_result"
    }
   ],
   "source": [
    "mean(ox$Solar.R)"
   ]
  },
  {
   "cell_type": "code",
   "execution_count": 13,
   "metadata": {
    "collapsed": false
   },
   "outputs": [],
   "source": [
    "#Problem 19\n",
    "c1<-subset(data, Month==6)"
   ]
  },
  {
   "cell_type": "code",
   "execution_count": 14,
   "metadata": {
    "collapsed": false
   },
   "outputs": [
    {
     "data": {
      "text/html": [
       "79.1"
      ],
      "text/latex": [
       "79.1"
      ],
      "text/markdown": [
       "79.1"
      ],
      "text/plain": [
       "[1] 79.1"
      ]
     },
     "execution_count": 14,
     "metadata": {},
     "output_type": "execute_result"
    }
   ],
   "source": [
    "mean(c1$Temp)"
   ]
  },
  {
   "cell_type": "code",
   "execution_count": 15,
   "metadata": {
    "collapsed": false
   },
   "outputs": [],
   "source": [
    "c2<-subset(data, Month==5)"
   ]
  },
  {
   "cell_type": "code",
   "execution_count": 16,
   "metadata": {
    "collapsed": false
   },
   "outputs": [
    {
     "data": {
      "text/html": [
       "115"
      ],
      "text/latex": [
       "115"
      ],
      "text/markdown": [
       "115"
      ],
      "text/plain": [
       "[1] 115"
      ]
     },
     "execution_count": 16,
     "metadata": {},
     "output_type": "execute_result"
    }
   ],
   "source": [
    "#Problem 20\n",
    "max(c2$Ozone,na.rm=TRUE)"
   ]
  },
  {
   "cell_type": "code",
   "execution_count": 62,
   "metadata": {
    "collapsed": false
   },
   "outputs": [],
   "source": [
    "###############################Assignement 1########################\n",
    "#Problem 1"
   ]
  },
  {
   "cell_type": "code",
   "execution_count": 84,
   "metadata": {
    "collapsed": false
   },
   "outputs": [],
   "source": [
    "pollutantmean<-function(direct,pollutant,id=1:332){   \n",
    "    directory<-paste(\"~/Downloads/\",direct, sep=\"\")\n",
    "    files_list <- list.files(directory, full.names=TRUE)   \n",
    "    dat <- data.frame()                             \n",
    "    for (i in id) {                                \n",
    "        dat <- rbind(dat, read.csv(files_list[i]))\n",
    "        }\n",
    "#    dat_subset <- dat[which(dat$ID == id),]  \n",
    "    mean(dat[,pollutant], na.rm=TRUE)   \n",
    "    }"
   ]
  },
  {
   "cell_type": "code",
   "execution_count": 85,
   "metadata": {
    "collapsed": false
   },
   "outputs": [
    {
     "data": {
      "text/html": [
       "4.06412824256036"
      ],
      "text/latex": [
       "4.06412824256036"
      ],
      "text/markdown": [
       "4.06412824256036"
      ],
      "text/plain": [
       "[1] 4.064128"
      ]
     },
     "execution_count": 85,
     "metadata": {},
     "output_type": "execute_result"
    }
   ],
   "source": [
    "pollutantmean(\"specdata\", \"sulfate\", 1:10)"
   ]
  },
  {
   "cell_type": "code",
   "execution_count": 86,
   "metadata": {
    "collapsed": false
   },
   "outputs": [
    {
     "data": {
      "text/html": [
       "1.70604735169492"
      ],
      "text/latex": [
       "1.70604735169492"
      ],
      "text/markdown": [
       "1.70604735169492"
      ],
      "text/plain": [
       "[1] 1.706047"
      ]
     },
     "execution_count": 86,
     "metadata": {},
     "output_type": "execute_result"
    }
   ],
   "source": [
    "#problem 2\n",
    "pollutantmean(\"specdata\", \"nitrate\", 70:72)"
   ]
  },
  {
   "cell_type": "code",
   "execution_count": 87,
   "metadata": {
    "collapsed": false
   },
   "outputs": [
    {
     "data": {
      "text/html": [
       "1.47714303030303"
      ],
      "text/latex": [
       "1.47714303030303"
      ],
      "text/markdown": [
       "1.47714303030303"
      ],
      "text/plain": [
       "[1] 1.477143"
      ]
     },
     "execution_count": 87,
     "metadata": {},
     "output_type": "execute_result"
    }
   ],
   "source": [
    "#problem 3\n",
    "pollutantmean(\"specdata\", \"sulfate\", 34)"
   ]
  },
  {
   "cell_type": "code",
   "execution_count": 88,
   "metadata": {
    "collapsed": false
   },
   "outputs": [
    {
     "data": {
      "text/html": [
       "1.70293184286701"
      ],
      "text/latex": [
       "1.70293184286701"
      ],
      "text/markdown": [
       "1.70293184286701"
      ],
      "text/plain": [
       "[1] 1.702932"
      ]
     },
     "execution_count": 88,
     "metadata": {},
     "output_type": "execute_result"
    }
   ],
   "source": [
    "#problem 4\n",
    "pollutantmean(\"specdata\", \"nitrate\")"
   ]
  },
  {
   "cell_type": "code",
   "execution_count": 182,
   "metadata": {
    "collapsed": false
   },
   "outputs": [],
   "source": [
    "complete<-function(direct,id=1:332){\n",
    "    directory<-paste(\"~/Downloads/\",direct, sep=\"\")\n",
    "    files_list <- list.files(directory, full.names=TRUE)   \n",
    "    dat <- data.frame()                             \n",
    "    for (i in id) {                                \n",
    "        dat <- rbind(dat, read.csv(files_list[i]))\n",
    "        }\n",
    "    result <- data.frame()\n",
    "    for (j in id){\n",
    "        subs  <-subset(dat,dat$ID==j)       \n",
    "        c1 <- j\n",
    "        c2 <-sum(!is.na(subs$nitrate)&!is.na(subs$sulfate))\n",
    "        result<-rbind(result,c(c1,c2))\n",
    "    }\n",
    "        colnames(result)<-c(\"id\",\"nobs\")\n",
    "    return(result)             \n",
    "}"
   ]
  },
  {
   "cell_type": "code",
   "execution_count": 175,
   "metadata": {
    "collapsed": false
   },
   "outputs": [
    {
     "name": "stdout",
     "output_type": "stream",
     "text": [
      "[1] 228 148 124 165 104 460 232\n"
     ]
    }
   ],
   "source": [
    "#problem 5\n",
    "cc <- complete(\"specdata\", c(6, 10, 20, 34, 100, 200, 310))\n",
    "print(cc$nobs)"
   ]
  },
  {
   "cell_type": "code",
   "execution_count": 176,
   "metadata": {
    "collapsed": false
   },
   "outputs": [
    {
     "name": "stdout",
     "output_type": "stream",
     "text": [
      "[1] 219\n"
     ]
    }
   ],
   "source": [
    "#problem 6\n",
    "cc <- complete(\"specdata\", 54)\n",
    "print(cc$nobs)"
   ]
  },
  {
   "cell_type": "code",
   "execution_count": 178,
   "metadata": {
    "collapsed": false
   },
   "outputs": [
    {
     "name": "stdout",
     "output_type": "stream",
     "text": [
      " [1] 711 135  74 445 178  73  49   0 687 237\n"
     ]
    }
   ],
   "source": [
    "#problem 7\n",
    "set.seed(42)\n",
    "cc <- complete(\"specdata\", 332:1)\n",
    "use <- sample(332, 10)\n",
    "print(cc[use, \"nobs\"])"
   ]
  },
  {
   "cell_type": "code",
   "execution_count": 76,
   "metadata": {
    "collapsed": true
   },
   "outputs": [],
   "source": []
  },
  {
   "cell_type": "code",
   "execution_count": 77,
   "metadata": {
    "collapsed": false
   },
   "outputs": [
    {
     "data": {
      "text/html": [
       "1.70604735169492"
      ],
      "text/latex": [
       "1.70604735169492"
      ],
      "text/markdown": [
       "1.70604735169492"
      ],
      "text/plain": [
       "[1] 1.706047"
      ]
     },
     "execution_count": 77,
     "metadata": {},
     "output_type": "execute_result"
    }
   ],
   "source": [
    "#problem 8\n",
    "cr <- corr(\"specdata\")                \n",
    "cr <- sort(cr)                \n",
    "set.seed(868)                \n",
    "out <- round(cr[sample(length(cr), 5)], 4)\n",
    "print(out)"
   ]
  },
  {
   "cell_type": "code",
   "execution_count": 236,
   "metadata": {
    "collapsed": false
   },
   "outputs": [],
   "source": [
    "#calculate the full id, nobs table\n",
    "full<-complete(\"specdata\")"
   ]
  },
  {
   "cell_type": "code",
   "execution_count": 237,
   "metadata": {
    "collapsed": true
   },
   "outputs": [],
   "source": [
    "#calculate the full correlation function for all the id, with NA is removed\n",
    "complecorr<-function(direct,id=1:332){\n",
    "    directory<-paste(\"~/Downloads/\",direct, sep=\"\")\n",
    "    files_list <- list.files(directory, full.names=TRUE)   \n",
    "    dat <- data.frame()                             \n",
    "    for (i in id) {                      \n",
    "        newdat<-read.csv(files_list[i])\n",
    "        newdat<-na.omit(newdat)\n",
    "        dat <- rbind(dat, newdat)\n",
    "        }\n",
    "    result <- data.frame()\n",
    "    for (j in id){\n",
    "        subs  <-subset(dat,dat$ID==j)       \n",
    "        c1 <- j\n",
    "        c2 <-cor(subs$nitrate,subs$sulfate)\n",
    "        result<-rbind(result,c(c1,c2))\n",
    "    }\n",
    "        colnames(result)<-c(\"id\",\"cornobs\")\n",
    "    return(result)             \n",
    "}"
   ]
  },
  {
   "cell_type": "code",
   "execution_count": 238,
   "metadata": {
    "collapsed": false
   },
   "outputs": [],
   "source": [
    "fullcorr<-complecorr(\"specdata\")"
   ]
  },
  {
   "cell_type": "code",
   "execution_count": 239,
   "metadata": {
    "collapsed": false
   },
   "outputs": [
    {
     "data": {
      "text/html": [
       "<table>\n",
       "<thead><tr><th></th><th scope=col>id</th><th scope=col>cornobs</th></tr></thead>\n",
       "<tbody>\n",
       "\t<tr><th scope=row>1</th><td>1</td><td>-0.2225526</td></tr>\n",
       "\t<tr><th scope=row>2</th><td>2</td><td>-0.01895754</td></tr>\n",
       "\t<tr><th scope=row>3</th><td>3</td><td>-0.1405125</td></tr>\n",
       "\t<tr><th scope=row>4</th><td>4</td><td>-0.04389737</td></tr>\n",
       "\t<tr><th scope=row>5</th><td>5</td><td>-0.06815956</td></tr>\n",
       "\t<tr><th scope=row>6</th><td>6</td><td>-0.1235067</td></tr>\n",
       "</tbody>\n",
       "</table>\n"
      ],
      "text/latex": [
       "\\begin{tabular}{r|ll}\n",
       "  & id & cornobs\\\\\n",
       "\\hline\n",
       "\t1 & 1 & -0.2225526\\\\\n",
       "\t2 & 2 & -0.01895754\\\\\n",
       "\t3 & 3 & -0.1405125\\\\\n",
       "\t4 & 4 & -0.04389737\\\\\n",
       "\t5 & 5 & -0.06815956\\\\\n",
       "\t6 & 6 & -0.1235067\\\\\n",
       "\\end{tabular}\n"
      ],
      "text/plain": [
       "  id     cornobs\n",
       "1  1 -0.22255256\n",
       "2  2 -0.01895754\n",
       "3  3 -0.14051254\n",
       "4  4 -0.04389737\n",
       "5  5 -0.06815956\n",
       "6  6 -0.12350667"
      ]
     },
     "execution_count": 239,
     "metadata": {},
     "output_type": "execute_result"
    }
   ],
   "source": [
    "head(fullcorr)"
   ]
  },
  {
   "cell_type": "code",
   "execution_count": 240,
   "metadata": {
    "collapsed": false
   },
   "outputs": [],
   "source": [
    "corr<-function(direct,thre=0){\n",
    "    comp<-c()\n",
    "    for (i in 1:332){\n",
    "    if(full$nobs[i]>thre){\n",
    "        comp<-rbind(comp,fullcorr$cornobs[i])\n",
    "        }        \n",
    "    }    \n",
    "    return(comp)\n",
    "}"
   ]
  },
  {
   "cell_type": "code",
   "execution_count": 241,
   "metadata": {
    "collapsed": false
   },
   "outputs": [
    {
     "name": "stdout",
     "output_type": "stream",
     "text": [
      "[1]  0.2688  0.1127 -0.0085  0.4586  0.0447\n"
     ]
    }
   ],
   "source": [
    "#problem 8\n",
    "cr <- corr(\"specdata\")                \n",
    "cr <- sort(cr)                \n",
    "set.seed(868)                \n",
    "out <- round(cr[sample(length(cr), 5)], 4)\n",
    "print(out)"
   ]
  },
  {
   "cell_type": "code",
   "execution_count": 242,
   "metadata": {
    "collapsed": false
   },
   "outputs": [
    {
     "name": "stdout",
     "output_type": "stream",
     "text": [
      "[1] 243.0000   0.2540   0.0504  -0.1462  -0.1680   0.5969\n"
     ]
    }
   ],
   "source": [
    "#problem 9\n",
    "cr <- corr(\"specdata\", 129)                \n",
    "cr <- sort(cr)                \n",
    "n <- length(cr)                \n",
    "set.seed(197)                \n",
    "out <- c(n, round(cr[sample(n, 5)], 4))\n",
    "print(out)"
   ]
  },
  {
   "cell_type": "code",
   "execution_count": 243,
   "metadata": {
    "collapsed": false
   },
   "outputs": [
    {
     "name": "stdout",
     "output_type": "stream",
     "text": [
      "[1]  0.0000 -0.0190  0.0419  0.1901\n"
     ]
    }
   ],
   "source": [
    "#problem 10\n",
    "cr <- corr(\"specdata\", 2000)                \n",
    "n <- length(cr)                \n",
    "cr <- corr(\"specdata\", 1000)                \n",
    "cr <- sort(cr)\n",
    "print(c(n, round(cr, 4)))"
   ]
  },
  {
   "cell_type": "code",
   "execution_count": 244,
   "metadata": {
    "collapsed": true
   },
   "outputs": [],
   "source": [
    "###############Quiz 3###################\n",
    "####Problem 1\n",
    "library(datasets)\n",
    "data(iris)"
   ]
  },
  {
   "cell_type": "code",
   "execution_count": 246,
   "metadata": {
    "collapsed": false
   },
   "outputs": [
    {
     "data": {
      "text/html": [
       "<table>\n",
       "<thead><tr><th></th><th scope=col>Sepal.Length</th><th scope=col>Sepal.Width</th><th scope=col>Petal.Length</th><th scope=col>Petal.Width</th><th scope=col>Species</th></tr></thead>\n",
       "<tbody>\n",
       "\t<tr><th scope=row>1</th><td>5.1</td><td>3.5</td><td>1.4</td><td>0.2</td><td>setosa</td></tr>\n",
       "\t<tr><th scope=row>2</th><td>4.9</td><td>3</td><td>1.4</td><td>0.2</td><td>setosa</td></tr>\n",
       "\t<tr><th scope=row>3</th><td>4.7</td><td>3.2</td><td>1.3</td><td>0.2</td><td>setosa</td></tr>\n",
       "\t<tr><th scope=row>4</th><td>4.6</td><td>3.1</td><td>1.5</td><td>0.2</td><td>setosa</td></tr>\n",
       "\t<tr><th scope=row>5</th><td>5</td><td>3.6</td><td>1.4</td><td>0.2</td><td>setosa</td></tr>\n",
       "\t<tr><th scope=row>6</th><td>5.4</td><td>3.9</td><td>1.7</td><td>0.4</td><td>setosa</td></tr>\n",
       "</tbody>\n",
       "</table>\n"
      ],
      "text/latex": [
       "\\begin{tabular}{r|lllll}\n",
       "  & Sepal.Length & Sepal.Width & Petal.Length & Petal.Width & Species\\\\\n",
       "\\hline\n",
       "\t1 & 5.1 & 3.5 & 1.4 & 0.2 & setosa\\\\\n",
       "\t2 & 4.9 & 3 & 1.4 & 0.2 & setosa\\\\\n",
       "\t3 & 4.7 & 3.2 & 1.3 & 0.2 & setosa\\\\\n",
       "\t4 & 4.6 & 3.1 & 1.5 & 0.2 & setosa\\\\\n",
       "\t5 & 5 & 3.6 & 1.4 & 0.2 & setosa\\\\\n",
       "\t6 & 5.4 & 3.9 & 1.7 & 0.4 & setosa\\\\\n",
       "\\end{tabular}\n"
      ],
      "text/plain": [
       "  Sepal.Length Sepal.Width Petal.Length Petal.Width Species\n",
       "1          5.1         3.5          1.4         0.2  setosa\n",
       "2          4.9         3.0          1.4         0.2  setosa\n",
       "3          4.7         3.2          1.3         0.2  setosa\n",
       "4          4.6         3.1          1.5         0.2  setosa\n",
       "5          5.0         3.6          1.4         0.2  setosa\n",
       "6          5.4         3.9          1.7         0.4  setosa"
      ]
     },
     "execution_count": 246,
     "metadata": {},
     "output_type": "execute_result"
    }
   ],
   "source": [
    "head(iris)"
   ]
  },
  {
   "cell_type": "code",
   "execution_count": 278,
   "metadata": {
    "collapsed": false
   },
   "outputs": [
    {
     "data": {
      "text/html": [
       "<dl class=dl-horizontal>\n",
       "\t<dt>setosa</dt>\n",
       "\t\t<dd>5.006</dd>\n",
       "\t<dt>versicolor</dt>\n",
       "\t\t<dd>5.936</dd>\n",
       "\t<dt>virginica</dt>\n",
       "\t\t<dd>6.588</dd>\n",
       "</dl>\n"
      ],
      "text/latex": [
       "\\begin{description*}\n",
       "\\item[setosa] 5.006\n",
       "\\item[versicolor] 5.936\n",
       "\\item[virginica] 6.588\n",
       "\\end{description*}\n"
      ],
      "text/markdown": [
       "setosa\n",
       ":   5.006versicolor\n",
       ":   5.936virginica\n",
       ":   6.588\n",
       "\n"
      ],
      "text/plain": [
       "    setosa versicolor  virginica \n",
       "     5.006      5.936      6.588 "
      ]
     },
     "execution_count": 278,
     "metadata": {},
     "output_type": "execute_result"
    }
   ],
   "source": [
    "tapply(iris$Sepal.Length,iris$Species,mean)"
   ]
  },
  {
   "cell_type": "code",
   "execution_count": 262,
   "metadata": {
    "collapsed": false
   },
   "outputs": [
    {
     "name": "stdout",
     "output_type": "stream",
     "text": [
      "'data.frame':\t32 obs. of  11 variables:\n",
      " $ mpg : num  21 21 22.8 21.4 18.7 18.1 14.3 24.4 22.8 19.2 ...\n",
      " $ cyl : num  6 6 4 6 8 6 8 4 4 6 ...\n",
      " $ disp: num  160 160 108 258 360 ...\n",
      " $ hp  : num  110 110 93 110 175 105 245 62 95 123 ...\n",
      " $ drat: num  3.9 3.9 3.85 3.08 3.15 2.76 3.21 3.69 3.92 3.92 ...\n",
      " $ wt  : num  2.62 2.88 2.32 3.21 3.44 ...\n",
      " $ qsec: num  16.5 17 18.6 19.4 17 ...\n",
      " $ vs  : num  0 0 1 1 0 1 0 1 1 1 ...\n",
      " $ am  : num  1 1 1 0 0 0 0 0 0 0 ...\n",
      " $ gear: num  4 4 4 3 3 3 3 4 4 4 ...\n",
      " $ carb: num  4 4 1 1 2 1 4 2 2 4 ...\n"
     ]
    }
   ],
   "source": [
    "str(mtcars)"
   ]
  },
  {
   "cell_type": "code",
   "execution_count": 271,
   "metadata": {
    "collapsed": false
   },
   "outputs": [
    {
     "data": {
      "text/html": [
       "<dl class=dl-horizontal>\n",
       "\t<dt>4</dt>\n",
       "\t\t<dd>26.6636363636364</dd>\n",
       "\t<dt>6</dt>\n",
       "\t\t<dd>19.7428571428571</dd>\n",
       "\t<dt>8</dt>\n",
       "\t\t<dd>15.1</dd>\n",
       "</dl>\n"
      ],
      "text/latex": [
       "\\begin{description*}\n",
       "\\item[4] 26.6636363636364\n",
       "\\item[6] 19.7428571428571\n",
       "\\item[8] 15.1\n",
       "\\end{description*}\n"
      ],
      "text/markdown": [
       "4\n",
       ":   26.66363636363646\n",
       ":   19.74285714285718\n",
       ":   15.1\n",
       "\n"
      ],
      "text/plain": [
       "       4        6        8 \n",
       "26.66364 19.74286 15.10000 "
      ]
     },
     "execution_count": 271,
     "metadata": {},
     "output_type": "execute_result"
    }
   ],
   "source": [
    "######Problem 3\n",
    "sapply(split(mtcars$mpg, mtcars$cyl), mean)"
   ]
  },
  {
   "cell_type": "code",
   "execution_count": 272,
   "metadata": {
    "collapsed": false
   },
   "outputs": [
    {
     "data": {
      "text/html": [
       "<dl class=dl-horizontal>\n",
       "\t<dt>4</dt>\n",
       "\t\t<dd>26.6636363636364</dd>\n",
       "\t<dt>6</dt>\n",
       "\t\t<dd>19.7428571428571</dd>\n",
       "\t<dt>8</dt>\n",
       "\t\t<dd>15.1</dd>\n",
       "</dl>\n"
      ],
      "text/latex": [
       "\\begin{description*}\n",
       "\\item[4] 26.6636363636364\n",
       "\\item[6] 19.7428571428571\n",
       "\\item[8] 15.1\n",
       "\\end{description*}\n"
      ],
      "text/markdown": [
       "4\n",
       ":   26.66363636363646\n",
       ":   19.74285714285718\n",
       ":   15.1\n",
       "\n"
      ],
      "text/plain": [
       "       4        6        8 \n",
       "26.66364 19.74286 15.10000 "
      ]
     },
     "execution_count": 272,
     "metadata": {},
     "output_type": "execute_result"
    }
   ],
   "source": [
    "tapply(mtcars$mpg, mtcars$cyl, mean)"
   ]
  },
  {
   "cell_type": "code",
   "execution_count": 275,
   "metadata": {
    "collapsed": false
   },
   "outputs": [],
   "source": [
    "#####Problem 4\n",
    "x<-tapply(mtcars$hp, mtcars$cyl, mean)"
   ]
  },
  {
   "cell_type": "code",
   "execution_count": 276,
   "metadata": {
    "collapsed": false
   },
   "outputs": [
    {
     "data": {
      "text/html": [
       "<strong>8:</strong> 126.577922077922"
      ],
      "text/latex": [
       "\\textbf{8:} 126.577922077922"
      ],
      "text/markdown": [
       "**8:** 126.577922077922"
      ],
      "text/plain": [
       "       8 \n",
       "126.5779 "
      ]
     },
     "execution_count": 276,
     "metadata": {},
     "output_type": "execute_result"
    }
   ],
   "source": [
    "x[3]-x[1]"
   ]
  },
  {
   "cell_type": "code",
   "execution_count": 34,
   "metadata": {
    "collapsed": true
   },
   "outputs": [],
   "source": [
    "#########Assignment 3 Quiz\n",
    "## Problem 1\n",
    "hosp1<-read.csv(\"~/data/R/outcome-of-care-measures.csv\")"
   ]
  },
  {
   "cell_type": "code",
   "execution_count": 35,
   "metadata": {
    "collapsed": true
   },
   "outputs": [],
   "source": [
    "names(hosp1) <- gsub(pattern = \"\\\\.\", replacement = \"\", x = names(hosp1))\n",
    "names(hosp1) <- tolower(names(hosp1))"
   ]
  },
  {
   "cell_type": "code",
   "execution_count": 152,
   "metadata": {
    "collapsed": false
   },
   "outputs": [
    {
     "data": {
      "text/html": [
       "<ol class=list-inline>\n",
       "\t<li>14.3</li>\n",
       "\t<li>18.5</li>\n",
       "\t<li>18.1</li>\n",
       "\t<li>Not Available</li>\n",
       "\t<li>Not Available</li>\n",
       "\t<li>Not Available</li>\n",
       "</ol>\n"
      ],
      "text/latex": [
       "\\begin{enumerate*}\n",
       "\\item 14.3\n",
       "\\item 18.5\n",
       "\\item 18.1\n",
       "\\item Not Available\n",
       "\\item Not Available\n",
       "\\item Not Available\n",
       "\\end{enumerate*}\n"
      ],
      "text/markdown": [
       "1. 14.3\n",
       "2. 18.5\n",
       "3. 18.1\n",
       "4. Not Available\n",
       "5. Not Available\n",
       "6. Not Available\n",
       "\n",
       "\n"
      ],
      "text/plain": [
       "[1] 14.3          18.5          18.1          Not Available Not Available\n",
       "[6] Not Available\n",
       "96 Levels: 10.1 10.4 10.5 10.6 10.7 11.0 11.2 11.4 11.5 11.8 11.9 12.0 ... Not Available"
      ]
     },
     "execution_count": 152,
     "metadata": {},
     "output_type": "execute_result"
    },
    {
     "data": {
      "text/html": [
       "<ol class=list-inline>\n",
       "\t<li>4706</li>\n",
       "\t<li>46</li>\n",
       "</ol>\n"
      ],
      "text/latex": [
       "\\begin{enumerate*}\n",
       "\\item 4706\n",
       "\\item 46\n",
       "\\end{enumerate*}\n"
      ],
      "text/markdown": [
       "1. 4706\n",
       "2. 46\n",
       "\n",
       "\n"
      ],
      "text/plain": [
       "[1] 4706   46"
      ]
     },
     "execution_count": 152,
     "metadata": {},
     "output_type": "execute_result"
    }
   ],
   "source": [
    "#str(hosp1)\n",
    "head(hosp1$\"hospital30daydeathmortalityratesfromheartattack\")\n",
    "#head(hosp1$\"Phone Number\")\n",
    "dim(hosp1)"
   ]
  },
  {
   "cell_type": "code",
   "execution_count": 171,
   "metadata": {
    "collapsed": false
   },
   "outputs": [],
   "source": [
    "best <- function(instate, outcome) {\n",
    "    outcome<-gsub(pattern = \" \", replacement = \"\", x = outcome)\n",
    "    outcome<-tolower(outcome)\n",
    "    out<-paste(\"hospital30daydeathmortalityratesfrom\",outcome, sep=\"\")\n",
    "    hosp1[[out]]<-as.numeric(as.character(hosp1[[out]]))\n",
    "\n",
    "    x<-tapply(hosp1[[out]],hosp1$state,which.min) \n",
    "    inx<-data.frame(stateNM=names(x), value=x)\n",
    " \n",
    "    x1<-subset(hosp1,hosp1$state==instate)\n",
    "    inv<-inx[which(inx$stateNM==instate),2]\n",
    "    x1[inv,2]\n",
    "    }"
   ]
  },
  {
   "cell_type": "code",
   "execution_count": 172,
   "metadata": {
    "collapsed": false
   },
   "outputs": [
    {
     "name": "stderr",
     "output_type": "stream",
     "text": [
      "Warning message:\n",
      "In best(\"SC\", \"Heart Attack\"): NAs introduced by coercion"
     ]
    },
    {
     "data": {
      "text/html": [
       "MUSC MEDICAL CENTER"
      ],
      "text/latex": [
       "MUSC MEDICAL CENTER"
      ],
      "text/markdown": [
       "MUSC MEDICAL CENTER"
      ],
      "text/plain": [
       "[1] MUSC MEDICAL CENTER\n",
       "4510 Levels: ABBEVILLE AREA MEDICAL CENTER ... ZUNI COMPREHENSIVE COMMUNITY HEALTH CENTER"
      ]
     },
     "execution_count": 172,
     "metadata": {},
     "output_type": "execute_result"
    }
   ],
   "source": [
    "########Problem 1~3\n",
    "best(\"SC\", \"Heart Attack\")"
   ]
  },
  {
   "cell_type": "code",
   "execution_count": 173,
   "metadata": {
    "collapsed": false
   },
   "outputs": [
    {
     "name": "stderr",
     "output_type": "stream",
     "text": [
      "Warning message:\n",
      "In best(\"NY\", \"pneumonia\"): NAs introduced by coercion"
     ]
    },
    {
     "data": {
      "text/html": [
       "MAIMONIDES MEDICAL CENTER"
      ],
      "text/latex": [
       "MAIMONIDES MEDICAL CENTER"
      ],
      "text/markdown": [
       "MAIMONIDES MEDICAL CENTER"
      ],
      "text/plain": [
       "[1] MAIMONIDES MEDICAL CENTER\n",
       "4510 Levels: ABBEVILLE AREA MEDICAL CENTER ... ZUNI COMPREHENSIVE COMMUNITY HEALTH CENTER"
      ]
     },
     "execution_count": 173,
     "metadata": {},
     "output_type": "execute_result"
    }
   ],
   "source": [
    "best(\"NY\", \"pneumonia\")"
   ]
  },
  {
   "cell_type": "code",
   "execution_count": 174,
   "metadata": {
    "collapsed": false
   },
   "outputs": [
    {
     "name": "stderr",
     "output_type": "stream",
     "text": [
      "Warning message:\n",
      "In best(\"AK\", \"pneumonia\"): NAs introduced by coercion"
     ]
    },
    {
     "data": {
      "text/html": [
       "YUKON KUSKOKWIM DELTA REG HOSPITAL"
      ],
      "text/latex": [
       "YUKON KUSKOKWIM DELTA REG HOSPITAL"
      ],
      "text/markdown": [
       "YUKON KUSKOKWIM DELTA REG HOSPITAL"
      ],
      "text/plain": [
       "[1] YUKON KUSKOKWIM DELTA REG HOSPITAL\n",
       "4510 Levels: ABBEVILLE AREA MEDICAL CENTER ... ZUNI COMPREHENSIVE COMMUNITY HEALTH CENTER"
      ]
     },
     "execution_count": 174,
     "metadata": {},
     "output_type": "execute_result"
    }
   ],
   "source": [
    "best(\"AK\", \"pneumonia\")"
   ]
  },
  {
   "cell_type": "code",
   "execution_count": 175,
   "metadata": {
    "collapsed": false
   },
   "outputs": [
    {
     "name": "stderr",
     "output_type": "stream",
     "text": [
      "Warning message:\n",
      "In best(\"TX\", \"heart failure\"): NAs introduced by coercion"
     ]
    },
    {
     "data": {
      "text/html": [
       "FORT DUNCAN MEDICAL CENTER"
      ],
      "text/latex": [
       "FORT DUNCAN MEDICAL CENTER"
      ],
      "text/markdown": [
       "FORT DUNCAN MEDICAL CENTER"
      ],
      "text/plain": [
       "[1] FORT DUNCAN MEDICAL CENTER\n",
       "4510 Levels: ABBEVILLE AREA MEDICAL CENTER ... ZUNI COMPREHENSIVE COMMUNITY HEALTH CENTER"
      ]
     },
     "execution_count": 175,
     "metadata": {},
     "output_type": "execute_result"
    }
   ],
   "source": [
    " best(\"TX\", \"heart failure\")"
   ]
  },
  {
   "cell_type": "code",
   "execution_count": 280,
   "metadata": {
    "collapsed": false
   },
   "outputs": [],
   "source": [
    "rankhospital <- function(instate, outcome, num ) {\n",
    "    outcome<-gsub(pattern = \" \", replacement = \"\", x = outcome)\n",
    "    outcome<-tolower(outcome)\n",
    "    out<-paste(\"hospital30daydeathmortalityratesfrom\",outcome, sep=\"\")\n",
    "    hosp1[[out]]<-as.numeric(as.character(hosp1[[out]]))\n",
    "\n",
    "    x1<-subset(hosp1,hosp1$state==instate)\n",
    "    x1[rowSums(is.na(x1[,c(\"hospitalname\",out)]))==0,]\n",
    "\n",
    "    x1[ complete.cases(x1[,c(\"hospitalname\",out)]), ]\n",
    "    \n",
    "    x2<-x1[order(x1[[out]],x1$hospitalname),]\n",
    "\n",
    "    L<-nrow(x2)\n",
    "    if(num==\"best\"){\n",
    "        x2$hospitalname[1]}\n",
    "    else if (num==\"worst\"){\n",
    "        x2$hospitalname[L]}\n",
    "    else{\n",
    "        x2$hospitalname[num]\n",
    "    }\n",
    "#     print(x2$hospitalname[num]) \n",
    "#     print(x2[[out]][num])\n",
    "    x2[,c(\"hospitalname\",out)]\n",
    "}"
   ]
  },
  {
   "cell_type": "code",
   "execution_count": 271,
   "metadata": {
    "collapsed": false
   },
   "outputs": [
    {
     "name": "stderr",
     "output_type": "stream",
     "text": [
      "Warning message:\n",
      "In rankhospital(\"MD\", \"heart attack\", \"worst\"): NAs introduced by coercion"
     ]
    },
    {
     "data": {
      "text/html": [
       "MARYLAND GENERAL  HOSPITAL"
      ],
      "text/latex": [
       "MARYLAND GENERAL  HOSPITAL"
      ],
      "text/markdown": [
       "MARYLAND GENERAL  HOSPITAL"
      ],
      "text/plain": [
       "[1] MARYLAND GENERAL  HOSPITAL\n",
       "4510 Levels: ABBEVILLE AREA MEDICAL CENTER ... ZUNI COMPREHENSIVE COMMUNITY HEALTH CENTER"
      ]
     },
     "execution_count": 271,
     "metadata": {},
     "output_type": "execute_result"
    }
   ],
   "source": [
    "rankhospital(\"MD\", \"heart attack\", \"worst\")"
   ]
  },
  {
   "cell_type": "code",
   "execution_count": 272,
   "metadata": {
    "collapsed": false
   },
   "outputs": [
    {
     "name": "stderr",
     "output_type": "stream",
     "text": [
      "Warning message:\n",
      "In rankhospital(\"NC\", \"heart attack\", \"worst\"): NAs introduced by coercion"
     ]
    },
    {
     "data": {
      "text/html": [
       "YADKIN VALLEY COMMUNITY HOSPITAL"
      ],
      "text/latex": [
       "YADKIN VALLEY COMMUNITY HOSPITAL"
      ],
      "text/markdown": [
       "YADKIN VALLEY COMMUNITY HOSPITAL"
      ],
      "text/plain": [
       "[1] YADKIN VALLEY COMMUNITY HOSPITAL\n",
       "4510 Levels: ABBEVILLE AREA MEDICAL CENTER ... ZUNI COMPREHENSIVE COMMUNITY HEALTH CENTER"
      ]
     },
     "execution_count": 272,
     "metadata": {},
     "output_type": "execute_result"
    }
   ],
   "source": [
    "rankhospital(\"NC\", \"heart attack\", \"worst\")"
   ]
  },
  {
   "cell_type": "code",
   "execution_count": 273,
   "metadata": {
    "collapsed": false
   },
   "outputs": [
    {
     "name": "stderr",
     "output_type": "stream",
     "text": [
      "Warning message:\n",
      "In rankhospital(\"WA\", \"heart attack\", 7): NAs introduced by coercion"
     ]
    },
    {
     "data": {
      "text/html": [
       "YAKIMA VALLEY MEMORIAL HOSPITAL"
      ],
      "text/latex": [
       "YAKIMA VALLEY MEMORIAL HOSPITAL"
      ],
      "text/markdown": [
       "YAKIMA VALLEY MEMORIAL HOSPITAL"
      ],
      "text/plain": [
       "[1] YAKIMA VALLEY MEMORIAL HOSPITAL\n",
       "4510 Levels: ABBEVILLE AREA MEDICAL CENTER ... ZUNI COMPREHENSIVE COMMUNITY HEALTH CENTER"
      ]
     },
     "execution_count": 273,
     "metadata": {},
     "output_type": "execute_result"
    }
   ],
   "source": [
    "rankhospital(\"WA\", \"heart attack\", 7)"
   ]
  },
  {
   "cell_type": "code",
   "execution_count": 274,
   "metadata": {
    "collapsed": false
   },
   "outputs": [
    {
     "name": "stderr",
     "output_type": "stream",
     "text": [
      "Warning message:\n",
      "In rankhospital(\"TX\", \"pneumonia\", 10): NAs introduced by coercion"
     ]
    },
    {
     "data": {
      "text/html": [
       "SETON SMITHVILLE REGIONAL HOSPITAL"
      ],
      "text/latex": [
       "SETON SMITHVILLE REGIONAL HOSPITAL"
      ],
      "text/markdown": [
       "SETON SMITHVILLE REGIONAL HOSPITAL"
      ],
      "text/plain": [
       "[1] SETON SMITHVILLE REGIONAL HOSPITAL\n",
       "4510 Levels: ABBEVILLE AREA MEDICAL CENTER ... ZUNI COMPREHENSIVE COMMUNITY HEALTH CENTER"
      ]
     },
     "execution_count": 274,
     "metadata": {},
     "output_type": "execute_result"
    }
   ],
   "source": [
    "rankhospital(\"TX\", \"pneumonia\", 10)"
   ]
  },
  {
   "cell_type": "code",
   "execution_count": 275,
   "metadata": {
    "collapsed": false
   },
   "outputs": [
    {
     "name": "stderr",
     "output_type": "stream",
     "text": [
      "Warning message:\n",
      "In rankhospital(\"NY\", \"heart attack\", 7): NAs introduced by coercion"
     ]
    },
    {
     "data": {
      "text/html": [
       "BELLEVUE HOSPITAL CENTER"
      ],
      "text/latex": [
       "BELLEVUE HOSPITAL CENTER"
      ],
      "text/markdown": [
       "BELLEVUE HOSPITAL CENTER"
      ],
      "text/plain": [
       "[1] BELLEVUE HOSPITAL CENTER\n",
       "4510 Levels: ABBEVILLE AREA MEDICAL CENTER ... ZUNI COMPREHENSIVE COMMUNITY HEALTH CENTER"
      ]
     },
     "execution_count": 275,
     "metadata": {},
     "output_type": "execute_result"
    }
   ],
   "source": [
    "rankhospital(\"NY\", \"heart attack\", 7)"
   ]
  },
  {
   "cell_type": "code",
   "execution_count": 276,
   "metadata": {
    "collapsed": false
   },
   "outputs": [
    {
     "name": "stderr",
     "output_type": "stream",
     "text": [
      "Warning message:\n",
      "In rankhospital(\"HI\", \"heart attack\", 4): NAs introduced by coercion"
     ]
    },
    {
     "data": {
      "text/html": [
       "CASTLE MEDICAL CENTER"
      ],
      "text/latex": [
       "CASTLE MEDICAL CENTER"
      ],
      "text/markdown": [
       "CASTLE MEDICAL CENTER"
      ],
      "text/plain": [
       "[1] CASTLE MEDICAL CENTER\n",
       "4510 Levels: ABBEVILLE AREA MEDICAL CENTER ... ZUNI COMPREHENSIVE COMMUNITY HEALTH CENTER"
      ]
     },
     "execution_count": 276,
     "metadata": {},
     "output_type": "execute_result"
    }
   ],
   "source": [
    "rankhospital(\"HI\", \"heart attack\", 4)"
   ]
  },
  {
   "cell_type": "code",
   "execution_count": 281,
   "metadata": {
    "collapsed": false
   },
   "outputs": [
    {
     "name": "stderr",
     "output_type": "stream",
     "text": [
      "Warning message:\n",
      "In rankhospital(\"NJ\", \"pneumonia\", \"worst\"): NAs introduced by coercionWarning message:\n",
      "In `[<-.factor`(`*tmp*`, ri, value = \"⋮\"): invalid factor level, NA generatedWarning message:\n",
      "In `[<-.factor`(`*tmp*`, ri, value = \"⋮\"): invalid factor level, NA generated"
     ]
    },
    {
     "data": {
      "text/html": [
       "<table>\n",
       "<thead><tr><th></th><th scope=col>hospitalname</th><th scope=col>hospital30daydeathmortalityratesfrompneumonia</th></tr></thead>\n",
       "<tbody>\n",
       "\t<tr><th scope=row>2667</th><td>ENGLEWOOD HOSPITAL AND MEDICAL CENTER</td><td>8.9</td></tr>\n",
       "\t<tr><th scope=row>2665</th><td>COMMUNITY MEDICAL CENTER</td><td>9.2</td></tr>\n",
       "\t<tr><th scope=row>2687</th><td>KIMBALL MEDICAL CENTER</td><td>9.5</td></tr>\n",
       "\t<tr><th scope=row>2644</th><td>CAPE REGIONAL MEDICAL CENTER INC</td><td>9.6</td></tr>\n",
       "\t<tr><th scope=row>2686</th><td>EAST ORANGE GENERAL HOSPITAL</td><td>9.6</td></tr>\n",
       "\t<tr><th scope=row>2662</th><td>ROBERT WOOD JOHNSON UNIVERSITY HOSPITAL</td><td>9.6</td></tr>\n",
       "\t<tr><th scope=row>2670</th><td>SAINT CLARE'S HOSPITAL</td><td>9.6</td></tr>\n",
       "\t<tr><th scope=row>2680</th><td>SAINT PETER'S UNIVERSITY HOSPITAL</td><td>9.6</td></tr>\n",
       "\t<tr><th scope=row>2636</th><td>HACKENSACK UNIVERSITY MEDICAL CENTER</td><td>9.7</td></tr>\n",
       "\t<tr><th scope=row>2663</th><td>RARITAN BAY MEDICAL CENTER</td><td>9.7</td></tr>\n",
       "\t<tr><th scope=row>2681</th><td>JERSEY SHORE UNIVERSITY MEDICAL CENTER</td><td>9.8</td></tr>\n",
       "\t<tr><th scope=row>2647</th><td>MORRISTOWN MEMORIAL HOSPITAL</td><td>9.8</td></tr>\n",
       "\t<tr><th scope=row>2661</th><td>RIVERVIEW MEDICAL CENTER</td><td>9.8</td></tr>\n",
       "\t<tr><th scope=row>2668</th><td>SHORE MEDICAL CENTER</td><td>9.9</td></tr>\n",
       "\t<tr><th scope=row>2699</th><td>UMDNJ UNIVERSITY HOSPITAL</td><td>9.9</td></tr>\n",
       "\t<tr><th scope=row>2643</th><td>UNIV MEDICAL CENTER OF PRINCETON AT PLAINSBORO</td><td>9.9</td></tr>\n",
       "\t<tr><th scope=row>2658</th><td>OUR LADY OF LOURDES MEDICAL CENTER</td><td>10</td></tr>\n",
       "\t<tr><th scope=row>2649</th><td>CHILTON HOSPITAL</td><td>10.1</td></tr>\n",
       "\t<tr><th scope=row>2697</th><td>HACKETTSTOWN REGIONAL MEDICAL CENTER</td><td>10.1</td></tr>\n",
       "\t<tr><th scope=row>2641</th><td>HOLY NAME MEDICAL CENTER</td><td>10.1</td></tr>\n",
       "\t<tr><th scope=row>2683</th><td>MONMOUTH MEDICAL CENTER</td><td>10.1</td></tr>\n",
       "\t<tr><th scope=row>2684</th><td>SAINT BARNABAS MEDICAL CENTER</td><td>10.1</td></tr>\n",
       "\t<tr><th scope=row>2657</th><td>NEWTON MEMORIAL HOSPITAL</td><td>10.2</td></tr>\n",
       "\t<tr><th scope=row>2672</th><td>OCEAN MEDICAL CENTER</td><td>10.5</td></tr>\n",
       "\t<tr><th scope=row>2671</th><td>OVERLOOK HOSPITAL</td><td>10.5</td></tr>\n",
       "\t<tr><th scope=row>2690</th><td>CAPITAL HEALTH SYSTEM-FULD CAMPUS</td><td>10.6</td></tr>\n",
       "\t<tr><th scope=row>2673</th><td>MOUNTAINSIDE HOSPITAL</td><td>10.6</td></tr>\n",
       "\t<tr><th scope=row>2653</th><td>VIRTUA WEST JERSEY HOSPITALS BERLIN</td><td>10.6</td></tr>\n",
       "\t<tr><th scope=row>2642</th><td>CLARA MAASS MEDICAL CENTER</td><td>10.7</td></tr>\n",
       "\t<tr><th scope=row>2645</th><td>VALLEY HOSPITAL</td><td>10.7</td></tr>\n",
       "\t<tr><th scope=row>31</th><td>NA</td><td>⋮</td></tr>\n",
       "\t<tr><th scope=row>2677</th><td>LOURDES MEDICAL CENTER OF BURLINGTON COUNTY</td><td>11.3</td></tr>\n",
       "\t<tr><th scope=row>2695</th><td>BAYSHORE COMMUNITY HOSPITAL</td><td>11.5</td></tr>\n",
       "\t<tr><th scope=row>2696</th><td>SOUTHERN OCEAN MEDICAL CENTER</td><td>11.5</td></tr>\n",
       "\t<tr><th scope=row>2700</th><td>SAINT CLARE'S HOSPITAL/SUSSEX</td><td>11.6</td></tr>\n",
       "\t<tr><th scope=row>2646</th><td>COOPER UNIVERSITY HOSPITAL</td><td>11.7</td></tr>\n",
       "\t<tr><th scope=row>2638</th><td>PALISADES MEDICAL CTR-NY PRESBYTERIAN HEALTHCARE S</td><td>11.7</td></tr>\n",
       "\t<tr><th scope=row>2678</th><td>ATLANTICARE REGIONAL MEDICAL CENTER - CITY DIV</td><td>11.8</td></tr>\n",
       "\t<tr><th scope=row>2694</th><td>CENTRASTATE MEDICAL CENTER</td><td>11.9</td></tr>\n",
       "\t<tr><th scope=row>2639</th><td>HUNTERDON MEDICAL CENTER</td><td>12.1</td></tr>\n",
       "\t<tr><th scope=row>2689</th><td>MEMORIAL HOSPITAL OF SALEM COUNTY</td><td>12.2</td></tr>\n",
       "\t<tr><th scope=row>2664</th><td>HOBOKEN UNIVERSITY MEDICAL CENTER</td><td>12.3</td></tr>\n",
       "\t<tr><th scope=row>2676</th><td>ST LUKE'S WARREN HOSPITAL</td><td>12.3</td></tr>\n",
       "\t<tr><th scope=row>2698</th><td>MEADOWLANDS HOSPITAL MEDICAL CENTER</td><td>12.6</td></tr>\n",
       "\t<tr><th scope=row>2654</th><td>ROBERT WOOD JOHNSON UNIVERSITY HOSPITAL AT RAHWAY</td><td>12.6</td></tr>\n",
       "\t<tr><th scope=row>2669</th><td>SOMERSET MEDICAL CENTER</td><td>12.7</td></tr>\n",
       "\t<tr><th scope=row>2655</th><td>BAYONNE HOSPITAL CENTER</td><td>12.9</td></tr>\n",
       "\t<tr><th scope=row>2691</th><td>SAINT MICHAEL'S MEDICAL CENTER, INC</td><td>13.1</td></tr>\n",
       "\t<tr><th scope=row>2650</th><td>ST JOSEPH'S REGIONAL MEDICAL CENTER</td><td>13.1</td></tr>\n",
       "\t<tr><th scope=row>2652</th><td>ST FRANCIS MEDICAL CENTER</td><td>13.2</td></tr>\n",
       "\t<tr><th scope=row>2674</th><td>VIRTUA MEMORIAL HOSPITAL OF BURLINGTON COUNTY</td><td>13.2</td></tr>\n",
       "\t<tr><th scope=row>2666</th><td>CAPITAL HEALTH MEDICAL CENTER - HOPEWELL</td><td>13.4</td></tr>\n",
       "\t<tr><th scope=row>2659</th><td>DEBORAH HEART AND LUNG CENTER</td><td>13.4</td></tr>\n",
       "\t<tr><th scope=row>2693</th><td>ROBERT WOOD JOHNSON UNIVERSITY HOSPITAL HAMILTON</td><td>13.5</td></tr>\n",
       "\t<tr><th scope=row>2651</th><td>VA NEW JERSEY HEALTH CARE SYSTEM</td><td>13.7</td></tr>\n",
       "\t<tr><th scope=row>2648</th><td>CHRIST HOSPITAL</td><td>13.8</td></tr>\n",
       "\t<tr><th scope=row>2656</th><td>TRINITAS REGIONAL MEDICAL CENTER</td><td>14</td></tr>\n",
       "\t<tr><th scope=row>2660</th><td>SOUTH JERSEY HEALTHCARE REGIONAL MEDICAL CENTER</td><td>14.1</td></tr>\n",
       "\t<tr><th scope=row>2640</th><td>ST MARY'S HOSPITAL, PASSAIC</td><td>14.1</td></tr>\n",
       "\t<tr><th scope=row>2692</th><td>JFK MEDICAL CTR - ANTHONY M. YELENCSICS COMMUNITY</td><td>14.5</td></tr>\n",
       "\t<tr><th scope=row>2675</th><td>BERGEN REGIONAL MEDICAL CENTER</td><td>16</td></tr>\n",
       "</tbody>\n",
       "</table>\n"
      ],
      "text/latex": [
       "\\begin{tabular}{r|ll}\n",
       "  & hospitalname & hospital30daydeathmortalityratesfrompneumonia\\\\\n",
       "\\hline\n",
       "\t2667 & ENGLEWOOD HOSPITAL AND MEDICAL CENTER & 8.9\\\\\n",
       "\t2665 & COMMUNITY MEDICAL CENTER & 9.2\\\\\n",
       "\t2687 & KIMBALL MEDICAL CENTER & 9.5\\\\\n",
       "\t2644 & CAPE REGIONAL MEDICAL CENTER INC & 9.6\\\\\n",
       "\t2686 & EAST ORANGE GENERAL HOSPITAL & 9.6\\\\\n",
       "\t2662 & ROBERT WOOD JOHNSON UNIVERSITY HOSPITAL & 9.6\\\\\n",
       "\t2670 & SAINT CLARE'S HOSPITAL & 9.6\\\\\n",
       "\t2680 & SAINT PETER'S UNIVERSITY HOSPITAL & 9.6\\\\\n",
       "\t2636 & HACKENSACK UNIVERSITY MEDICAL CENTER & 9.7\\\\\n",
       "\t2663 & RARITAN BAY MEDICAL CENTER & 9.7\\\\\n",
       "\t2681 & JERSEY SHORE UNIVERSITY MEDICAL CENTER & 9.8\\\\\n",
       "\t2647 & MORRISTOWN MEMORIAL HOSPITAL & 9.8\\\\\n",
       "\t2661 & RIVERVIEW MEDICAL CENTER & 9.8\\\\\n",
       "\t2668 & SHORE MEDICAL CENTER & 9.9\\\\\n",
       "\t2699 & UMDNJ UNIVERSITY HOSPITAL & 9.9\\\\\n",
       "\t2643 & UNIV MEDICAL CENTER OF PRINCETON AT PLAINSBORO & 9.9\\\\\n",
       "\t2658 & OUR LADY OF LOURDES MEDICAL CENTER & 10\\\\\n",
       "\t2649 & CHILTON HOSPITAL & 10.1\\\\\n",
       "\t2697 & HACKETTSTOWN REGIONAL MEDICAL CENTER & 10.1\\\\\n",
       "\t2641 & HOLY NAME MEDICAL CENTER & 10.1\\\\\n",
       "\t2683 & MONMOUTH MEDICAL CENTER & 10.1\\\\\n",
       "\t2684 & SAINT BARNABAS MEDICAL CENTER & 10.1\\\\\n",
       "\t2657 & NEWTON MEMORIAL HOSPITAL & 10.2\\\\\n",
       "\t2672 & OCEAN MEDICAL CENTER & 10.5\\\\\n",
       "\t2671 & OVERLOOK HOSPITAL & 10.5\\\\\n",
       "\t2690 & CAPITAL HEALTH SYSTEM-FULD CAMPUS & 10.6\\\\\n",
       "\t2673 & MOUNTAINSIDE HOSPITAL & 10.6\\\\\n",
       "\t2653 & VIRTUA WEST JERSEY HOSPITALS BERLIN & 10.6\\\\\n",
       "\t2642 & CLARA MAASS MEDICAL CENTER & 10.7\\\\\n",
       "\t2645 & VALLEY HOSPITAL & 10.7\\\\\n",
       "\t31 & NA & ⋮\\\\\n",
       "\t2677 & LOURDES MEDICAL CENTER OF BURLINGTON COUNTY & 11.3\\\\\n",
       "\t2695 & BAYSHORE COMMUNITY HOSPITAL & 11.5\\\\\n",
       "\t2696 & SOUTHERN OCEAN MEDICAL CENTER & 11.5\\\\\n",
       "\t2700 & SAINT CLARE'S HOSPITAL/SUSSEX & 11.6\\\\\n",
       "\t2646 & COOPER UNIVERSITY HOSPITAL & 11.7\\\\\n",
       "\t2638 & PALISADES MEDICAL CTR-NY PRESBYTERIAN HEALTHCARE S & 11.7\\\\\n",
       "\t2678 & ATLANTICARE REGIONAL MEDICAL CENTER - CITY DIV & 11.8\\\\\n",
       "\t2694 & CENTRASTATE MEDICAL CENTER & 11.9\\\\\n",
       "\t2639 & HUNTERDON MEDICAL CENTER & 12.1\\\\\n",
       "\t2689 & MEMORIAL HOSPITAL OF SALEM COUNTY & 12.2\\\\\n",
       "\t2664 & HOBOKEN UNIVERSITY MEDICAL CENTER & 12.3\\\\\n",
       "\t2676 & ST LUKE'S WARREN HOSPITAL & 12.3\\\\\n",
       "\t2698 & MEADOWLANDS HOSPITAL MEDICAL CENTER & 12.6\\\\\n",
       "\t2654 & ROBERT WOOD JOHNSON UNIVERSITY HOSPITAL AT RAHWAY & 12.6\\\\\n",
       "\t2669 & SOMERSET MEDICAL CENTER & 12.7\\\\\n",
       "\t2655 & BAYONNE HOSPITAL CENTER & 12.9\\\\\n",
       "\t2691 & SAINT MICHAEL'S MEDICAL CENTER, INC & 13.1\\\\\n",
       "\t2650 & ST JOSEPH'S REGIONAL MEDICAL CENTER & 13.1\\\\\n",
       "\t2652 & ST FRANCIS MEDICAL CENTER & 13.2\\\\\n",
       "\t2674 & VIRTUA MEMORIAL HOSPITAL OF BURLINGTON COUNTY & 13.2\\\\\n",
       "\t2666 & CAPITAL HEALTH MEDICAL CENTER - HOPEWELL & 13.4\\\\\n",
       "\t2659 & DEBORAH HEART AND LUNG CENTER & 13.4\\\\\n",
       "\t2693 & ROBERT WOOD JOHNSON UNIVERSITY HOSPITAL HAMILTON & 13.5\\\\\n",
       "\t2651 & VA NEW JERSEY HEALTH CARE SYSTEM & 13.7\\\\\n",
       "\t2648 & CHRIST HOSPITAL & 13.8\\\\\n",
       "\t2656 & TRINITAS REGIONAL MEDICAL CENTER & 14\\\\\n",
       "\t2660 & SOUTH JERSEY HEALTHCARE REGIONAL MEDICAL CENTER & 14.1\\\\\n",
       "\t2640 & ST MARY'S HOSPITAL, PASSAIC & 14.1\\\\\n",
       "\t2692 & JFK MEDICAL CTR - ANTHONY M. YELENCSICS COMMUNITY & 14.5\\\\\n",
       "\t2675 & BERGEN REGIONAL MEDICAL CENTER & 16\\\\\n",
       "\\end{tabular}\n"
      ],
      "text/plain": [
       "                                           hospitalname\n",
       "2667              ENGLEWOOD HOSPITAL AND MEDICAL CENTER\n",
       "2665                           COMMUNITY MEDICAL CENTER\n",
       "2687                             KIMBALL MEDICAL CENTER\n",
       "2644                   CAPE REGIONAL MEDICAL CENTER INC\n",
       "2686                       EAST ORANGE GENERAL HOSPITAL\n",
       "2662            ROBERT WOOD JOHNSON UNIVERSITY HOSPITAL\n",
       "2670                             SAINT CLARE'S HOSPITAL\n",
       "2680                  SAINT PETER'S UNIVERSITY HOSPITAL\n",
       "2636               HACKENSACK UNIVERSITY MEDICAL CENTER\n",
       "2663                         RARITAN BAY MEDICAL CENTER\n",
       "2681             JERSEY SHORE UNIVERSITY MEDICAL CENTER\n",
       "2647                       MORRISTOWN MEMORIAL HOSPITAL\n",
       "2661                           RIVERVIEW MEDICAL CENTER\n",
       "2668                               SHORE MEDICAL CENTER\n",
       "2699                          UMDNJ UNIVERSITY HOSPITAL\n",
       "2643     UNIV MEDICAL CENTER OF PRINCETON AT PLAINSBORO\n",
       "2658                 OUR LADY OF LOURDES MEDICAL CENTER\n",
       "2649                                   CHILTON HOSPITAL\n",
       "2697               HACKETTSTOWN REGIONAL MEDICAL CENTER\n",
       "2641                           HOLY NAME MEDICAL CENTER\n",
       "2683                            MONMOUTH MEDICAL CENTER\n",
       "2684                      SAINT BARNABAS MEDICAL CENTER\n",
       "2657                           NEWTON MEMORIAL HOSPITAL\n",
       "2672                               OCEAN MEDICAL CENTER\n",
       "2671                                  OVERLOOK HOSPITAL\n",
       "2690                  CAPITAL HEALTH SYSTEM-FULD CAMPUS\n",
       "2673                              MOUNTAINSIDE HOSPITAL\n",
       "2653                VIRTUA WEST JERSEY HOSPITALS BERLIN\n",
       "2642                         CLARA MAASS MEDICAL CENTER\n",
       "2645                                    VALLEY HOSPITAL\n",
       "2688        KENNEDY UNIVERSITY HOSPITAL - STRATFORD DIV\n",
       "2679             SOUTH JERSEY HEALTHCARE-ELMER HOSPITAL\n",
       "2685                      UNDERWOOD - MEMORIAL HOSPITAL\n",
       "2682    LIBERTYHEALTH-JERSEY CITY MEDICAL CENTER CAMPUS\n",
       "2637                  NEWARK BETH ISRAEL MEDICAL CENTER\n",
       "2677        LOURDES MEDICAL CENTER OF BURLINGTON COUNTY\n",
       "2695                        BAYSHORE COMMUNITY HOSPITAL\n",
       "2696                      SOUTHERN OCEAN MEDICAL CENTER\n",
       "2700                      SAINT CLARE'S HOSPITAL/SUSSEX\n",
       "2646                         COOPER UNIVERSITY HOSPITAL\n",
       "2638 PALISADES MEDICAL CTR-NY PRESBYTERIAN HEALTHCARE S\n",
       "2678     ATLANTICARE REGIONAL MEDICAL CENTER - CITY DIV\n",
       "2694                         CENTRASTATE MEDICAL CENTER\n",
       "2639                           HUNTERDON MEDICAL CENTER\n",
       "2689                  MEMORIAL HOSPITAL OF SALEM COUNTY\n",
       "2664                  HOBOKEN UNIVERSITY MEDICAL CENTER\n",
       "2676                          ST LUKE'S WARREN HOSPITAL\n",
       "2698                MEADOWLANDS HOSPITAL MEDICAL CENTER\n",
       "2654  ROBERT WOOD JOHNSON UNIVERSITY HOSPITAL AT RAHWAY\n",
       "2669                            SOMERSET MEDICAL CENTER\n",
       "2655                            BAYONNE HOSPITAL CENTER\n",
       "2691                SAINT MICHAEL'S MEDICAL CENTER, INC\n",
       "2650                ST JOSEPH'S REGIONAL MEDICAL CENTER\n",
       "2652                          ST FRANCIS MEDICAL CENTER\n",
       "2674      VIRTUA MEMORIAL HOSPITAL OF BURLINGTON COUNTY\n",
       "2666           CAPITAL HEALTH MEDICAL CENTER - HOPEWELL\n",
       "2659                      DEBORAH HEART AND LUNG CENTER\n",
       "2693   ROBERT WOOD JOHNSON UNIVERSITY HOSPITAL HAMILTON\n",
       "2651                   VA NEW JERSEY HEALTH CARE SYSTEM\n",
       "2648                                    CHRIST HOSPITAL\n",
       "2656                   TRINITAS REGIONAL MEDICAL CENTER\n",
       "2660    SOUTH JERSEY HEALTHCARE REGIONAL MEDICAL CENTER\n",
       "2640                        ST MARY'S HOSPITAL, PASSAIC\n",
       "2692  JFK MEDICAL CTR - ANTHONY M. YELENCSICS COMMUNITY\n",
       "2675                     BERGEN REGIONAL MEDICAL CENTER\n",
       "     hospital30daydeathmortalityratesfrompneumonia\n",
       "2667                                           8.9\n",
       "2665                                           9.2\n",
       "2687                                           9.5\n",
       "2644                                           9.6\n",
       "2686                                           9.6\n",
       "2662                                           9.6\n",
       "2670                                           9.6\n",
       "2680                                           9.6\n",
       "2636                                           9.7\n",
       "2663                                           9.7\n",
       "2681                                           9.8\n",
       "2647                                           9.8\n",
       "2661                                           9.8\n",
       "2668                                           9.9\n",
       "2699                                           9.9\n",
       "2643                                           9.9\n",
       "2658                                          10.0\n",
       "2649                                          10.1\n",
       "2697                                          10.1\n",
       "2641                                          10.1\n",
       "2683                                          10.1\n",
       "2684                                          10.1\n",
       "2657                                          10.2\n",
       "2672                                          10.5\n",
       "2671                                          10.5\n",
       "2690                                          10.6\n",
       "2673                                          10.6\n",
       "2653                                          10.6\n",
       "2642                                          10.7\n",
       "2645                                          10.7\n",
       "2688                                          10.8\n",
       "2679                                          11.0\n",
       "2685                                          11.0\n",
       "2682                                          11.1\n",
       "2637                                          11.2\n",
       "2677                                          11.3\n",
       "2695                                          11.5\n",
       "2696                                          11.5\n",
       "2700                                          11.6\n",
       "2646                                          11.7\n",
       "2638                                          11.7\n",
       "2678                                          11.8\n",
       "2694                                          11.9\n",
       "2639                                          12.1\n",
       "2689                                          12.2\n",
       "2664                                          12.3\n",
       "2676                                          12.3\n",
       "2698                                          12.6\n",
       "2654                                          12.6\n",
       "2669                                          12.7\n",
       "2655                                          12.9\n",
       "2691                                          13.1\n",
       "2650                                          13.1\n",
       "2652                                          13.2\n",
       "2674                                          13.2\n",
       "2666                                          13.4\n",
       "2659                                          13.4\n",
       "2693                                          13.5\n",
       "2651                                          13.7\n",
       "2648                                          13.8\n",
       "2656                                          14.0\n",
       "2660                                          14.1\n",
       "2640                                          14.1\n",
       "2692                                          14.5\n",
       "2675                                          16.0"
      ]
     },
     "execution_count": 281,
     "metadata": {},
     "output_type": "execute_result"
    }
   ],
   "source": [
    "rankhospital(\"NJ\", \"pneumonia\", \"worst\")"
   ]
  },
  {
   "cell_type": "code",
   "execution_count": 279,
   "metadata": {
    "collapsed": false
   },
   "outputs": [
    {
     "name": "stderr",
     "output_type": "stream",
     "text": [
      "Warning message:\n",
      "In rankhospital(\"NV\", \"heart failure\", 10): NAs introduced by coercion"
     ]
    },
    {
     "data": {
      "text/html": [
       "RENOWN SOUTH MEADOWS MEDICAL CENTER"
      ],
      "text/latex": [
       "RENOWN SOUTH MEADOWS MEDICAL CENTER"
      ],
      "text/markdown": [
       "RENOWN SOUTH MEADOWS MEDICAL CENTER"
      ],
      "text/plain": [
       "[1] RENOWN SOUTH MEADOWS MEDICAL CENTER\n",
       "4510 Levels: ABBEVILLE AREA MEDICAL CENTER ... ZUNI COMPREHENSIVE COMMUNITY HEALTH CENTER"
      ]
     },
     "execution_count": 279,
     "metadata": {},
     "output_type": "execute_result"
    }
   ],
   "source": [
    "rankhospital(\"NV\", \"heart failure\", 10)"
   ]
  },
  {
   "cell_type": "code",
   "execution_count": null,
   "metadata": {
    "collapsed": true
   },
   "outputs": [],
   "source": [
    "rankall <- function(outcome, num = \"best\") {\n",
    "    outcome<-gsub(pattern = \" \", replacement = \"\", x = outcome)\n",
    "    outcome<-tolower(outcome)\n",
    "    out<-paste(\"hospital30daydeathmortalityratesfrom\",outcome, sep=\"\")\n",
    "    hosp1[[out]]<-as.numeric(as.character(hosp1[[out]]))\n",
    "\n",
    " #   x1[rowSums(is.na(x1[,c(\"hospitalname\",out)]))==0,]\n",
    "\n",
    "    x1[ complete.cases(x1[,c(\"hospitalname\",out)]), ]\n",
    "    \n",
    "    x2<-x1[order(x1[[out]],x1$hospitalname),]\n",
    "\n",
    "    L<-nrow(x2)\n",
    "    if(num==\"best\"){\n",
    "        x2$hospitalname[1]}\n",
    "    else if (num==\"worst\"){\n",
    "        x2$hospitalname[L]}\n",
    "    else{\n",
    "        x2$hospitalname[num]\n",
    "    }\n",
    "    df<-data.frame()\n",
    "    \n",
    "## Read outcome data\n",
    "## Check that state and outcome are valid\n",
    "## For each state, find the hospital of the given rank\n",
    "## Return a data frame with the hospital names and the\n",
    "## (abbreviated) state name\n",
    "}"
   ]
  },
  {
   "cell_type": "code",
   "execution_count": 29,
   "metadata": {
    "collapsed": true
   },
   "outputs": [],
   "source": [
    "dat<-read.csv(\"~/data/R/7.0-100.csv\")"
   ]
  },
  {
   "cell_type": "code",
   "execution_count": 30,
   "metadata": {
    "collapsed": false
   },
   "outputs": [
    {
     "name": "stdout",
     "output_type": "stream",
     "text": [
      "'data.frame':\t1139 obs. of  22 variables:\n",
      " $ time           : Factor w/ 1139 levels \"1900-07-29T06:59:00.000Z\",..: 1139 1138 1137 1136 1135 1134 1133 1132 1131 1130 ...\n",
      " $ latitude       : num  0.371 32.782 -4.952 38.23 38.211 ...\n",
      " $ longitude      : num  -79.9 130.7 94.3 72.8 72.8 ...\n",
      " $ depth          : num  19.2 10 24 33 22 ...\n",
      " $ mag            : num  7.8 7 7.8 7.2 7.2 7.1 7.1 7 8.3 7 ...\n",
      " $ magType        : Factor w/ 5 levels \"ms\",\"mw\",\"mwb\",..: 5 5 5 4 5 5 4 5 5 5 ...\n",
      " $ nst            : int  NA NA NA NA NA NA NA NA NA NA ...\n",
      " $ gap            : num  41 39 20 NA 18 8 NA 13 19 12 ...\n",
      " $ dmin           : num  2.139 0.364 7.009 NA 1.116 ...\n",
      " $ rms            : num  1 1.12 1.14 NA 0.94 1.42 NA 0.93 1.02 1.2 ...\n",
      " $ net            : Factor w/ 6 levels \"ci\",\"gcmt\",\"iscgem\",..: 6 6 6 2 6 6 2 6 6 6 ...\n",
      " $ id             : Factor w/ 1139 levels \"ci14607652\",\"ci2048554\",..: 679 678 668 7 667 666 6 677 676 675 ...\n",
      " $ updated        : Factor w/ 394 levels \"2014-02-11T02:25:27.101Z\",..: 394 393 390 392 354 353 391 330 352 323 ...\n",
      " $ place          : Factor w/ 353 levels \"101km SW of Atka, Alaska\",..: 19 12 317 330 2 300 299 17 24 14 ...\n",
      " $ type           : Factor w/ 1 level \"earthquake\": 1 1 1 1 1 1 1 1 1 1 ...\n",
      " $ horizontalError: num  6.2 4.8 7.5 NA 5.5 8 NA 4.3 4.7 6.7 ...\n",
      " $ depthError     : num  3.4 1.9 1.8 NA 1.7 1.8 NA 3 3.2 1.8 ...\n",
      " $ magError       : logi  NA NA NA NA NA NA ...\n",
      " $ magNst         : int  NA NA NA NA NA NA NA NA NA NA ...\n",
      " $ status         : Factor w/ 2 levels \"automatic\",\"reviewed\": 2 2 2 1 2 2 1 2 2 2 ...\n",
      " $ locationSource : Factor w/ 12 levels \"aeic\",\"ag\",\"ags\",..: 11 11 11 5 11 11 5 11 11 11 ...\n",
      " $ magSource      : Factor w/ 11 levels \"01000\",\"01020\",..: 11 11 11 5 11 11 5 11 11 11 ...\n"
     ]
    }
   ],
   "source": [
    "str(dat)"
   ]
  },
  {
   "cell_type": "code",
   "execution_count": 55,
   "metadata": {
    "collapsed": false
   },
   "outputs": [],
   "source": [
    "dat$time<-strptime(substring(as.character(dat$time),1,10),\"%Y-%m-%d\")"
   ]
  },
  {
   "cell_type": "code",
   "execution_count": 32,
   "metadata": {
    "collapsed": true
   },
   "outputs": [],
   "source": [
    "dat1<-subset(dat,dat$place==\"Vanuatu\")\n",
    "dat2<-subset(dat,dat$place==\"Solomon Islands\")"
   ]
  },
  {
   "cell_type": "code",
   "execution_count": 33,
   "metadata": {
    "collapsed": false
   },
   "outputs": [],
   "source": [
    "dat1$time<-strptime(substring(as.character(dat1$time),1,10),\"%Y-%m-%d\")\n",
    "dat2$time<-strptime(substring(as.character(dat2$time),1,10),\"%Y-%m-%d\")"
   ]
  },
  {
   "cell_type": "code",
   "execution_count": 39,
   "metadata": {
    "collapsed": false
   },
   "outputs": [],
   "source": [
    "plot(y=dat1$mag,x=dat1$time,xlab=\"Year\",ylab=\"magnitude\",pch=20)"
   ]
  },
  {
   "cell_type": "code",
   "execution_count": 38,
   "metadata": {
    "collapsed": false
   },
   "outputs": [],
   "source": [
    "plot(y=dat2$mag,x=dat2$time,xlab=\"Year\",ylab=\"magnitude\",pch=20)"
   ]
  },
  {
   "cell_type": "code",
   "execution_count": 51,
   "metadata": {
    "collapsed": false
   },
   "outputs": [],
   "source": [
    "dat$place<-sapply(dat$place,FUN=function(x){\n",
    "x <- tolower(x)\n",
    "  if (grepl(\"japan\", x)){\n",
    "    return(\"japan\")\n",
    "  }\n",
    "  if (grepl(\"chile\", x)){\n",
    "    return(\"chile\")\n",
    "  } \n",
    "  if (grepl(\"philippines\", x)){\n",
    "    return(\"philippines\")\n",
    "  }  \n",
    "  if (grepl(\"california\", x)){\n",
    "    return(\"california\")\n",
    "  }   \n",
    "  else{\n",
    "      return(x)\n",
    "  }    \n",
    "}\n",
    ")       "
   ]
  },
  {
   "cell_type": "code",
   "execution_count": 52,
   "metadata": {
    "collapsed": false
   },
   "outputs": [
    {
     "data": {
      "text/html": [
       "<dl class=dl-horizontal>\n",
       "\t<dt>101km sw of atka, alaska</dt>\n",
       "\t\t<dd>1</dd>\n",
       "\t<dt>104km w of murghob, tajikistan</dt>\n",
       "\t\t<dd>1</dd>\n",
       "\t<dt>112km s of kirakira, solomon islands</dt>\n",
       "\t\t<dd>1</dd>\n",
       "\t<dt>114km wsw of lata, solomon islands</dt>\n",
       "\t\t<dd>1</dd>\n",
       "\t<dt>12km sw of delta, b.c., mx</dt>\n",
       "\t\t<dd>1</dd>\n",
       "\t<dt>130km ssw of kokopo, papua new guinea</dt>\n",
       "\t\t<dd>1</dd>\n",
       "\t<dt>143km sw of panguna, papua new guinea</dt>\n",
       "\t\t<dd>1</dd>\n",
       "\t<dt>154km nw of kota ternate, indonesia</dt>\n",
       "\t\t<dd>1</dd>\n",
       "\t<dt>16km sw of ludlow, ca</dt>\n",
       "\t\t<dd>1</dd>\n",
       "\t<dt>19km se of kodari, nepal</dt>\n",
       "\t\t<dd>1</dd>\n",
       "\t<dt>218km sse of bristol island, south sandwich islands</dt>\n",
       "\t\t<dd>1</dd>\n",
       "\t<dt>228km w of abepura, indonesia</dt>\n",
       "\t\t<dd>1</dd>\n",
       "\t<dt>240km e of enarotali, indonesia</dt>\n",
       "\t\t<dd>1</dd>\n",
       "\t<dt>27km nnw of lata, solomon islands</dt>\n",
       "\t\t<dd>1</dd>\n",
       "\t<dt>27km sse of muisne, ecuador</dt>\n",
       "\t\t<dd>1</dd>\n",
       "\t<dt>31km se of lata, solomon islands</dt>\n",
       "\t\t<dd>1</dd>\n",
       "\t<dt>33km ese of petatlan, mexico</dt>\n",
       "\t\t<dd>1</dd>\n",
       "\t<dt>36km e of khudi, nepal</dt>\n",
       "\t\t<dd>1</dd>\n",
       "\t<dt>46km sse of acari, peru</dt>\n",
       "\t\t<dd>1</dd>\n",
       "\t<dt>53km se of kokopo, papua new guinea</dt>\n",
       "\t\t<dd>1</dd>\n",
       "\t<dt>56km wsw of panguna, papua new guinea</dt>\n",
       "\t\t<dd>1</dd>\n",
       "\t<dt>61km nne of awaran, pakistan</dt>\n",
       "\t\t<dd>1</dd>\n",
       "\t<dt>6km wnw of grapevine, ca</dt>\n",
       "\t\t<dd>1</dd>\n",
       "\t<dt>70km sw of panguna, papua new guinea</dt>\n",
       "\t\t<dd>1</dd>\n",
       "\t<dt>74km s of intipuca, el salvador</dt>\n",
       "\t\t<dd>1</dd>\n",
       "\t<dt>76km w of lata, solomon islands</dt>\n",
       "\t\t<dd>1</dd>\n",
       "\t<dt>83km e of khash, iran</dt>\n",
       "\t\t<dd>1</dd>\n",
       "\t<dt>83km wnw of lata, solomon islands</dt>\n",
       "\t\t<dd>1</dd>\n",
       "\t<dt>93km sse of kirakira, solomon islands</dt>\n",
       "\t\t<dd>1</dd>\n",
       "\t<dt>alamagan region, northern mariana islands</dt>\n",
       "\t\t<dd>1</dd>\n",
       "\t<dt>antigua and barbuda region, leeward islands</dt>\n",
       "\t\t<dd>1</dd>\n",
       "\t<dt>assam, india</dt>\n",
       "\t\t<dd>1</dd>\n",
       "\t<dt>baffin bay</dt>\n",
       "\t\t<dd>1</dd>\n",
       "\t<dt>balleny islands region</dt>\n",
       "\t\t<dd>1</dd>\n",
       "\t<dt>bangladesh</dt>\n",
       "\t\t<dd>1</dd>\n",
       "\t<dt>carlsberg ridge</dt>\n",
       "\t\t<dd>1</dd>\n",
       "\t<dt>celebes sea</dt>\n",
       "\t\t<dd>1</dd>\n",
       "\t<dt>central iran</dt>\n",
       "\t\t<dd>1</dd>\n",
       "\t<dt>chagos archipelago region</dt>\n",
       "\t\t<dd>1</dd>\n",
       "\t<dt>chitinskaya oblast', russia</dt>\n",
       "\t\t<dd>1</dd>\n",
       "\t<dt>chubut, argentina</dt>\n",
       "\t\t<dd>1</dd>\n",
       "\t<dt>colombia</dt>\n",
       "\t\t<dd>1</dd>\n",
       "\t<dt>colombia-ecuador border region</dt>\n",
       "\t\t<dd>1</dd>\n",
       "\t<dt>d'entrecasteaux islands region</dt>\n",
       "\t\t<dd>1</dd>\n",
       "\t<dt>east of dominica, leeward islands</dt>\n",
       "\t\t<dd>1</dd>\n",
       "\t<dt>east of the north island of new zealand</dt>\n",
       "\t\t<dd>1</dd>\n",
       "\t<dt>eastern kazakhstan</dt>\n",
       "\t\t<dd>1</dd>\n",
       "\t<dt>eastern sichuan, china</dt>\n",
       "\t\t<dd>1</dd>\n",
       "\t<dt>ecuador</dt>\n",
       "\t\t<dd>1</dd>\n",
       "\t<dt>egypt</dt>\n",
       "\t\t<dd>1</dd>\n",
       "\t<dt>el salvador</dt>\n",
       "\t\t<dd>1</dd>\n",
       "\t<dt>falkland islands region</dt>\n",
       "\t\t<dd>1</dd>\n",
       "\t<dt>flores region, indonesia</dt>\n",
       "\t\t<dd>1</dd>\n",
       "\t<dt>flores sea</dt>\n",
       "\t\t<dd>1</dd>\n",
       "\t<dt>gansu-ningxia border region, china</dt>\n",
       "\t\t<dd>1</dd>\n",
       "\t<dt>gansu-qinghai border region, china</dt>\n",
       "\t\t<dd>1</dd>\n",
       "\t<dt>georgia (sak'art'velo)</dt>\n",
       "\t\t<dd>1</dd>\n",
       "\t<dt>greece</dt>\n",
       "\t\t<dd>1</dd>\n",
       "\t<dt>gujarat, india</dt>\n",
       "\t\t<dd>1</dd>\n",
       "\t<dt>haiti region</dt>\n",
       "\t\t<dd>1</dd>\n",
       "\t<dt>hawaii region, hawaii</dt>\n",
       "\t\t<dd>1</dd>\n",
       "\t<dt>hebei, china</dt>\n",
       "\t\t<dd>1</dd>\n",
       "\t<dt>himachal pradesh, india</dt>\n",
       "\t\t<dd>1</dd>\n",
       "\t<dt>hindu kush region, afghanistan</dt>\n",
       "\t\t<dd>1</dd>\n",
       "\t<dt>honduras</dt>\n",
       "\t\t<dd>1</dd>\n",
       "\t<dt>iran-pakistan border region</dt>\n",
       "\t\t<dd>1</dd>\n",
       "\t<dt>kamchatka peninsula, russia</dt>\n",
       "\t\t<dd>1</dd>\n",
       "\t<dt>kenya</dt>\n",
       "\t\t<dd>1</dd>\n",
       "\t<dt>kepulauan alor, indonesia</dt>\n",
       "\t\t<dd>1</dd>\n",
       "\t<dt>kepulauan batu, indonesia</dt>\n",
       "\t\t<dd>1</dd>\n",
       "\t<dt>kepulauan obi, indonesia</dt>\n",
       "\t\t<dd>1</dd>\n",
       "\t<dt>kepulauan sula, indonesia</dt>\n",
       "\t\t<dd>1</dd>\n",
       "\t<dt>kyrgyzstan-tajikistan-xinjiang border region</dt>\n",
       "\t\t<dd>1</dd>\n",
       "\t<dt>kyrgyzstan-xinjiang border region</dt>\n",
       "\t\t<dd>1</dd>\n",
       "\t<dt>lake tanganyika region, tanzania</dt>\n",
       "\t\t<dd>1</dd>\n",
       "\t<dt>lake tanganyika region, tanzania-zambia</dt>\n",
       "\t\t<dd>1</dd>\n",
       "\t<dt>liaoning, china</dt>\n",
       "\t\t<dd>1</dd>\n",
       "\t<dt>magadanskaya oblast', russia</dt>\n",
       "\t\t<dd>1</dd>\n",
       "\t<dt>makassar strait, indonesia</dt>\n",
       "\t\t<dd>1</dd>\n",
       "\t<dt>maldive islands region</dt>\n",
       "\t\t<dd>1</dd>\n",
       "\t<dt>meghalaya, india region</dt>\n",
       "\t\t<dd>1</dd>\n",
       "\t<dt>mozambique</dt>\n",
       "\t\t<dd>1</dd>\n",
       "\t<dt>myanmar-india border region</dt>\n",
       "\t\t<dd>1</dd>\n",
       "\t<dt>near the coast of fujian, china</dt>\n",
       "\t\t<dd>1</dd>\n",
       "\t<dt>near the east coast of koryakskiy avtonomnyy okrug, russia</dt>\n",
       "\t\t<dd>1</dd>\n",
       "\t<dt>neuquen, argentina</dt>\n",
       "\t\t<dd>1</dd>\n",
       "\t<dt>nevada</dt>\n",
       "\t\t<dd>1</dd>\n",
       "\t<dt>nicaragua</dt>\n",
       "\t\t<dd>1</dd>\n",
       "\t<dt>north atlantic ocean</dt>\n",
       "\t\t<dd>1</dd>\n",
       "\t<dt>north of ascension island</dt>\n",
       "\t\t<dd>1</dd>\n",
       "\t<dt>north of halmahera, indonesia</dt>\n",
       "\t\t<dd>1</dd>\n",
       "\t<dt>northeastern iran</dt>\n",
       "\t\t<dd>1</dd>\n",
       "\t<dt>northern alaska</dt>\n",
       "\t\t<dd>1</dd>\n",
       "\t<dt>northern algeria</dt>\n",
       "\t\t<dd>1</dd>\n",
       "\t<dt>northern colombia</dt>\n",
       "\t\t<dd>1</dd>\n",
       "\t<dt>northern iran</dt>\n",
       "\t\t<dd>1</dd>\n",
       "\t<dt>northern peru</dt>\n",
       "\t\t<dd>1</dd>\n",
       "\t<dt>off the coast of central peru</dt>\n",
       "\t\t<dd>1</dd>\n",
       "\t<dt>off the coast of costa rica</dt>\n",
       "\t\t<dd>1</dd>\n",
       "\t<dt>off the coast of el salvador</dt>\n",
       "\t\t<dd>1</dd>\n",
       "\t<dt>off the coast of jalisco, mexico</dt>\n",
       "\t\t<dd>1</dd>\n",
       "\t<dt>off the coast of northern peru</dt>\n",
       "\t\t<dd>1</dd>\n",
       "\t<dt>off the coast of oaxaca, mexico</dt>\n",
       "\t\t<dd>1</dd>\n",
       "\t<dt>off the coast of pakistan</dt>\n",
       "\t\t<dd>1</dd>\n",
       "\t<dt>off the east coast of the north island of new zealand</dt>\n",
       "\t\t<dd>1</dd>\n",
       "\t<dt>offshore colima, mexico</dt>\n",
       "\t\t<dd>1</dd>\n",
       "\t<dt>offshore honduras</dt>\n",
       "\t\t<dd>1</dd>\n",
       "\t<dt>offshore jalisco, mexico</dt>\n",
       "\t\t<dd>1</dd>\n",
       "\t<dt>offshore miranda, venezuela</dt>\n",
       "\t\t<dd>1</dd>\n",
       "\t<dt>owen fracture zone region</dt>\n",
       "\t\t<dd>1</dd>\n",
       "\t<dt>pagan region, northern mariana islands</dt>\n",
       "\t\t<dd>1</dd>\n",
       "\t<dt>panama</dt>\n",
       "\t\t<dd>1</dd>\n",
       "\t<dt>panama-colombia border region</dt>\n",
       "\t\t<dd>1</dd>\n",
       "\t<dt>puebla, mexico</dt>\n",
       "\t\t<dd>1</dd>\n",
       "\t<dt>qinghai-sichuan border region, china</dt>\n",
       "\t\t<dd>1</dd>\n",
       "\t<dt>reykjanes ridge</dt>\n",
       "\t\t<dd>1</dd>\n",
       "\t<dt>russia-mongolia border region</dt>\n",
       "\t\t<dd>1</dd>\n",
       "\t<dt>salta, argentina</dt>\n",
       "\t\t<dd>1</dd>\n",
       "\t<dt>santa cruz islands region</dt>\n",
       "\t\t<dd>1</dd>\n",
       "\t<dt>savu sea</dt>\n",
       "\t\t<dd>1</dd>\n",
       "\t<dt>seram, indonesia</dt>\n",
       "\t\t<dd>1</dd>\n",
       "\t<dt>south of africa</dt>\n",
       "\t\t<dd>1</dd>\n",
       "\t<dt>south of australia</dt>\n",
       "\t\t<dd>1</dd>\n",
       "\t<dt>south of sumbawa, indonesia</dt>\n",
       "\t\t<dd>1</dd>\n",
       "\t<dt>south of the aleutian islands</dt>\n",
       "\t\t<dd>1</dd>\n",
       "\t<dt>south of the mariana islands</dt>\n",
       "\t\t<dd>1</dd>\n",
       "\t<dt>south shetland islands</dt>\n",
       "\t\t<dd>1</dd>\n",
       "\t<dt>southeastern sakha, russia</dt>\n",
       "\t\t<dd>1</dd>\n",
       "\t<dt>southern greece</dt>\n",
       "\t\t<dd>1</dd>\n",
       "\t<dt>southwest indian ridge</dt>\n",
       "\t\t<dd>1</dd>\n",
       "\t<dt>southwest of sumatra, indonesia</dt>\n",
       "\t\t<dd>1</dd>\n",
       "\t<dt>southwestern pakistan</dt>\n",
       "\t\t<dd>1</dd>\n",
       "\t<dt>southwestern siberia, russia</dt>\n",
       "\t\t<dd>1</dd>\n",
       "\t<dt>state of yap, federated states of micronesia</dt>\n",
       "\t\t<dd>1</dd>\n",
       "\t<dt>sucre, venezuela</dt>\n",
       "\t\t<dd>1</dd>\n",
       "\t<dt>sumbawa region, indonesia</dt>\n",
       "\t\t<dd>1</dd>\n",
       "\t<dt>sunda strait, indonesia</dt>\n",
       "\t\t<dd>1</dd>\n",
       "\t<dt>tianjin-hebei border region, china</dt>\n",
       "\t\t<dd>1</dd>\n",
       "\t<dt>tierra del fuego, argentina region</dt>\n",
       "\t\t<dd>1</dd>\n",
       "\t<dt>vancouver island, canada region</dt>\n",
       "\t\t<dd>1</dd>\n",
       "\t<dt>western iran</dt>\n",
       "\t\t<dd>1</dd>\n",
       "\t<dt>western mongolia</dt>\n",
       "\t\t<dd>1</dd>\n",
       "\t<dt>xinjiang-xizang border region</dt>\n",
       "\t\t<dd>1</dd>\n",
       "\t<dt>yellowstone national park, wyoming</dt>\n",
       "\t\t<dd>1</dd>\n",
       "\t<dt>yunnan, china</dt>\n",
       "\t\t<dd>1</dd>\n",
       "\t<dt>andaman islands, india region</dt>\n",
       "\t\t<dd>2</dd>\n",
       "\t<dt>bulgaria</dt>\n",
       "\t\t<dd>2</dd>\n",
       "\t<dt>central afghanistan</dt>\n",
       "\t\t<dd>2</dd>\n",
       "\t<dt>central peru</dt>\n",
       "\t\t<dd>2</dd>\n",
       "\t<dt>chiapas, mexico</dt>\n",
       "\t\t<dd>2</dd>\n",
       "\t<dt>colima, mexico</dt>\n",
       "\t\t<dd>2</dd>\n",
       "\t<dt>dominican republic region</dt>\n",
       "\t\t<dd>2</dd>\n",
       "\t<dt>eastern turkey</dt>\n",
       "\t\t<dd>2</dd>\n",
       "\t<dt>eastern xizang</dt>\n",
       "\t\t<dd>2</dd>\n",
       "\t<dt>eastern xizang-india border region</dt>\n",
       "\t\t<dd>2</dd>\n",
       "\t<dt>gansu, china</dt>\n",
       "\t\t<dd>2</dd>\n",
       "\t<dt>gulf of alaska</dt>\n",
       "\t\t<dd>2</dd>\n",
       "\t<dt>haida gwaii region, canada</dt>\n",
       "\t\t<dd>2</dd>\n",
       "\t<dt>haida gwaii, canada</dt>\n",
       "\t\t<dd>2</dd>\n",
       "\t<dt>jalisco, mexico</dt>\n",
       "\t\t<dd>2</dd>\n",
       "\t<dt>java, indonesia</dt>\n",
       "\t\t<dd>2</dd>\n",
       "\t<dt>kepulauan aru region, indonesia</dt>\n",
       "\t\t<dd>2</dd>\n",
       "\t<dt>komandorskiye ostrova, russia region</dt>\n",
       "\t\t<dd>2</dd>\n",
       "\t<dt>near the west coast of colombia</dt>\n",
       "\t\t<dd>2</dd>\n",
       "\t<dt>nepal-india border region</dt>\n",
       "\t\t<dd>2</dd>\n",
       "\t<dt>nias region, indonesia</dt>\n",
       "\t\t<dd>2</dd>\n",
       "\t<dt>offshore el salvador</dt>\n",
       "\t\t<dd>2</dd>\n",
       "\t<dt>offshore guerrero, mexico</dt>\n",
       "\t\t<dd>2</dd>\n",
       "\t<dt>offshore oaxaca, mexico</dt>\n",
       "\t\t<dd>2</dd>\n",
       "\t<dt>palau region</dt>\n",
       "\t\t<dd>2</dd>\n",
       "\t<dt>papua region, indonesia</dt>\n",
       "\t\t<dd>2</dd>\n",
       "\t<dt>puerto rico region</dt>\n",
       "\t\t<dd>2</dd>\n",
       "\t<dt>romania</dt>\n",
       "\t\t<dd>2</dd>\n",
       "\t<dt>sakhalin, russia</dt>\n",
       "\t\t<dd>2</dd>\n",
       "\t<dt>san juan, argentina</dt>\n",
       "\t\t<dd>2</dd>\n",
       "\t<dt>sicily, italy</dt>\n",
       "\t\t<dd>2</dd>\n",
       "\t<dt>simeulue, indonesia</dt>\n",
       "\t\t<dd>2</dd>\n",
       "\t<dt>south of panama</dt>\n",
       "\t\t<dd>2</dd>\n",
       "\t<dt>southeast indian ridge</dt>\n",
       "\t\t<dd>2</dd>\n",
       "\t<dt>southeast of taiwan</dt>\n",
       "\t\t<dd>2</dd>\n",
       "\t<dt>southern east pacific rise</dt>\n",
       "\t\t<dd>2</dd>\n",
       "\t<dt>southern mid-atlantic ridge</dt>\n",
       "\t\t<dd>2</dd>\n",
       "\t<dt>southern qinghai, china</dt>\n",
       "\t\t<dd>2</dd>\n",
       "\t<dt>sudan</dt>\n",
       "\t\t<dd>2</dd>\n",
       "\t<dt>turkey-iran border region</dt>\n",
       "\t\t<dd>2</dd>\n",
       "\t<dt>western xizang</dt>\n",
       "\t\t<dd>2</dd>\n",
       "\t<dt>aegean sea</dt>\n",
       "\t\t<dd>3</dd>\n",
       "\t<dt>alaska peninsula</dt>\n",
       "\t\t<dd>3</dd>\n",
       "\t<dt>auckland islands, new zealand region</dt>\n",
       "\t\t<dd>3</dd>\n",
       "\t<dt>central alaska</dt>\n",
       "\t\t<dd>3</dd>\n",
       "\t<dt>central mongolia</dt>\n",
       "\t\t<dd>3</dd>\n",
       "\t<dt>east of the south sandwich islands</dt>\n",
       "\t\t<dd>3</dd>\n",
       "\t<dt>guam region</dt>\n",
       "\t\t<dd>3</dd>\n",
       "\t<dt>halmahera, indonesia</dt>\n",
       "\t\t<dd>3</dd>\n",
       "\t<dt>kepulauan barat daya, indonesia</dt>\n",
       "\t\t<dd>3</dd>\n",
       "\t<dt>kodiak island region, alaska</dt>\n",
       "\t\t<dd>3</dd>\n",
       "\t<dt>kyrgyzstan</dt>\n",
       "\t\t<dd>3</dd>\n",
       "\t<dt>myanmar-china border region</dt>\n",
       "\t\t<dd>3</dd>\n",
       "\t<dt>near the coast of northern peru</dt>\n",
       "\t\t<dd>3</dd>\n",
       "\t<dt>new guinea, papua new guinea</dt>\n",
       "\t\t<dd>3</dd>\n",
       "\t<dt>offshore chiapas, mexico</dt>\n",
       "\t\t<dd>3</dd>\n",
       "\t<dt>offshore guatemala</dt>\n",
       "\t\t<dd>3</dd>\n",
       "\t<dt>peru-ecuador border region</dt>\n",
       "\t\t<dd>3</dd>\n",
       "\t<dt>south of the fiji islands</dt>\n",
       "\t\t<dd>3</dd>\n",
       "\t<dt>southern alaska</dt>\n",
       "\t\t<dd>3</dd>\n",
       "\t<dt>turkmenistan</dt>\n",
       "\t\t<dd>3</dd>\n",
       "\t<dt>vanuatu region</dt>\n",
       "\t\t<dd>3</dd>\n",
       "\t<dt>western uzbekistan</dt>\n",
       "\t\t<dd>3</dd>\n",
       "\t<dt>azores-cape st. vincent ridge</dt>\n",
       "\t\t<dd>4</dd>\n",
       "\t<dt>biak region, indonesia</dt>\n",
       "\t\t<dd>4</dd>\n",
       "\t<dt>dodecanese islands, greece</dt>\n",
       "\t\t<dd>4</dd>\n",
       "\t<dt>eastern iran</dt>\n",
       "\t\t<dd>4</dd>\n",
       "\t<dt>eastern new guinea region, papua new guinea</dt>\n",
       "\t\t<dd>4</dd>\n",
       "\t<dt>fox islands, aleutian islands, alaska</dt>\n",
       "\t\t<dd>4</dd>\n",
       "\t<dt>guatemala</dt>\n",
       "\t\t<dd>4</dd>\n",
       "\t<dt>kepulauan mentawai region, indonesia</dt>\n",
       "\t\t<dd>4</dd>\n",
       "\t<dt>kepulauan talaud, indonesia</dt>\n",
       "\t\t<dd>4</dd>\n",
       "\t<dt>near islands, aleutian islands, alaska</dt>\n",
       "\t\t<dd>4</dd>\n",
       "\t<dt>near the coast of nicaragua</dt>\n",
       "\t\t<dd>4</dd>\n",
       "\t<dt>north island of new zealand</dt>\n",
       "\t\t<dd>4</dd>\n",
       "\t<dt>north of macquarie island</dt>\n",
       "\t\t<dd>4</dd>\n",
       "\t<dt>scotia sea</dt>\n",
       "\t\t<dd>4</dd>\n",
       "\t<dt>south of java, indonesia</dt>\n",
       "\t\t<dd>4</dd>\n",
       "\t<dt>south of tonga</dt>\n",
       "\t\t<dd>4</dd>\n",
       "\t<dt>sulawesi, indonesia</dt>\n",
       "\t\t<dd>4</dd>\n",
       "\t<dt>tajikistan</dt>\n",
       "\t\t<dd>4</dd>\n",
       "\t<dt>central mid-atlantic ridge</dt>\n",
       "\t\t<dd>5</dd>\n",
       "\t<dt>central turkey</dt>\n",
       "\t\t<dd>5</dd>\n",
       "\t<dt>loyalty islands, new caledonia</dt>\n",
       "\t\t<dd>5</dd>\n",
       "\t<dt>near the coast of ecuador</dt>\n",
       "\t\t<dd>5</dd>\n",
       "\t<dt>near the south coast of papua, indonesia</dt>\n",
       "\t\t<dd>5</dd>\n",
       "\t<dt>nicobar islands, india region</dt>\n",
       "\t\t<dd>5</dd>\n",
       "\t<dt>northern xinjiang, china</dt>\n",
       "\t\t<dd>5</dd>\n",
       "\t<dt>pakistan</dt>\n",
       "\t\t<dd>5</dd>\n",
       "\t<dt>samoa islands region</dt>\n",
       "\t\t<dd>5</dd>\n",
       "\t<dt>south of alaska</dt>\n",
       "\t\t<dd>5</dd>\n",
       "\t<dt>southeastern alaska</dt>\n",
       "\t\t<dd>5</dd>\n",
       "\t<dt>southern xinjiang, china</dt>\n",
       "\t\t<dd>5</dd>\n",
       "\t<dt>tonga region</dt>\n",
       "\t\t<dd>5</dd>\n",
       "\t<dt>western sichuan, china</dt>\n",
       "\t\t<dd>5</dd>\n",
       "\t<dt>bougainville region, papua new guinea</dt>\n",
       "\t\t<dd>6</dd>\n",
       "\t<dt>michoacan, mexico</dt>\n",
       "\t\t<dd>6</dd>\n",
       "\t<dt>near the coast of central peru</dt>\n",
       "\t\t<dd>6</dd>\n",
       "\t<dt>near the coast of southern peru</dt>\n",
       "\t\t<dd>6</dd>\n",
       "\t<dt>northern mid-atlantic ridge</dt>\n",
       "\t\t<dd>6</dd>\n",
       "\t<dt>off the west coast of northern sumatra</dt>\n",
       "\t\t<dd>6</dd>\n",
       "\t<dt>south island of new zealand</dt>\n",
       "\t\t<dd>6</dd>\n",
       "\t<dt>tonga</dt>\n",
       "\t\t<dd>6</dd>\n",
       "\t<dt>east of the kuril islands</dt>\n",
       "\t\t<dd>7</dd>\n",
       "\t<dt>macquarie island region</dt>\n",
       "\t\t<dd>7</dd>\n",
       "\t<dt>mariana islands region</dt>\n",
       "\t\t<dd>7</dd>\n",
       "\t<dt>near the north coast of new guinea, papua new guinea</dt>\n",
       "\t\t<dd>7</dd>\n",
       "\t<dt>off the east coast of the kamchatka peninsula, russia</dt>\n",
       "\t\t<dd>7</dd>\n",
       "\t<dt>off the west coast of the south island of new zealand</dt>\n",
       "\t\t<dd>7</dd>\n",
       "\t<dt>rat islands, aleutian islands, alaska</dt>\n",
       "\t\t<dd>7</dd>\n",
       "\t<dt>western turkey</dt>\n",
       "\t\t<dd>7</dd>\n",
       "\t<dt>costa rica</dt>\n",
       "\t\t<dd>8</dd>\n",
       "\t<dt>northern sumatra, indonesia</dt>\n",
       "\t\t<dd>8</dd>\n",
       "\t<dt>papua, indonesia</dt>\n",
       "\t\t<dd>8</dd>\n",
       "\t<dt>philippine islands region</dt>\n",
       "\t\t<dd>8</dd>\n",
       "\t<dt>south indian ocean</dt>\n",
       "\t\t<dd>8</dd>\n",
       "\t<dt>banda sea</dt>\n",
       "\t\t<dd>9</dd>\n",
       "\t<dt>minahasa, sulawesi, indonesia</dt>\n",
       "\t\t<dd>9</dd>\n",
       "\t<dt>south sandwich islands region</dt>\n",
       "\t\t<dd>9</dd>\n",
       "\t<dt>southeast of the loyalty islands</dt>\n",
       "\t\t<dd>9</dd>\n",
       "\t<dt>myanmar</dt>\n",
       "\t\t<dd>10</dd>\n",
       "\t<dt>oaxaca, mexico</dt>\n",
       "\t\t<dd>10</dd>\n",
       "\t<dt>california</dt>\n",
       "\t\t<dd>11</dd>\n",
       "\t<dt>guerrero, mexico</dt>\n",
       "\t\t<dd>11</dd>\n",
       "\t<dt>kermadec islands region</dt>\n",
       "\t\t<dd>11</dd>\n",
       "\t<dt>kermadec islands, new zealand</dt>\n",
       "\t\t<dd>11</dd>\n",
       "\t<dt>near the north coast of papua, indonesia</dt>\n",
       "\t\t<dd>12</dd>\n",
       "\t<dt>taiwan region</dt>\n",
       "\t\t<dd>12</dd>\n",
       "\t<dt>molucca sea</dt>\n",
       "\t\t<dd>13</dd>\n",
       "\t<dt>near the east coast of the kamchatka peninsula, russia</dt>\n",
       "\t\t<dd>13</dd>\n",
       "\t<dt>southern sumatra, indonesia</dt>\n",
       "\t\t<dd>14</dd>\n",
       "\t<dt>andreanof islands, aleutian islands, alaska</dt>\n",
       "\t\t<dd>15</dd>\n",
       "\t<dt>taiwan</dt>\n",
       "\t\t<dd>15</dd>\n",
       "\t<dt>new ireland region, papua new guinea</dt>\n",
       "\t\t<dd>17</dd>\n",
       "\t<dt>santa cruz islands</dt>\n",
       "\t\t<dd>19</dd>\n",
       "\t<dt>new britain region, papua new guinea</dt>\n",
       "\t\t<dd>20</dd>\n",
       "\t<dt>kuril islands</dt>\n",
       "\t\t<dd>31</dd>\n",
       "\t<dt>solomon islands</dt>\n",
       "\t\t<dd>35</dd>\n",
       "\t<dt>vanuatu</dt>\n",
       "\t\t<dd>36</dd>\n",
       "\t<dt>philippines</dt>\n",
       "\t\t<dd>49</dd>\n",
       "\t<dt>chile</dt>\n",
       "\t\t<dd>60</dd>\n",
       "\t<dt>japan</dt>\n",
       "\t\t<dd>99</dd>\n",
       "</dl>\n"
      ],
      "text/latex": [
       "\\begin{description*}\n",
       "\\item[101km sw of atka, alaska] 1\n",
       "\\item[104km w of murghob, tajikistan] 1\n",
       "\\item[112km s of kirakira, solomon islands] 1\n",
       "\\item[114km wsw of lata, solomon islands] 1\n",
       "\\item[12km sw of delta, b.c., mx] 1\n",
       "\\item[130km ssw of kokopo, papua new guinea] 1\n",
       "\\item[143km sw of panguna, papua new guinea] 1\n",
       "\\item[154km nw of kota ternate, indonesia] 1\n",
       "\\item[16km sw of ludlow, ca] 1\n",
       "\\item[19km se of kodari, nepal] 1\n",
       "\\item[218km sse of bristol island, south sandwich islands] 1\n",
       "\\item[228km w of abepura, indonesia] 1\n",
       "\\item[240km e of enarotali, indonesia] 1\n",
       "\\item[27km nnw of lata, solomon islands] 1\n",
       "\\item[27km sse of muisne, ecuador] 1\n",
       "\\item[31km se of lata, solomon islands] 1\n",
       "\\item[33km ese of petatlan, mexico] 1\n",
       "\\item[36km e of khudi, nepal] 1\n",
       "\\item[46km sse of acari, peru] 1\n",
       "\\item[53km se of kokopo, papua new guinea] 1\n",
       "\\item[56km wsw of panguna, papua new guinea] 1\n",
       "\\item[61km nne of awaran, pakistan] 1\n",
       "\\item[6km wnw of grapevine, ca] 1\n",
       "\\item[70km sw of panguna, papua new guinea] 1\n",
       "\\item[74km s of intipuca, el salvador] 1\n",
       "\\item[76km w of lata, solomon islands] 1\n",
       "\\item[83km e of khash, iran] 1\n",
       "\\item[83km wnw of lata, solomon islands] 1\n",
       "\\item[93km sse of kirakira, solomon islands] 1\n",
       "\\item[alamagan region, northern mariana islands] 1\n",
       "\\item[antigua and barbuda region, leeward islands] 1\n",
       "\\item[assam, india] 1\n",
       "\\item[baffin bay] 1\n",
       "\\item[balleny islands region] 1\n",
       "\\item[bangladesh] 1\n",
       "\\item[carlsberg ridge] 1\n",
       "\\item[celebes sea] 1\n",
       "\\item[central iran] 1\n",
       "\\item[chagos archipelago region] 1\n",
       "\\item[chitinskaya oblast', russia] 1\n",
       "\\item[chubut, argentina] 1\n",
       "\\item[colombia] 1\n",
       "\\item[colombia-ecuador border region] 1\n",
       "\\item[d'entrecasteaux islands region] 1\n",
       "\\item[east of dominica, leeward islands] 1\n",
       "\\item[east of the north island of new zealand] 1\n",
       "\\item[eastern kazakhstan] 1\n",
       "\\item[eastern sichuan, china] 1\n",
       "\\item[ecuador] 1\n",
       "\\item[egypt] 1\n",
       "\\item[el salvador] 1\n",
       "\\item[falkland islands region] 1\n",
       "\\item[flores region, indonesia] 1\n",
       "\\item[flores sea] 1\n",
       "\\item[gansu-ningxia border region, china] 1\n",
       "\\item[gansu-qinghai border region, china] 1\n",
       "\\item[georgia (sak'art'velo)] 1\n",
       "\\item[greece] 1\n",
       "\\item[gujarat, india] 1\n",
       "\\item[haiti region] 1\n",
       "\\item[hawaii region, hawaii] 1\n",
       "\\item[hebei, china] 1\n",
       "\\item[himachal pradesh, india] 1\n",
       "\\item[hindu kush region, afghanistan] 1\n",
       "\\item[honduras] 1\n",
       "\\item[iran-pakistan border region] 1\n",
       "\\item[kamchatka peninsula, russia] 1\n",
       "\\item[kenya] 1\n",
       "\\item[kepulauan alor, indonesia] 1\n",
       "\\item[kepulauan batu, indonesia] 1\n",
       "\\item[kepulauan obi, indonesia] 1\n",
       "\\item[kepulauan sula, indonesia] 1\n",
       "\\item[kyrgyzstan-tajikistan-xinjiang border region] 1\n",
       "\\item[kyrgyzstan-xinjiang border region] 1\n",
       "\\item[lake tanganyika region, tanzania] 1\n",
       "\\item[lake tanganyika region, tanzania-zambia] 1\n",
       "\\item[liaoning, china] 1\n",
       "\\item[magadanskaya oblast', russia] 1\n",
       "\\item[makassar strait, indonesia] 1\n",
       "\\item[maldive islands region] 1\n",
       "\\item[meghalaya, india region] 1\n",
       "\\item[mozambique] 1\n",
       "\\item[myanmar-india border region] 1\n",
       "\\item[near the coast of fujian, china] 1\n",
       "\\item[near the east coast of koryakskiy avtonomnyy okrug, russia] 1\n",
       "\\item[neuquen, argentina] 1\n",
       "\\item[nevada] 1\n",
       "\\item[nicaragua] 1\n",
       "\\item[north atlantic ocean] 1\n",
       "\\item[north of ascension island] 1\n",
       "\\item[north of halmahera, indonesia] 1\n",
       "\\item[northeastern iran] 1\n",
       "\\item[northern alaska] 1\n",
       "\\item[northern algeria] 1\n",
       "\\item[northern colombia] 1\n",
       "\\item[northern iran] 1\n",
       "\\item[northern peru] 1\n",
       "\\item[off the coast of central peru] 1\n",
       "\\item[off the coast of costa rica] 1\n",
       "\\item[off the coast of el salvador] 1\n",
       "\\item[off the coast of jalisco, mexico] 1\n",
       "\\item[off the coast of northern peru] 1\n",
       "\\item[off the coast of oaxaca, mexico] 1\n",
       "\\item[off the coast of pakistan] 1\n",
       "\\item[off the east coast of the north island of new zealand] 1\n",
       "\\item[offshore colima, mexico] 1\n",
       "\\item[offshore honduras] 1\n",
       "\\item[offshore jalisco, mexico] 1\n",
       "\\item[offshore miranda, venezuela] 1\n",
       "\\item[owen fracture zone region] 1\n",
       "\\item[pagan region, northern mariana islands] 1\n",
       "\\item[panama] 1\n",
       "\\item[panama-colombia border region] 1\n",
       "\\item[puebla, mexico] 1\n",
       "\\item[qinghai-sichuan border region, china] 1\n",
       "\\item[reykjanes ridge] 1\n",
       "\\item[russia-mongolia border region] 1\n",
       "\\item[salta, argentina] 1\n",
       "\\item[santa cruz islands region] 1\n",
       "\\item[savu sea] 1\n",
       "\\item[seram, indonesia] 1\n",
       "\\item[south of africa] 1\n",
       "\\item[south of australia] 1\n",
       "\\item[south of sumbawa, indonesia] 1\n",
       "\\item[south of the aleutian islands] 1\n",
       "\\item[south of the mariana islands] 1\n",
       "\\item[south shetland islands] 1\n",
       "\\item[southeastern sakha, russia] 1\n",
       "\\item[southern greece] 1\n",
       "\\item[southwest indian ridge] 1\n",
       "\\item[southwest of sumatra, indonesia] 1\n",
       "\\item[southwestern pakistan] 1\n",
       "\\item[southwestern siberia, russia] 1\n",
       "\\item[state of yap, federated states of micronesia] 1\n",
       "\\item[sucre, venezuela] 1\n",
       "\\item[sumbawa region, indonesia] 1\n",
       "\\item[sunda strait, indonesia] 1\n",
       "\\item[tianjin-hebei border region, china] 1\n",
       "\\item[tierra del fuego, argentina region] 1\n",
       "\\item[vancouver island, canada region] 1\n",
       "\\item[western iran] 1\n",
       "\\item[western mongolia] 1\n",
       "\\item[xinjiang-xizang border region] 1\n",
       "\\item[yellowstone national park, wyoming] 1\n",
       "\\item[yunnan, china] 1\n",
       "\\item[andaman islands, india region] 2\n",
       "\\item[bulgaria] 2\n",
       "\\item[central afghanistan] 2\n",
       "\\item[central peru] 2\n",
       "\\item[chiapas, mexico] 2\n",
       "\\item[colima, mexico] 2\n",
       "\\item[dominican republic region] 2\n",
       "\\item[eastern turkey] 2\n",
       "\\item[eastern xizang] 2\n",
       "\\item[eastern xizang-india border region] 2\n",
       "\\item[gansu, china] 2\n",
       "\\item[gulf of alaska] 2\n",
       "\\item[haida gwaii region, canada] 2\n",
       "\\item[haida gwaii, canada] 2\n",
       "\\item[jalisco, mexico] 2\n",
       "\\item[java, indonesia] 2\n",
       "\\item[kepulauan aru region, indonesia] 2\n",
       "\\item[komandorskiye ostrova, russia region] 2\n",
       "\\item[near the west coast of colombia] 2\n",
       "\\item[nepal-india border region] 2\n",
       "\\item[nias region, indonesia] 2\n",
       "\\item[offshore el salvador] 2\n",
       "\\item[offshore guerrero, mexico] 2\n",
       "\\item[offshore oaxaca, mexico] 2\n",
       "\\item[palau region] 2\n",
       "\\item[papua region, indonesia] 2\n",
       "\\item[puerto rico region] 2\n",
       "\\item[romania] 2\n",
       "\\item[sakhalin, russia] 2\n",
       "\\item[san juan, argentina] 2\n",
       "\\item[sicily, italy] 2\n",
       "\\item[simeulue, indonesia] 2\n",
       "\\item[south of panama] 2\n",
       "\\item[southeast indian ridge] 2\n",
       "\\item[southeast of taiwan] 2\n",
       "\\item[southern east pacific rise] 2\n",
       "\\item[southern mid-atlantic ridge] 2\n",
       "\\item[southern qinghai, china] 2\n",
       "\\item[sudan] 2\n",
       "\\item[turkey-iran border region] 2\n",
       "\\item[western xizang] 2\n",
       "\\item[aegean sea] 3\n",
       "\\item[alaska peninsula] 3\n",
       "\\item[auckland islands, new zealand region] 3\n",
       "\\item[central alaska] 3\n",
       "\\item[central mongolia] 3\n",
       "\\item[east of the south sandwich islands] 3\n",
       "\\item[guam region] 3\n",
       "\\item[halmahera, indonesia] 3\n",
       "\\item[kepulauan barat daya, indonesia] 3\n",
       "\\item[kodiak island region, alaska] 3\n",
       "\\item[kyrgyzstan] 3\n",
       "\\item[myanmar-china border region] 3\n",
       "\\item[near the coast of northern peru] 3\n",
       "\\item[new guinea, papua new guinea] 3\n",
       "\\item[offshore chiapas, mexico] 3\n",
       "\\item[offshore guatemala] 3\n",
       "\\item[peru-ecuador border region] 3\n",
       "\\item[south of the fiji islands] 3\n",
       "\\item[southern alaska] 3\n",
       "\\item[turkmenistan] 3\n",
       "\\item[vanuatu region] 3\n",
       "\\item[western uzbekistan] 3\n",
       "\\item[azores-cape st. vincent ridge] 4\n",
       "\\item[biak region, indonesia] 4\n",
       "\\item[dodecanese islands, greece] 4\n",
       "\\item[eastern iran] 4\n",
       "\\item[eastern new guinea region, papua new guinea] 4\n",
       "\\item[fox islands, aleutian islands, alaska] 4\n",
       "\\item[guatemala] 4\n",
       "\\item[kepulauan mentawai region, indonesia] 4\n",
       "\\item[kepulauan talaud, indonesia] 4\n",
       "\\item[near islands, aleutian islands, alaska] 4\n",
       "\\item[near the coast of nicaragua] 4\n",
       "\\item[north island of new zealand] 4\n",
       "\\item[north of macquarie island] 4\n",
       "\\item[scotia sea] 4\n",
       "\\item[south of java, indonesia] 4\n",
       "\\item[south of tonga] 4\n",
       "\\item[sulawesi, indonesia] 4\n",
       "\\item[tajikistan] 4\n",
       "\\item[central mid-atlantic ridge] 5\n",
       "\\item[central turkey] 5\n",
       "\\item[loyalty islands, new caledonia] 5\n",
       "\\item[near the coast of ecuador] 5\n",
       "\\item[near the south coast of papua, indonesia] 5\n",
       "\\item[nicobar islands, india region] 5\n",
       "\\item[northern xinjiang, china] 5\n",
       "\\item[pakistan] 5\n",
       "\\item[samoa islands region] 5\n",
       "\\item[south of alaska] 5\n",
       "\\item[southeastern alaska] 5\n",
       "\\item[southern xinjiang, china] 5\n",
       "\\item[tonga region] 5\n",
       "\\item[western sichuan, china] 5\n",
       "\\item[bougainville region, papua new guinea] 6\n",
       "\\item[michoacan, mexico] 6\n",
       "\\item[near the coast of central peru] 6\n",
       "\\item[near the coast of southern peru] 6\n",
       "\\item[northern mid-atlantic ridge] 6\n",
       "\\item[off the west coast of northern sumatra] 6\n",
       "\\item[south island of new zealand] 6\n",
       "\\item[tonga] 6\n",
       "\\item[east of the kuril islands] 7\n",
       "\\item[macquarie island region] 7\n",
       "\\item[mariana islands region] 7\n",
       "\\item[near the north coast of new guinea, papua new guinea] 7\n",
       "\\item[off the east coast of the kamchatka peninsula, russia] 7\n",
       "\\item[off the west coast of the south island of new zealand] 7\n",
       "\\item[rat islands, aleutian islands, alaska] 7\n",
       "\\item[western turkey] 7\n",
       "\\item[costa rica] 8\n",
       "\\item[northern sumatra, indonesia] 8\n",
       "\\item[papua, indonesia] 8\n",
       "\\item[philippine islands region] 8\n",
       "\\item[south indian ocean] 8\n",
       "\\item[banda sea] 9\n",
       "\\item[minahasa, sulawesi, indonesia] 9\n",
       "\\item[south sandwich islands region] 9\n",
       "\\item[southeast of the loyalty islands] 9\n",
       "\\item[myanmar] 10\n",
       "\\item[oaxaca, mexico] 10\n",
       "\\item[california] 11\n",
       "\\item[guerrero, mexico] 11\n",
       "\\item[kermadec islands region] 11\n",
       "\\item[kermadec islands, new zealand] 11\n",
       "\\item[near the north coast of papua, indonesia] 12\n",
       "\\item[taiwan region] 12\n",
       "\\item[molucca sea] 13\n",
       "\\item[near the east coast of the kamchatka peninsula, russia] 13\n",
       "\\item[southern sumatra, indonesia] 14\n",
       "\\item[andreanof islands, aleutian islands, alaska] 15\n",
       "\\item[taiwan] 15\n",
       "\\item[new ireland region, papua new guinea] 17\n",
       "\\item[santa cruz islands] 19\n",
       "\\item[new britain region, papua new guinea] 20\n",
       "\\item[kuril islands] 31\n",
       "\\item[solomon islands] 35\n",
       "\\item[vanuatu] 36\n",
       "\\item[philippines] 49\n",
       "\\item[chile] 60\n",
       "\\item[japan] 99\n",
       "\\end{description*}\n"
      ],
      "text/markdown": [
       "101km sw of atka, alaska\n",
       ":   1104km w of murghob, tajikistan\n",
       ":   1112km s of kirakira, solomon islands\n",
       ":   1114km wsw of lata, solomon islands\n",
       ":   112km sw of delta, b.c., mx\n",
       ":   1130km ssw of kokopo, papua new guinea\n",
       ":   1143km sw of panguna, papua new guinea\n",
       ":   1154km nw of kota ternate, indonesia\n",
       ":   116km sw of ludlow, ca\n",
       ":   119km se of kodari, nepal\n",
       ":   1218km sse of bristol island, south sandwich islands\n",
       ":   1228km w of abepura, indonesia\n",
       ":   1240km e of enarotali, indonesia\n",
       ":   127km nnw of lata, solomon islands\n",
       ":   127km sse of muisne, ecuador\n",
       ":   131km se of lata, solomon islands\n",
       ":   133km ese of petatlan, mexico\n",
       ":   136km e of khudi, nepal\n",
       ":   146km sse of acari, peru\n",
       ":   153km se of kokopo, papua new guinea\n",
       ":   156km wsw of panguna, papua new guinea\n",
       ":   161km nne of awaran, pakistan\n",
       ":   16km wnw of grapevine, ca\n",
       ":   170km sw of panguna, papua new guinea\n",
       ":   174km s of intipuca, el salvador\n",
       ":   176km w of lata, solomon islands\n",
       ":   183km e of khash, iran\n",
       ":   183km wnw of lata, solomon islands\n",
       ":   193km sse of kirakira, solomon islands\n",
       ":   1alamagan region, northern mariana islands\n",
       ":   1antigua and barbuda region, leeward islands\n",
       ":   1assam, india\n",
       ":   1baffin bay\n",
       ":   1balleny islands region\n",
       ":   1bangladesh\n",
       ":   1carlsberg ridge\n",
       ":   1celebes sea\n",
       ":   1central iran\n",
       ":   1chagos archipelago region\n",
       ":   1chitinskaya oblast', russia\n",
       ":   1chubut, argentina\n",
       ":   1colombia\n",
       ":   1colombia-ecuador border region\n",
       ":   1d'entrecasteaux islands region\n",
       ":   1east of dominica, leeward islands\n",
       ":   1east of the north island of new zealand\n",
       ":   1eastern kazakhstan\n",
       ":   1eastern sichuan, china\n",
       ":   1ecuador\n",
       ":   1egypt\n",
       ":   1el salvador\n",
       ":   1falkland islands region\n",
       ":   1flores region, indonesia\n",
       ":   1flores sea\n",
       ":   1gansu-ningxia border region, china\n",
       ":   1gansu-qinghai border region, china\n",
       ":   1georgia (sak'art'velo)\n",
       ":   1greece\n",
       ":   1gujarat, india\n",
       ":   1haiti region\n",
       ":   1hawaii region, hawaii\n",
       ":   1hebei, china\n",
       ":   1himachal pradesh, india\n",
       ":   1hindu kush region, afghanistan\n",
       ":   1honduras\n",
       ":   1iran-pakistan border region\n",
       ":   1kamchatka peninsula, russia\n",
       ":   1kenya\n",
       ":   1kepulauan alor, indonesia\n",
       ":   1kepulauan batu, indonesia\n",
       ":   1kepulauan obi, indonesia\n",
       ":   1kepulauan sula, indonesia\n",
       ":   1kyrgyzstan-tajikistan-xinjiang border region\n",
       ":   1kyrgyzstan-xinjiang border region\n",
       ":   1lake tanganyika region, tanzania\n",
       ":   1lake tanganyika region, tanzania-zambia\n",
       ":   1liaoning, china\n",
       ":   1magadanskaya oblast', russia\n",
       ":   1makassar strait, indonesia\n",
       ":   1maldive islands region\n",
       ":   1meghalaya, india region\n",
       ":   1mozambique\n",
       ":   1myanmar-india border region\n",
       ":   1near the coast of fujian, china\n",
       ":   1near the east coast of koryakskiy avtonomnyy okrug, russia\n",
       ":   1neuquen, argentina\n",
       ":   1nevada\n",
       ":   1nicaragua\n",
       ":   1north atlantic ocean\n",
       ":   1north of ascension island\n",
       ":   1north of halmahera, indonesia\n",
       ":   1northeastern iran\n",
       ":   1northern alaska\n",
       ":   1northern algeria\n",
       ":   1northern colombia\n",
       ":   1northern iran\n",
       ":   1northern peru\n",
       ":   1off the coast of central peru\n",
       ":   1off the coast of costa rica\n",
       ":   1off the coast of el salvador\n",
       ":   1off the coast of jalisco, mexico\n",
       ":   1off the coast of northern peru\n",
       ":   1off the coast of oaxaca, mexico\n",
       ":   1off the coast of pakistan\n",
       ":   1off the east coast of the north island of new zealand\n",
       ":   1offshore colima, mexico\n",
       ":   1offshore honduras\n",
       ":   1offshore jalisco, mexico\n",
       ":   1offshore miranda, venezuela\n",
       ":   1owen fracture zone region\n",
       ":   1pagan region, northern mariana islands\n",
       ":   1panama\n",
       ":   1panama-colombia border region\n",
       ":   1puebla, mexico\n",
       ":   1qinghai-sichuan border region, china\n",
       ":   1reykjanes ridge\n",
       ":   1russia-mongolia border region\n",
       ":   1salta, argentina\n",
       ":   1santa cruz islands region\n",
       ":   1savu sea\n",
       ":   1seram, indonesia\n",
       ":   1south of africa\n",
       ":   1south of australia\n",
       ":   1south of sumbawa, indonesia\n",
       ":   1south of the aleutian islands\n",
       ":   1south of the mariana islands\n",
       ":   1south shetland islands\n",
       ":   1southeastern sakha, russia\n",
       ":   1southern greece\n",
       ":   1southwest indian ridge\n",
       ":   1southwest of sumatra, indonesia\n",
       ":   1southwestern pakistan\n",
       ":   1southwestern siberia, russia\n",
       ":   1state of yap, federated states of micronesia\n",
       ":   1sucre, venezuela\n",
       ":   1sumbawa region, indonesia\n",
       ":   1sunda strait, indonesia\n",
       ":   1tianjin-hebei border region, china\n",
       ":   1tierra del fuego, argentina region\n",
       ":   1vancouver island, canada region\n",
       ":   1western iran\n",
       ":   1western mongolia\n",
       ":   1xinjiang-xizang border region\n",
       ":   1yellowstone national park, wyoming\n",
       ":   1yunnan, china\n",
       ":   1andaman islands, india region\n",
       ":   2bulgaria\n",
       ":   2central afghanistan\n",
       ":   2central peru\n",
       ":   2chiapas, mexico\n",
       ":   2colima, mexico\n",
       ":   2dominican republic region\n",
       ":   2eastern turkey\n",
       ":   2eastern xizang\n",
       ":   2eastern xizang-india border region\n",
       ":   2gansu, china\n",
       ":   2gulf of alaska\n",
       ":   2haida gwaii region, canada\n",
       ":   2haida gwaii, canada\n",
       ":   2jalisco, mexico\n",
       ":   2java, indonesia\n",
       ":   2kepulauan aru region, indonesia\n",
       ":   2komandorskiye ostrova, russia region\n",
       ":   2near the west coast of colombia\n",
       ":   2nepal-india border region\n",
       ":   2nias region, indonesia\n",
       ":   2offshore el salvador\n",
       ":   2offshore guerrero, mexico\n",
       ":   2offshore oaxaca, mexico\n",
       ":   2palau region\n",
       ":   2papua region, indonesia\n",
       ":   2puerto rico region\n",
       ":   2romania\n",
       ":   2sakhalin, russia\n",
       ":   2san juan, argentina\n",
       ":   2sicily, italy\n",
       ":   2simeulue, indonesia\n",
       ":   2south of panama\n",
       ":   2southeast indian ridge\n",
       ":   2southeast of taiwan\n",
       ":   2southern east pacific rise\n",
       ":   2southern mid-atlantic ridge\n",
       ":   2southern qinghai, china\n",
       ":   2sudan\n",
       ":   2turkey-iran border region\n",
       ":   2western xizang\n",
       ":   2aegean sea\n",
       ":   3alaska peninsula\n",
       ":   3auckland islands, new zealand region\n",
       ":   3central alaska\n",
       ":   3central mongolia\n",
       ":   3east of the south sandwich islands\n",
       ":   3guam region\n",
       ":   3halmahera, indonesia\n",
       ":   3kepulauan barat daya, indonesia\n",
       ":   3kodiak island region, alaska\n",
       ":   3kyrgyzstan\n",
       ":   3myanmar-china border region\n",
       ":   3near the coast of northern peru\n",
       ":   3new guinea, papua new guinea\n",
       ":   3offshore chiapas, mexico\n",
       ":   3offshore guatemala\n",
       ":   3peru-ecuador border region\n",
       ":   3south of the fiji islands\n",
       ":   3southern alaska\n",
       ":   3turkmenistan\n",
       ":   3vanuatu region\n",
       ":   3western uzbekistan\n",
       ":   3azores-cape st. vincent ridge\n",
       ":   4biak region, indonesia\n",
       ":   4dodecanese islands, greece\n",
       ":   4eastern iran\n",
       ":   4eastern new guinea region, papua new guinea\n",
       ":   4fox islands, aleutian islands, alaska\n",
       ":   4guatemala\n",
       ":   4kepulauan mentawai region, indonesia\n",
       ":   4kepulauan talaud, indonesia\n",
       ":   4near islands, aleutian islands, alaska\n",
       ":   4near the coast of nicaragua\n",
       ":   4north island of new zealand\n",
       ":   4north of macquarie island\n",
       ":   4scotia sea\n",
       ":   4south of java, indonesia\n",
       ":   4south of tonga\n",
       ":   4sulawesi, indonesia\n",
       ":   4tajikistan\n",
       ":   4central mid-atlantic ridge\n",
       ":   5central turkey\n",
       ":   5loyalty islands, new caledonia\n",
       ":   5near the coast of ecuador\n",
       ":   5near the south coast of papua, indonesia\n",
       ":   5nicobar islands, india region\n",
       ":   5northern xinjiang, china\n",
       ":   5pakistan\n",
       ":   5samoa islands region\n",
       ":   5south of alaska\n",
       ":   5southeastern alaska\n",
       ":   5southern xinjiang, china\n",
       ":   5tonga region\n",
       ":   5western sichuan, china\n",
       ":   5bougainville region, papua new guinea\n",
       ":   6michoacan, mexico\n",
       ":   6near the coast of central peru\n",
       ":   6near the coast of southern peru\n",
       ":   6northern mid-atlantic ridge\n",
       ":   6off the west coast of northern sumatra\n",
       ":   6south island of new zealand\n",
       ":   6tonga\n",
       ":   6east of the kuril islands\n",
       ":   7macquarie island region\n",
       ":   7mariana islands region\n",
       ":   7near the north coast of new guinea, papua new guinea\n",
       ":   7off the east coast of the kamchatka peninsula, russia\n",
       ":   7off the west coast of the south island of new zealand\n",
       ":   7rat islands, aleutian islands, alaska\n",
       ":   7western turkey\n",
       ":   7costa rica\n",
       ":   8northern sumatra, indonesia\n",
       ":   8papua, indonesia\n",
       ":   8philippine islands region\n",
       ":   8south indian ocean\n",
       ":   8banda sea\n",
       ":   9minahasa, sulawesi, indonesia\n",
       ":   9south sandwich islands region\n",
       ":   9southeast of the loyalty islands\n",
       ":   9myanmar\n",
       ":   10oaxaca, mexico\n",
       ":   10california\n",
       ":   11guerrero, mexico\n",
       ":   11kermadec islands region\n",
       ":   11kermadec islands, new zealand\n",
       ":   11near the north coast of papua, indonesia\n",
       ":   12taiwan region\n",
       ":   12molucca sea\n",
       ":   13near the east coast of the kamchatka peninsula, russia\n",
       ":   13southern sumatra, indonesia\n",
       ":   14andreanof islands, aleutian islands, alaska\n",
       ":   15taiwan\n",
       ":   15new ireland region, papua new guinea\n",
       ":   17santa cruz islands\n",
       ":   19new britain region, papua new guinea\n",
       ":   20kuril islands\n",
       ":   31solomon islands\n",
       ":   35vanuatu\n",
       ":   36philippines\n",
       ":   49chile\n",
       ":   60japan\n",
       ":   99\n",
       "\n"
      ],
      "text/plain": [
       "\n",
       "                                  101km sw of atka, alaska \n",
       "                                                         1 \n",
       "                            104km w of murghob, tajikistan \n",
       "                                                         1 \n",
       "                      112km s of kirakira, solomon islands \n",
       "                                                         1 \n",
       "                        114km wsw of lata, solomon islands \n",
       "                                                         1 \n",
       "                                12km sw of delta, b.c., mx \n",
       "                                                         1 \n",
       "                     130km ssw of kokopo, papua new guinea \n",
       "                                                         1 \n",
       "                     143km sw of panguna, papua new guinea \n",
       "                                                         1 \n",
       "                       154km nw of kota ternate, indonesia \n",
       "                                                         1 \n",
       "                                     16km sw of ludlow, ca \n",
       "                                                         1 \n",
       "                                  19km se of kodari, nepal \n",
       "                                                         1 \n",
       "       218km sse of bristol island, south sandwich islands \n",
       "                                                         1 \n",
       "                             228km w of abepura, indonesia \n",
       "                                                         1 \n",
       "                           240km e of enarotali, indonesia \n",
       "                                                         1 \n",
       "                         27km nnw of lata, solomon islands \n",
       "                                                         1 \n",
       "                               27km sse of muisne, ecuador \n",
       "                                                         1 \n",
       "                          31km se of lata, solomon islands \n",
       "                                                         1 \n",
       "                              33km ese of petatlan, mexico \n",
       "                                                         1 \n",
       "                                    36km e of khudi, nepal \n",
       "                                                         1 \n",
       "                                   46km sse of acari, peru \n",
       "                                                         1 \n",
       "                       53km se of kokopo, papua new guinea \n",
       "                                                         1 \n",
       "                     56km wsw of panguna, papua new guinea \n",
       "                                                         1 \n",
       "                              61km nne of awaran, pakistan \n",
       "                                                         1 \n",
       "                                  6km wnw of grapevine, ca \n",
       "                                                         1 \n",
       "                      70km sw of panguna, papua new guinea \n",
       "                                                         1 \n",
       "                           74km s of intipuca, el salvador \n",
       "                                                         1 \n",
       "                           76km w of lata, solomon islands \n",
       "                                                         1 \n",
       "                                     83km e of khash, iran \n",
       "                                                         1 \n",
       "                         83km wnw of lata, solomon islands \n",
       "                                                         1 \n",
       "                     93km sse of kirakira, solomon islands \n",
       "                                                         1 \n",
       "                 alamagan region, northern mariana islands \n",
       "                                                         1 \n",
       "               antigua and barbuda region, leeward islands \n",
       "                                                         1 \n",
       "                                              assam, india \n",
       "                                                         1 \n",
       "                                                baffin bay \n",
       "                                                         1 \n",
       "                                    balleny islands region \n",
       "                                                         1 \n",
       "                                                bangladesh \n",
       "                                                         1 \n",
       "                                           carlsberg ridge \n",
       "                                                         1 \n",
       "                                               celebes sea \n",
       "                                                         1 \n",
       "                                              central iran \n",
       "                                                         1 \n",
       "                                 chagos archipelago region \n",
       "                                                         1 \n",
       "                               chitinskaya oblast', russia \n",
       "                                                         1 \n",
       "                                         chubut, argentina \n",
       "                                                         1 \n",
       "                                                  colombia \n",
       "                                                         1 \n",
       "                            colombia-ecuador border region \n",
       "                                                         1 \n",
       "                            d'entrecasteaux islands region \n",
       "                                                         1 \n",
       "                         east of dominica, leeward islands \n",
       "                                                         1 \n",
       "                   east of the north island of new zealand \n",
       "                                                         1 \n",
       "                                        eastern kazakhstan \n",
       "                                                         1 \n",
       "                                    eastern sichuan, china \n",
       "                                                         1 \n",
       "                                                   ecuador \n",
       "                                                         1 \n",
       "                                                     egypt \n",
       "                                                         1 \n",
       "                                               el salvador \n",
       "                                                         1 \n",
       "                                   falkland islands region \n",
       "                                                         1 \n",
       "                                  flores region, indonesia \n",
       "                                                         1 \n",
       "                                                flores sea \n",
       "                                                         1 \n",
       "                        gansu-ningxia border region, china \n",
       "                                                         1 \n",
       "                        gansu-qinghai border region, china \n",
       "                                                         1 \n",
       "                                    georgia (sak'art'velo) \n",
       "                                                         1 \n",
       "                                                    greece \n",
       "                                                         1 \n",
       "                                            gujarat, india \n",
       "                                                         1 \n",
       "                                              haiti region \n",
       "                                                         1 \n",
       "                                     hawaii region, hawaii \n",
       "                                                         1 \n",
       "                                              hebei, china \n",
       "                                                         1 \n",
       "                                   himachal pradesh, india \n",
       "                                                         1 \n",
       "                            hindu kush region, afghanistan \n",
       "                                                         1 \n",
       "                                                  honduras \n",
       "                                                         1 \n",
       "                               iran-pakistan border region \n",
       "                                                         1 \n",
       "                               kamchatka peninsula, russia \n",
       "                                                         1 \n",
       "                                                     kenya \n",
       "                                                         1 \n",
       "                                 kepulauan alor, indonesia \n",
       "                                                         1 \n",
       "                                 kepulauan batu, indonesia \n",
       "                                                         1 \n",
       "                                  kepulauan obi, indonesia \n",
       "                                                         1 \n",
       "                                 kepulauan sula, indonesia \n",
       "                                                         1 \n",
       "              kyrgyzstan-tajikistan-xinjiang border region \n",
       "                                                         1 \n",
       "                         kyrgyzstan-xinjiang border region \n",
       "                                                         1 \n",
       "                          lake tanganyika region, tanzania \n",
       "                                                         1 \n",
       "                   lake tanganyika region, tanzania-zambia \n",
       "                                                         1 \n",
       "                                           liaoning, china \n",
       "                                                         1 \n",
       "                              magadanskaya oblast', russia \n",
       "                                                         1 \n",
       "                                makassar strait, indonesia \n",
       "                                                         1 \n",
       "                                    maldive islands region \n",
       "                                                         1 \n",
       "                                   meghalaya, india region \n",
       "                                                         1 \n",
       "                                                mozambique \n",
       "                                                         1 \n",
       "                               myanmar-india border region \n",
       "                                                         1 \n",
       "                           near the coast of fujian, china \n",
       "                                                         1 \n",
       "near the east coast of koryakskiy avtonomnyy okrug, russia \n",
       "                                                         1 \n",
       "                                        neuquen, argentina \n",
       "                                                         1 \n",
       "                                                    nevada \n",
       "                                                         1 \n",
       "                                                 nicaragua \n",
       "                                                         1 \n",
       "                                      north atlantic ocean \n",
       "                                                         1 \n",
       "                                 north of ascension island \n",
       "                                                         1 \n",
       "                             north of halmahera, indonesia \n",
       "                                                         1 \n",
       "                                         northeastern iran \n",
       "                                                         1 \n",
       "                                           northern alaska \n",
       "                                                         1 \n",
       "                                          northern algeria \n",
       "                                                         1 \n",
       "                                         northern colombia \n",
       "                                                         1 \n",
       "                                             northern iran \n",
       "                                                         1 \n",
       "                                             northern peru \n",
       "                                                         1 \n",
       "                             off the coast of central peru \n",
       "                                                         1 \n",
       "                               off the coast of costa rica \n",
       "                                                         1 \n",
       "                              off the coast of el salvador \n",
       "                                                         1 \n",
       "                          off the coast of jalisco, mexico \n",
       "                                                         1 \n",
       "                            off the coast of northern peru \n",
       "                                                         1 \n",
       "                           off the coast of oaxaca, mexico \n",
       "                                                         1 \n",
       "                                 off the coast of pakistan \n",
       "                                                         1 \n",
       "     off the east coast of the north island of new zealand \n",
       "                                                         1 \n",
       "                                   offshore colima, mexico \n",
       "                                                         1 \n",
       "                                         offshore honduras \n",
       "                                                         1 \n",
       "                                  offshore jalisco, mexico \n",
       "                                                         1 \n",
       "                               offshore miranda, venezuela \n",
       "                                                         1 \n",
       "                                 owen fracture zone region \n",
       "                                                         1 \n",
       "                    pagan region, northern mariana islands \n",
       "                                                         1 \n",
       "                                                    panama \n",
       "                                                         1 \n",
       "                             panama-colombia border region \n",
       "                                                         1 \n",
       "                                            puebla, mexico \n",
       "                                                         1 \n",
       "                      qinghai-sichuan border region, china \n",
       "                                                         1 \n",
       "                                           reykjanes ridge \n",
       "                                                         1 \n",
       "                             russia-mongolia border region \n",
       "                                                         1 \n",
       "                                          salta, argentina \n",
       "                                                         1 \n",
       "                                 santa cruz islands region \n",
       "                                                         1 \n",
       "                                                  savu sea \n",
       "                                                         1 \n",
       "                                          seram, indonesia \n",
       "                                                         1 \n",
       "                                           south of africa \n",
       "                                                         1 \n",
       "                                        south of australia \n",
       "                                                         1 \n",
       "                               south of sumbawa, indonesia \n",
       "                                                         1 \n",
       "                             south of the aleutian islands \n",
       "                                                         1 \n",
       "                              south of the mariana islands \n",
       "                                                         1 \n",
       "                                    south shetland islands \n",
       "                                                         1 \n",
       "                                southeastern sakha, russia \n",
       "                                                         1 \n",
       "                                           southern greece \n",
       "                                                         1 \n",
       "                                    southwest indian ridge \n",
       "                                                         1 \n",
       "                           southwest of sumatra, indonesia \n",
       "                                                         1 \n",
       "                                     southwestern pakistan \n",
       "                                                         1 \n",
       "                              southwestern siberia, russia \n",
       "                                                         1 \n",
       "              state of yap, federated states of micronesia \n",
       "                                                         1 \n",
       "                                          sucre, venezuela \n",
       "                                                         1 \n",
       "                                 sumbawa region, indonesia \n",
       "                                                         1 \n",
       "                                   sunda strait, indonesia \n",
       "                                                         1 \n",
       "                        tianjin-hebei border region, china \n",
       "                                                         1 \n",
       "                        tierra del fuego, argentina region \n",
       "                                                         1 \n",
       "                           vancouver island, canada region \n",
       "                                                         1 \n",
       "                                              western iran \n",
       "                                                         1 \n",
       "                                          western mongolia \n",
       "                                                         1 \n",
       "                             xinjiang-xizang border region \n",
       "                                                         1 \n",
       "                        yellowstone national park, wyoming \n",
       "                                                         1 \n",
       "                                             yunnan, china \n",
       "                                                         1 \n",
       "                             andaman islands, india region \n",
       "                                                         2 \n",
       "                                                  bulgaria \n",
       "                                                         2 \n",
       "                                       central afghanistan \n",
       "                                                         2 \n",
       "                                              central peru \n",
       "                                                         2 \n",
       "                                           chiapas, mexico \n",
       "                                                         2 \n",
       "                                            colima, mexico \n",
       "                                                         2 \n",
       "                                 dominican republic region \n",
       "                                                         2 \n",
       "                                            eastern turkey \n",
       "                                                         2 \n",
       "                                            eastern xizang \n",
       "                                                         2 \n",
       "                        eastern xizang-india border region \n",
       "                                                         2 \n",
       "                                              gansu, china \n",
       "                                                         2 \n",
       "                                            gulf of alaska \n",
       "                                                         2 \n",
       "                                haida gwaii region, canada \n",
       "                                                         2 \n",
       "                                       haida gwaii, canada \n",
       "                                                         2 \n",
       "                                           jalisco, mexico \n",
       "                                                         2 \n",
       "                                           java, indonesia \n",
       "                                                         2 \n",
       "                           kepulauan aru region, indonesia \n",
       "                                                         2 \n",
       "                      komandorskiye ostrova, russia region \n",
       "                                                         2 \n",
       "                           near the west coast of colombia \n",
       "                                                         2 \n",
       "                                 nepal-india border region \n",
       "                                                         2 \n",
       "                                    nias region, indonesia \n",
       "                                                         2 \n",
       "                                      offshore el salvador \n",
       "                                                         2 \n",
       "                                 offshore guerrero, mexico \n",
       "                                                         2 \n",
       "                                   offshore oaxaca, mexico \n",
       "                                                         2 \n",
       "                                              palau region \n",
       "                                                         2 \n",
       "                                   papua region, indonesia \n",
       "                                                         2 \n",
       "                                        puerto rico region \n",
       "                                                         2 \n",
       "                                                   romania \n",
       "                                                         2 \n",
       "                                          sakhalin, russia \n",
       "                                                         2 \n",
       "                                       san juan, argentina \n",
       "                                                         2 \n",
       "                                             sicily, italy \n",
       "                                                         2 \n",
       "                                       simeulue, indonesia \n",
       "                                                         2 \n",
       "                                           south of panama \n",
       "                                                         2 \n",
       "                                    southeast indian ridge \n",
       "                                                         2 \n",
       "                                       southeast of taiwan \n",
       "                                                         2 \n",
       "                                southern east pacific rise \n",
       "                                                         2 \n",
       "                               southern mid-atlantic ridge \n",
       "                                                         2 \n",
       "                                   southern qinghai, china \n",
       "                                                         2 \n",
       "                                                     sudan \n",
       "                                                         2 \n",
       "                                 turkey-iran border region \n",
       "                                                         2 \n",
       "                                            western xizang \n",
       "                                                         2 \n",
       "                                                aegean sea \n",
       "                                                         3 \n",
       "                                          alaska peninsula \n",
       "                                                         3 \n",
       "                      auckland islands, new zealand region \n",
       "                                                         3 \n",
       "                                            central alaska \n",
       "                                                         3 \n",
       "                                          central mongolia \n",
       "                                                         3 \n",
       "                        east of the south sandwich islands \n",
       "                                                         3 \n",
       "                                               guam region \n",
       "                                                         3 \n",
       "                                      halmahera, indonesia \n",
       "                                                         3 \n",
       "                           kepulauan barat daya, indonesia \n",
       "                                                         3 \n",
       "                              kodiak island region, alaska \n",
       "                                                         3 \n",
       "                                                kyrgyzstan \n",
       "                                                         3 \n",
       "                               myanmar-china border region \n",
       "                                                         3 \n",
       "                           near the coast of northern peru \n",
       "                                                         3 \n",
       "                              new guinea, papua new guinea \n",
       "                                                         3 \n",
       "                                  offshore chiapas, mexico \n",
       "                                                         3 \n",
       "                                        offshore guatemala \n",
       "                                                         3 \n",
       "                                peru-ecuador border region \n",
       "                                                         3 \n",
       "                                 south of the fiji islands \n",
       "                                                         3 \n",
       "                                           southern alaska \n",
       "                                                         3 \n",
       "                                              turkmenistan \n",
       "                                                         3 \n",
       "                                            vanuatu region \n",
       "                                                         3 \n",
       "                                        western uzbekistan \n",
       "                                                         3 \n",
       "                             azores-cape st. vincent ridge \n",
       "                                                         4 \n",
       "                                    biak region, indonesia \n",
       "                                                         4 \n",
       "                                dodecanese islands, greece \n",
       "                                                         4 \n",
       "                                              eastern iran \n",
       "                                                         4 \n",
       "               eastern new guinea region, papua new guinea \n",
       "                                                         4 \n",
       "                     fox islands, aleutian islands, alaska \n",
       "                                                         4 \n",
       "                                                 guatemala \n",
       "                                                         4 \n",
       "                      kepulauan mentawai region, indonesia \n",
       "                                                         4 \n",
       "                               kepulauan talaud, indonesia \n",
       "                                                         4 \n",
       "                    near islands, aleutian islands, alaska \n",
       "                                                         4 \n",
       "                               near the coast of nicaragua \n",
       "                                                         4 \n",
       "                               north island of new zealand \n",
       "                                                         4 \n",
       "                                 north of macquarie island \n",
       "                                                         4 \n",
       "                                                scotia sea \n",
       "                                                         4 \n",
       "                                  south of java, indonesia \n",
       "                                                         4 \n",
       "                                            south of tonga \n",
       "                                                         4 \n",
       "                                       sulawesi, indonesia \n",
       "                                                         4 \n",
       "                                                tajikistan \n",
       "                                                         4 \n",
       "                                central mid-atlantic ridge \n",
       "                                                         5 \n",
       "                                            central turkey \n",
       "                                                         5 \n",
       "                            loyalty islands, new caledonia \n",
       "                                                         5 \n",
       "                                 near the coast of ecuador \n",
       "                                                         5 \n",
       "                  near the south coast of papua, indonesia \n",
       "                                                         5 \n",
       "                             nicobar islands, india region \n",
       "                                                         5 \n",
       "                                  northern xinjiang, china \n",
       "                                                         5 \n",
       "                                                  pakistan \n",
       "                                                         5 \n",
       "                                      samoa islands region \n",
       "                                                         5 \n",
       "                                           south of alaska \n",
       "                                                         5 \n",
       "                                       southeastern alaska \n",
       "                                                         5 \n",
       "                                  southern xinjiang, china \n",
       "                                                         5 \n",
       "                                              tonga region \n",
       "                                                         5 \n",
       "                                    western sichuan, china \n",
       "                                                         5 \n",
       "                     bougainville region, papua new guinea \n",
       "                                                         6 \n",
       "                                         michoacan, mexico \n",
       "                                                         6 \n",
       "                            near the coast of central peru \n",
       "                                                         6 \n",
       "                           near the coast of southern peru \n",
       "                                                         6 \n",
       "                               northern mid-atlantic ridge \n",
       "                                                         6 \n",
       "                    off the west coast of northern sumatra \n",
       "                                                         6 \n",
       "                               south island of new zealand \n",
       "                                                         6 \n",
       "                                                     tonga \n",
       "                                                         6 \n",
       "                                 east of the kuril islands \n",
       "                                                         7 \n",
       "                                   macquarie island region \n",
       "                                                         7 \n",
       "                                    mariana islands region \n",
       "                                                         7 \n",
       "      near the north coast of new guinea, papua new guinea \n",
       "                                                         7 \n",
       "     off the east coast of the kamchatka peninsula, russia \n",
       "                                                         7 \n",
       "     off the west coast of the south island of new zealand \n",
       "                                                         7 \n",
       "                     rat islands, aleutian islands, alaska \n",
       "                                                         7 \n",
       "                                            western turkey \n",
       "                                                         7 \n",
       "                                                costa rica \n",
       "                                                         8 \n",
       "                               northern sumatra, indonesia \n",
       "                                                         8 \n",
       "                                          papua, indonesia \n",
       "                                                         8 \n",
       "                                 philippine islands region \n",
       "                                                         8 \n",
       "                                        south indian ocean \n",
       "                                                         8 \n",
       "                                                 banda sea \n",
       "                                                         9 \n",
       "                             minahasa, sulawesi, indonesia \n",
       "                                                         9 \n",
       "                             south sandwich islands region \n",
       "                                                         9 \n",
       "                          southeast of the loyalty islands \n",
       "                                                         9 \n",
       "                                                   myanmar \n",
       "                                                        10 \n",
       "                                            oaxaca, mexico \n",
       "                                                        10 \n",
       "                                                california \n",
       "                                                        11 \n",
       "                                          guerrero, mexico \n",
       "                                                        11 \n",
       "                                   kermadec islands region \n",
       "                                                        11 \n",
       "                             kermadec islands, new zealand \n",
       "                                                        11 \n",
       "                  near the north coast of papua, indonesia \n",
       "                                                        12 \n",
       "                                             taiwan region \n",
       "                                                        12 \n",
       "                                               molucca sea \n",
       "                                                        13 \n",
       "    near the east coast of the kamchatka peninsula, russia \n",
       "                                                        13 \n",
       "                               southern sumatra, indonesia \n",
       "                                                        14 \n",
       "               andreanof islands, aleutian islands, alaska \n",
       "                                                        15 \n",
       "                                                    taiwan \n",
       "                                                        15 \n",
       "                      new ireland region, papua new guinea \n",
       "                                                        17 \n",
       "                                        santa cruz islands \n",
       "                                                        19 \n",
       "                      new britain region, papua new guinea \n",
       "                                                        20 \n",
       "                                             kuril islands \n",
       "                                                        31 \n",
       "                                           solomon islands \n",
       "                                                        35 \n",
       "                                                   vanuatu \n",
       "                                                        36 \n",
       "                                               philippines \n",
       "                                                        49 \n",
       "                                                     chile \n",
       "                                                        60 \n",
       "                                                     japan \n",
       "                                                        99 "
      ]
     },
     "execution_count": 52,
     "metadata": {},
     "output_type": "execute_result"
    }
   ],
   "source": [
    "sort(table(dat$place))"
   ]
  },
  {
   "cell_type": "code",
   "execution_count": 88,
   "metadata": {
    "collapsed": true
   },
   "outputs": [],
   "source": [
    "dat1<-subset(dat,dat$place==\"japan\"|dat$place==\"chile\"|dat$place==\"philippines\"\n",
    "            |dat$place==\"california\")"
   ]
  },
  {
   "cell_type": "code",
   "execution_count": 89,
   "metadata": {
    "collapsed": false
   },
   "outputs": [],
   "source": [
    "library(ggplot2)"
   ]
  },
  {
   "cell_type": "code",
   "execution_count": 90,
   "metadata": {
    "collapsed": false
   },
   "outputs": [],
   "source": [
    "dat1$place<-as.factor(dat1$place)"
   ]
  },
  {
   "cell_type": "code",
   "execution_count": 91,
   "metadata": {
    "collapsed": false
   },
   "outputs": [
    {
     "data": {
      "text/html": [
       "<strong>pdf:</strong> 2"
      ],
      "text/latex": [
       "\\textbf{pdf:} 2"
      ],
      "text/markdown": [
       "**pdf:** 2"
      ],
      "text/plain": [
       "pdf \n",
       "  2 "
      ]
     },
     "execution_count": 91,
     "metadata": {},
     "output_type": "execute_result"
    }
   ],
   "source": [
    "png(file = \"plot1.png\")\n",
    "qplot(time,mag,data=dat1,xlab=\"Year\",ylab=\"magnitude\",color=place,geom=c(\"point\",\"smooth\"))\n",
    "dev.off()"
   ]
  },
  {
   "cell_type": "code",
   "execution_count": 92,
   "metadata": {
    "collapsed": false
   },
   "outputs": [
    {
     "data": {
      "text/html": [
       "<strong>pdf:</strong> 2"
      ],
      "text/latex": [
       "\\textbf{pdf:} 2"
      ],
      "text/markdown": [
       "**pdf:** 2"
      ],
      "text/plain": [
       "pdf \n",
       "  2 "
      ]
     },
     "execution_count": 92,
     "metadata": {},
     "output_type": "execute_result"
    }
   ],
   "source": [
    "png(file = \"plot2.png\")\n",
    "qplot(mag,data=dat1,fill=place,bins=30)\n",
    "dev.off()"
   ]
  },
  {
   "cell_type": "code",
   "execution_count": null,
   "metadata": {
    "collapsed": true
   },
   "outputs": [],
   "source": []
  }
 ],
 "metadata": {
  "kernelspec": {
   "display_name": "R",
   "language": "R",
   "name": "ir"
  },
  "language_info": {
   "codemirror_mode": "r",
   "file_extension": ".r",
   "mimetype": "text/x-r-source",
   "name": "R",
   "pygments_lexer": "r",
   "version": "3.2.4"
  }
 },
 "nbformat": 4,
 "nbformat_minor": 0
}
