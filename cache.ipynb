{
 "cells": [
  {
   "cell_type": "code",
   "execution_count": 1,
   "metadata": {
    "collapsed": true
   },
   "outputs": [],
   "source": [
    "makeCacheMatrix <- function(x = matrix()) {\n",
    "        inv <- NULL\n",
    "        set <- function(y) {\n",
    "                x <<- y\n",
    "                inv <<- NULL\n",
    "        }\n",
    "        get <- function() x\n",
    "        setInverse <- function(inverse) inv <<- inverse\n",
    "        getInverse <- function() inv\n",
    "        list(set = set,\n",
    "             get = get,\n",
    "             setInverse = setInverse,\n",
    "             getInverse = getInverse)\n",
    "}\n",
    "\n",
    "cacheSolve <- function(x, ...) {\n",
    "        ## Return a matrix that is the inverse of 'x'\n",
    "        inv <- x$getInverse()\n",
    "        if (!is.null(inv)) {\n",
    "                message(\"getting cached data\")\n",
    "                return(inv)\n",
    "        }\n",
    "        mat <- x$get()\n",
    "        inv <- solve(mat, ...)\n",
    "        x$setInverse(inv)\n",
    "        inv\n",
    "}"
   ]
  },
  {
   "cell_type": "code",
   "execution_count": 2,
   "metadata": {
    "collapsed": true
   },
   "outputs": [],
   "source": [
    "my_matrix <- makeCacheMatrix(matrix(1:4, 2, 2))"
   ]
  },
  {
   "cell_type": "code",
   "execution_count": 3,
   "metadata": {
    "collapsed": false
   },
   "outputs": [
    {
     "data": {
      "text/html": [
       "<table>\n",
       "<tbody>\n",
       "\t<tr><td>1</td><td>3</td></tr>\n",
       "\t<tr><td>2</td><td>4</td></tr>\n",
       "</tbody>\n",
       "</table>\n"
      ],
      "text/latex": [
       "\\begin{tabular}{ll}\n",
       "\t 1 & 3\\\\\n",
       "\t 2 & 4\\\\\n",
       "\\end{tabular}\n"
      ],
      "text/markdown": [
       "1. 1\n",
       "2. 2\n",
       "3. 3\n",
       "4. 4\n",
       "\n",
       "\n"
      ],
      "text/plain": [
       "     [,1] [,2]\n",
       "[1,]    1    3\n",
       "[2,]    2    4"
      ]
     },
     "execution_count": 3,
     "metadata": {},
     "output_type": "execute_result"
    }
   ],
   "source": [
    "my_matrix$get()"
   ]
  },
  {
   "cell_type": "code",
   "execution_count": 4,
   "metadata": {
    "collapsed": false
   },
   "outputs": [
    {
     "data": {
      "text/plain": [
       "NULL"
      ]
     },
     "execution_count": 4,
     "metadata": {},
     "output_type": "execute_result"
    }
   ],
   "source": [
    "my_matrix$getInverse()"
   ]
  },
  {
   "cell_type": "code",
   "execution_count": 5,
   "metadata": {
    "collapsed": false
   },
   "outputs": [
    {
     "data": {
      "text/html": [
       "<table>\n",
       "<tbody>\n",
       "\t<tr><td>-2.0</td><td> 1.5</td></tr>\n",
       "\t<tr><td> 1.0</td><td>-0.5</td></tr>\n",
       "</tbody>\n",
       "</table>\n"
      ],
      "text/latex": [
       "\\begin{tabular}{ll}\n",
       "\t -2.0 &  1.5\\\\\n",
       "\t  1.0 & -0.5\\\\\n",
       "\\end{tabular}\n"
      ],
      "text/markdown": [
       "1. -2\n",
       "2. 1\n",
       "3. 1.5\n",
       "4. -0.5\n",
       "\n",
       "\n"
      ],
      "text/plain": [
       "     [,1] [,2]\n",
       "[1,]   -2  1.5\n",
       "[2,]    1 -0.5"
      ]
     },
     "execution_count": 5,
     "metadata": {},
     "output_type": "execute_result"
    }
   ],
   "source": [
    "cacheSolve(my_matrix)"
   ]
  },
  {
   "cell_type": "code",
   "execution_count": 6,
   "metadata": {
    "collapsed": false
   },
   "outputs": [
    {
     "name": "stderr",
     "output_type": "stream",
     "text": [
      "getting cached data\n"
     ]
    },
    {
     "data": {
      "text/html": [
       "<table>\n",
       "<tbody>\n",
       "\t<tr><td>-2.0</td><td> 1.5</td></tr>\n",
       "\t<tr><td> 1.0</td><td>-0.5</td></tr>\n",
       "</tbody>\n",
       "</table>\n"
      ],
      "text/latex": [
       "\\begin{tabular}{ll}\n",
       "\t -2.0 &  1.5\\\\\n",
       "\t  1.0 & -0.5\\\\\n",
       "\\end{tabular}\n"
      ],
      "text/markdown": [
       "1. -2\n",
       "2. 1\n",
       "3. 1.5\n",
       "4. -0.5\n",
       "\n",
       "\n"
      ],
      "text/plain": [
       "     [,1] [,2]\n",
       "[1,]   -2  1.5\n",
       "[2,]    1 -0.5"
      ]
     },
     "execution_count": 6,
     "metadata": {},
     "output_type": "execute_result"
    }
   ],
   "source": [
    "cacheSolve(my_matrix)"
   ]
  },
  {
   "cell_type": "code",
   "execution_count": 7,
   "metadata": {
    "collapsed": false
   },
   "outputs": [
    {
     "data": {
      "text/html": [
       "<table>\n",
       "<tbody>\n",
       "\t<tr><td>-2.0</td><td> 1.5</td></tr>\n",
       "\t<tr><td> 1.0</td><td>-0.5</td></tr>\n",
       "</tbody>\n",
       "</table>\n"
      ],
      "text/latex": [
       "\\begin{tabular}{ll}\n",
       "\t -2.0 &  1.5\\\\\n",
       "\t  1.0 & -0.5\\\\\n",
       "\\end{tabular}\n"
      ],
      "text/markdown": [
       "1. -2\n",
       "2. 1\n",
       "3. 1.5\n",
       "4. -0.5\n",
       "\n",
       "\n"
      ],
      "text/plain": [
       "     [,1] [,2]\n",
       "[1,]   -2  1.5\n",
       "[2,]    1 -0.5"
      ]
     },
     "execution_count": 7,
     "metadata": {},
     "output_type": "execute_result"
    }
   ],
   "source": [
    "my_matrix$getInverse()"
   ]
  },
  {
   "cell_type": "code",
   "execution_count": 8,
   "metadata": {
    "collapsed": true
   },
   "outputs": [],
   "source": [
    "my_matrix$set(matrix(c(2, 2, 1, 4), 2, 2))"
   ]
  },
  {
   "cell_type": "code",
   "execution_count": 9,
   "metadata": {
    "collapsed": false
   },
   "outputs": [
    {
     "data": {
      "text/html": [
       "<table>\n",
       "<tbody>\n",
       "\t<tr><td>2</td><td>1</td></tr>\n",
       "\t<tr><td>2</td><td>4</td></tr>\n",
       "</tbody>\n",
       "</table>\n"
      ],
      "text/latex": [
       "\\begin{tabular}{ll}\n",
       "\t 2 & 1\\\\\n",
       "\t 2 & 4\\\\\n",
       "\\end{tabular}\n"
      ],
      "text/markdown": [
       "1. 2\n",
       "2. 2\n",
       "3. 1\n",
       "4. 4\n",
       "\n",
       "\n"
      ],
      "text/plain": [
       "     [,1] [,2]\n",
       "[1,]    2    1\n",
       "[2,]    2    4"
      ]
     },
     "execution_count": 9,
     "metadata": {},
     "output_type": "execute_result"
    }
   ],
   "source": [
    "my_matrix$get()"
   ]
  },
  {
   "cell_type": "code",
   "execution_count": 10,
   "metadata": {
    "collapsed": false
   },
   "outputs": [
    {
     "data": {
      "text/plain": [
       "NULL"
      ]
     },
     "execution_count": 10,
     "metadata": {},
     "output_type": "execute_result"
    }
   ],
   "source": [
    "my_matrix$getInverse()"
   ]
  },
  {
   "cell_type": "code",
   "execution_count": 11,
   "metadata": {
    "collapsed": false
   },
   "outputs": [
    {
     "data": {
      "text/html": [
       "<table>\n",
       "<tbody>\n",
       "\t<tr><td> 0.6666667</td><td>-0.1666667</td></tr>\n",
       "\t<tr><td>-0.3333333</td><td> 0.3333333</td></tr>\n",
       "</tbody>\n",
       "</table>\n"
      ],
      "text/latex": [
       "\\begin{tabular}{ll}\n",
       "\t  0.6666667 & -0.1666667\\\\\n",
       "\t -0.3333333 &  0.3333333\\\\\n",
       "\\end{tabular}\n"
      ],
      "text/markdown": [
       "1. 0.666666666666667\n",
       "2. -0.333333333333333\n",
       "3. -0.166666666666667\n",
       "4. 0.333333333333333\n",
       "\n",
       "\n"
      ],
      "text/plain": [
       "           [,1]       [,2]\n",
       "[1,]  0.6666667 -0.1666667\n",
       "[2,] -0.3333333  0.3333333"
      ]
     },
     "execution_count": 11,
     "metadata": {},
     "output_type": "execute_result"
    }
   ],
   "source": [
    "cacheSolve(my_matrix)"
   ]
  },
  {
   "cell_type": "code",
   "execution_count": 12,
   "metadata": {
    "collapsed": false
   },
   "outputs": [
    {
     "name": "stderr",
     "output_type": "stream",
     "text": [
      "getting cached data\n"
     ]
    },
    {
     "data": {
      "text/html": [
       "<table>\n",
       "<tbody>\n",
       "\t<tr><td> 0.6666667</td><td>-0.1666667</td></tr>\n",
       "\t<tr><td>-0.3333333</td><td> 0.3333333</td></tr>\n",
       "</tbody>\n",
       "</table>\n"
      ],
      "text/latex": [
       "\\begin{tabular}{ll}\n",
       "\t  0.6666667 & -0.1666667\\\\\n",
       "\t -0.3333333 &  0.3333333\\\\\n",
       "\\end{tabular}\n"
      ],
      "text/markdown": [
       "1. 0.666666666666667\n",
       "2. -0.333333333333333\n",
       "3. -0.166666666666667\n",
       "4. 0.333333333333333\n",
       "\n",
       "\n"
      ],
      "text/plain": [
       "           [,1]       [,2]\n",
       "[1,]  0.6666667 -0.1666667\n",
       "[2,] -0.3333333  0.3333333"
      ]
     },
     "execution_count": 12,
     "metadata": {},
     "output_type": "execute_result"
    }
   ],
   "source": [
    "cacheSolve(my_matrix)"
   ]
  },
  {
   "cell_type": "code",
   "execution_count": 13,
   "metadata": {
    "collapsed": false
   },
   "outputs": [
    {
     "data": {
      "text/html": [
       "<table>\n",
       "<tbody>\n",
       "\t<tr><td> 0.6666667</td><td>-0.1666667</td></tr>\n",
       "\t<tr><td>-0.3333333</td><td> 0.3333333</td></tr>\n",
       "</tbody>\n",
       "</table>\n"
      ],
      "text/latex": [
       "\\begin{tabular}{ll}\n",
       "\t  0.6666667 & -0.1666667\\\\\n",
       "\t -0.3333333 &  0.3333333\\\\\n",
       "\\end{tabular}\n"
      ],
      "text/markdown": [
       "1. 0.666666666666667\n",
       "2. -0.333333333333333\n",
       "3. -0.166666666666667\n",
       "4. 0.333333333333333\n",
       "\n",
       "\n"
      ],
      "text/plain": [
       "           [,1]       [,2]\n",
       "[1,]  0.6666667 -0.1666667\n",
       "[2,] -0.3333333  0.3333333"
      ]
     },
     "execution_count": 13,
     "metadata": {},
     "output_type": "execute_result"
    }
   ],
   "source": [
    "my_matrix$getInverse()"
   ]
  },
  {
   "cell_type": "code",
   "execution_count": null,
   "metadata": {
    "collapsed": true
   },
   "outputs": [],
   "source": []
  }
 ],
 "metadata": {
  "kernelspec": {
   "display_name": "R",
   "language": "R",
   "name": "ir"
  },
  "language_info": {
   "codemirror_mode": "r",
   "file_extension": ".r",
   "mimetype": "text/x-r-source",
   "name": "R",
   "pygments_lexer": "r",
   "version": "3.2.4"
  }
 },
 "nbformat": 4,
 "nbformat_minor": 0
}
