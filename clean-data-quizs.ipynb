{
 "cells": [
  {
   "cell_type": "code",
   "execution_count": 1,
   "metadata": {
    "collapsed": true
   },
   "outputs": [],
   "source": [
    "fileurl<-\"https://d396qusza40orc.cloudfront.net/getdata%2Fdata%2Fss06hid.csv\""
   ]
  },
  {
   "cell_type": "code",
   "execution_count": 2,
   "metadata": {
    "collapsed": false
   },
   "outputs": [],
   "source": [
    "download.file(fileurl,destfile=\"~/Downloads/1.csv\",method=\"curl\")"
   ]
  },
  {
   "cell_type": "code",
   "execution_count": 3,
   "metadata": {
    "collapsed": true
   },
   "outputs": [],
   "source": [
    "data1<-read.csv(\"~/Downloads/1.csv\")"
   ]
  },
  {
   "cell_type": "code",
   "execution_count": 4,
   "metadata": {
    "collapsed": false
   },
   "outputs": [
    {
     "data": {
      "text/html": [
       "<table>\n",
       "<thead><tr><th></th><th scope=col>RT</th><th scope=col>SERIALNO</th><th scope=col>DIVISION</th><th scope=col>PUMA</th><th scope=col>REGION</th><th scope=col>ST</th><th scope=col>ADJUST</th><th scope=col>WGTP</th><th scope=col>NP</th><th scope=col>TYPE</th><th scope=col>ellip.h</th><th scope=col>wgtp71</th><th scope=col>wgtp72</th><th scope=col>wgtp73</th><th scope=col>wgtp74</th><th scope=col>wgtp75</th><th scope=col>wgtp76</th><th scope=col>wgtp77</th><th scope=col>wgtp78</th><th scope=col>wgtp79</th><th scope=col>wgtp80</th></tr></thead>\n",
       "<tbody>\n",
       "\t<tr><th scope=row>1</th><td>H</td><td>186</td><td>8</td><td>700</td><td>4</td><td>16</td><td>1015675</td><td>89</td><td>4</td><td>1</td><td>⋯</td><td>81</td><td>27</td><td>93</td><td>151</td><td>28</td><td>79</td><td>25</td><td>101</td><td>157</td><td>129</td></tr>\n",
       "\t<tr><th scope=row>2</th><td>H</td><td>306</td><td>8</td><td>700</td><td>4</td><td>16</td><td>1015675</td><td>310</td><td>1</td><td>1</td><td>⋯</td><td>292</td><td>401</td><td>81</td><td>494</td><td>346</td><td>496</td><td>615</td><td>286</td><td>454</td><td>260</td></tr>\n",
       "\t<tr><th scope=row>3</th><td>H</td><td>395</td><td>8</td><td>100</td><td>4</td><td>16</td><td>1015675</td><td>106</td><td>2</td><td>1</td><td>⋯</td><td>123</td><td>119</td><td>168</td><td>107</td><td>95</td><td>101</td><td>30</td><td>124</td><td>106</td><td>31</td></tr>\n",
       "\t<tr><th scope=row>4</th><td>H</td><td>506</td><td>8</td><td>700</td><td>4</td><td>16</td><td>1015675</td><td>240</td><td>4</td><td>1</td><td>⋯</td><td>68</td><td>359</td><td>385</td><td>71</td><td>234</td><td>421</td><td>76</td><td>77</td><td>242</td><td>231</td></tr>\n",
       "\t<tr><th scope=row>5</th><td>H</td><td>835</td><td>8</td><td>800</td><td>4</td><td>16</td><td>1015675</td><td>118</td><td>4</td><td>1</td><td>⋯</td><td>127</td><td>36</td><td>119</td><td>121</td><td>116</td><td>209</td><td>97</td><td>176</td><td>144</td><td>38</td></tr>\n",
       "\t<tr><th scope=row>6</th><td>H</td><td>989</td><td>8</td><td>700</td><td>4</td><td>16</td><td>1015675</td><td>115</td><td>4</td><td>1</td><td>⋯</td><td>120</td><td>34</td><td>109</td><td>199</td><td>116</td><td>110</td><td>211</td><td>120</td><td>31</td><td>189</td></tr>\n",
       "</tbody>\n",
       "</table>\n"
      ],
      "text/latex": [
       "\\begin{tabular}{r|llllllllllllllllllllllllllllllllllllllllllllllllllllllllllllllllllllllllllllllllllllllllllllllllllllllllllllllllllllllllllllllllllllllllllllllllllllllllllllllllllllllllllllllllllllllllllll}\n",
       "  & RT & SERIALNO & DIVISION & PUMA & REGION & ST & ADJUST & WGTP & NP & TYPE & ellip.h & wgtp71 & wgtp72 & wgtp73 & wgtp74 & wgtp75 & wgtp76 & wgtp77 & wgtp78 & wgtp79 & wgtp80\\\\\n",
       "\\hline\n",
       "\t1 & H & 186 & 8 & 700 & 4 & 16 & 1015675 & 89 & 4 & 1 & ⋯ & 81 & 27 & 93 & 151 & 28 & 79 & 25 & 101 & 157 & 129\\\\\n",
       "\t2 & H & 306 & 8 & 700 & 4 & 16 & 1015675 & 310 & 1 & 1 & ⋯ & 292 & 401 & 81 & 494 & 346 & 496 & 615 & 286 & 454 & 260\\\\\n",
       "\t3 & H & 395 & 8 & 100 & 4 & 16 & 1015675 & 106 & 2 & 1 & ⋯ & 123 & 119 & 168 & 107 & 95 & 101 & 30 & 124 & 106 & 31\\\\\n",
       "\t4 & H & 506 & 8 & 700 & 4 & 16 & 1015675 & 240 & 4 & 1 & ⋯ & 68 & 359 & 385 & 71 & 234 & 421 & 76 & 77 & 242 & 231\\\\\n",
       "\t5 & H & 835 & 8 & 800 & 4 & 16 & 1015675 & 118 & 4 & 1 & ⋯ & 127 & 36 & 119 & 121 & 116 & 209 & 97 & 176 & 144 & 38\\\\\n",
       "\t6 & H & 989 & 8 & 700 & 4 & 16 & 1015675 & 115 & 4 & 1 & ⋯ & 120 & 34 & 109 & 199 & 116 & 110 & 211 & 120 & 31 & 189\\\\\n",
       "\\end{tabular}\n"
      ],
      "text/plain": [
       "  RT SERIALNO DIVISION PUMA REGION ST  ADJUST WGTP NP TYPE ACR AGS BDS BLD BUS\n",
       "1  H      186        8  700      4 16 1015675   89  4    1   1  NA   4   2   2\n",
       "2  H      306        8  700      4 16 1015675  310  1    1  NA  NA   1   7  NA\n",
       "3  H      395        8  100      4 16 1015675  106  2    1   1  NA   3   2   2\n",
       "4  H      506        8  700      4 16 1015675  240  4    1   1  NA   4   2   2\n",
       "5  H      835        8  800      4 16 1015675  118  4    1   2   1   5   2   2\n",
       "6  H      989        8  700      4 16 1015675  115  4    1   1  NA   3   2   2\n",
       "  CONP ELEP FS FULP GASP HFL INSP KIT MHP MRGI MRGP MRGT MRGX PLM RMS RNTM RNTP\n",
       "1   NA  180  0    2    3   3  600   1  NA    1 1300    1    1   1   9   NA   NA\n",
       "2   NA   60  0    2    3   3   NA   1  NA   NA   NA   NA   NA   1   2    2  600\n",
       "3   NA   70  0    2   30   1  200   1  NA   NA   NA   NA    3   1   7   NA   NA\n",
       "4   NA   40  0    2   80   1  200   1  NA    1  860    1    1   1   6   NA   NA\n",
       "5   NA  250  0    2    3   3  700   1  NA    1 1900    1    1   1   7   NA   NA\n",
       "6   NA  130  0    2    3   3  250   1  NA    1  700    1    1   1   6   NA   NA\n",
       "  SMP TEL TEN VACS VAL VEH WATP YBL FES  FINCP FPARC GRNTP GRPIP HHL HHT  HINCP\n",
       "1  NA   1   1   NA  17   3  840   5   2 105600     2    NA    NA   1   1 105600\n",
       "2  NA   1   3   NA  NA   1    1   3  NA     NA    NA   660    23   1   4  34000\n",
       "3  NA   1   2   NA  18   2   50   5   7   9400     2    NA    NA   1   3   9400\n",
       "4 400   1   1   NA  19   3  500   2   1  66000     1    NA    NA   1   1  66000\n",
       "5 650   1   1   NA  20   5    2   3   1  93000     2    NA    NA   1   1  93000\n",
       "6 400   1   1   NA  15   2 1200   5   2  61000     1    NA    NA   1   1  61000\n",
       "  HUGCL HUPAC HUPAOC HUPARC LNGI MV NOC NPF NPP NR NRC OCPIP PARTNER PSF R18\n",
       "1     0     2      2      2    1  4   2   4   0  0   2    18       0   0   1\n",
       "2     0     4      4      4    1  3   0  NA   0  0   0    NA       0   0   0\n",
       "3     0     2      2      2    1  2   1   2   0  0   1    23       0   0   1\n",
       "4     0     1      1      1    1  3   2   4   0  0   2    26       0   0   1\n",
       "5     0     2      2      2    1  1   1   4   0  0   1    36       0   0   1\n",
       "6     0     1      1      1    1  4   2   4   0  0   2    26       0   0   1\n",
       "  R60 R65 RESMODE SMOCP SMX SRNT SVAL TAXP WIF WKEXREL WORKSTAT FACRP FAGSP\n",
       "1   0   0       1  1550   3    0    1   24   3       2        3     0     0\n",
       "2   0   0       2    NA  NA    1    0   NA  NA      NA       NA     0     0\n",
       "3   0   0       1   179  NA    0    1   16   1      13       13     0     0\n",
       "4   0   0       2  1422   1    0    1   31   2       2        1     0     0\n",
       "5   0   0       1  2800   1    0    1   25   3       1        1     0     0\n",
       "6   0   0       2  1330   2    0    1    7   1       7        3     0     0\n",
       "  FBDSP FBLDP FBUSP FCONP FELEP FFSP FFULP FGASP FHFLP FINSP FKITP FMHP FMRGIP\n",
       "1     0     0     0     0     0    0     0     0     0     0     0    0      0\n",
       "2     0     0     0     0     0    0     0     0     0     0     0    0      0\n",
       "3     0     0     0     0     0    0     0     0     0     0     0    0      0\n",
       "4     0     0     0     0     0    0     0     0     0     0     0    0      0\n",
       "5     0     0     0     0     0    0     0     0     0     0     0    0      0\n",
       "6     0     0     0     0     0    0     0     0     0     1     0    0      0\n",
       "  FMRGP FMRGTP FMRGXP FMVYP FPLMP FRMSP FRNTMP FRNTP FSMP FSMXHP FSMXSP FTAXP\n",
       "1     0      0      0     0     0     0      0     0    0      0      0     0\n",
       "2     0      0      0     0     0     0      0     0    0      0      0     0\n",
       "3     0      0      0     0     0     0      0     0    0      0      0     0\n",
       "4     0      0      0     0     0     0      0     0    0      0      0     0\n",
       "5     0      0      0     0     0     0      0     0    0      0      0     0\n",
       "6     0      0      0     0     0     0      0     0    0      0      0     1\n",
       "  FTELP FTENP FVACSP FVALP FVEHP FWATP FYBLP wgtp1 wgtp2 wgtp3 wgtp4 wgtp5\n",
       "1     0     0      0     0     0     0     0    87    28   156    95    26\n",
       "2     0     0      0     0     0     0     1   539   363   293   422   566\n",
       "3     0     0      0     0     0     0     0   187    35   184   178    83\n",
       "4     0     0      0     0     0     0     0   232   406   234   270   249\n",
       "5     0     0      0     0     0     0     0   107   194   129    41   156\n",
       "6     0     0      0     0     0     1     0   191   197   127   115   115\n",
       "  wgtp6 wgtp7 wgtp8 wgtp9 wgtp10 wgtp11 wgtp12 wgtp13 wgtp14 wgtp15 wgtp16\n",
       "1    25    95    93    93     91     87    166     90     25    153     89\n",
       "2   289    87   242   453    453    334    358    414    102    281     99\n",
       "3    95    31    32   177    118    110    114    184    107     95    115\n",
       "4   242   406   249   287     67     72    413    399     77    245    424\n",
       "5   174    47   113   101     33    115     52    113     95    135    206\n",
       "6   107   119    34    32     30    123    199    117     33    109    117\n",
       "  wgtp17 wgtp18 wgtp19 wgtp20 wgtp21 wgtp22 wgtp23 wgtp24 wgtp25 wgtp26 wgtp27\n",
       "1    148     82     25    180     90     24    140     92     25     27     86\n",
       "2    108    278    131    407    447    264    352    238    390    336    122\n",
       "3     33    118    120     37    184     35    176    176    110    103     29\n",
       "4     67     63    226    254    238     69    238    255    239    248     69\n",
       "5    100    185    135    279    116     33    105    244     38     30    230\n",
       "6     31    115    201    190    184    198    113    109    117    111    110\n",
       "  wgtp28 wgtp29 wgtp30 wgtp31 wgtp32 wgtp33 wgtp34 wgtp35 wgtp36 wgtp37 wgtp38\n",
       "1     84     87     93     90    149     91     28    143     81    144     95\n",
       "2    374    482    468    335    251    613    104    284    116     91    326\n",
       "3     30    197    127     92    118    177     99     99    109     34    100\n",
       "4    234    247    437    423     74     61    401    267     72    388    335\n",
       "5    123    123    243    120    238     98     90    107     44    122     32\n",
       "6     33     37     36    110    183    114     35    134    119     32    121\n",
       "  wgtp39 wgtp40 wgtp41 wgtp42 wgtp43 wgtp44 wgtp45 wgtp46 wgtp47 wgtp48 wgtp49\n",
       "1     27     22     90    171     27     83    153    148     92     91     91\n",
       "2    102    361    107    253    321    289     96    343    564    274    118\n",
       "3    105     33    173     36    168    175     99    103     30     35    155\n",
       "4    229    236    239     65    259    247    230    225     82    220    233\n",
       "5    127    195    116     36    135    237     33     33    249    102     84\n",
       "6    188     33     34     32    109    115    115    112    119    192    186\n",
       "  wgtp50 wgtp51 wgtp52 wgtp53 wgtp54 wgtp55 wgtp56 wgtp57 wgtp58 wgtp59 wgtp60\n",
       "1     93     90     26     94    142     24     91     29     84    148     30\n",
       "2    118    321    261    130    463    294    479    391    307    476    283\n",
       "3    102     95    107    185    120    114    113     36    115    103     29\n",
       "4    419    390     69     74    391    276     70    422    409    223    245\n",
       "5    224    119    250    119    125    126     32    112     33    131     45\n",
       "6    213    106     34    124    179    106    107    190    112     34     35\n",
       "  wgtp61 wgtp62 wgtp63 wgtp64 wgtp65 wgtp66 wgtp67 wgtp68 wgtp69 wgtp70 wgtp71\n",
       "1     93    143     24     88    147    145     91     83     83     86     81\n",
       "2    116    353    323    374    106    236    380    313     90     94    292\n",
       "3    183     35    179    169     95    110     28     34    233     97    123\n",
       "4    269    488    221    250    247    240    415    234    219     66     68\n",
       "5    101    165    125     41    191    195     49    119     92     44    127\n",
       "6     32     34    119    123    122    121    123    196    196    207    120\n",
       "  wgtp72 wgtp73 wgtp74 wgtp75 wgtp76 wgtp77 wgtp78 wgtp79 wgtp80\n",
       "1     27     93    151     28     79     25    101    157    129\n",
       "2    401     81    494    346    496    615    286    454    260\n",
       "3    119    168    107     95    101     30    124    106     31\n",
       "4    359    385     71    234    421     76     77    242    231\n",
       "5     36    119    121    116    209     97    176    144     38\n",
       "6     34    109    199    116    110    211    120     31    189"
      ]
     },
     "execution_count": 4,
     "metadata": {},
     "output_type": "execute_result"
    }
   ],
   "source": [
    "head(data1)"
   ]
  },
  {
   "cell_type": "code",
   "execution_count": 5,
   "metadata": {
    "collapsed": false
   },
   "outputs": [
    {
     "data": {
      "text/html": [
       "6496"
      ],
      "text/latex": [
       "6496"
      ],
      "text/markdown": [
       "6496"
      ],
      "text/plain": [
       "[1] 6496"
      ]
     },
     "execution_count": 5,
     "metadata": {},
     "output_type": "execute_result"
    }
   ],
   "source": [
    "nrow(data1)"
   ]
  },
  {
   "cell_type": "code",
   "execution_count": 6,
   "metadata": {
    "collapsed": false
   },
   "outputs": [
    {
     "data": {
      "text/html": [
       "188"
      ],
      "text/latex": [
       "188"
      ],
      "text/markdown": [
       "188"
      ],
      "text/plain": [
       "[1] 188"
      ]
     },
     "execution_count": 6,
     "metadata": {},
     "output_type": "execute_result"
    }
   ],
   "source": [
    "ncol(data1)"
   ]
  },
  {
   "cell_type": "code",
   "execution_count": 7,
   "metadata": {
    "collapsed": false
   },
   "outputs": [],
   "source": [
    "val<-data1$VAL"
   ]
  },
  {
   "cell_type": "code",
   "execution_count": 8,
   "metadata": {
    "collapsed": false
   },
   "outputs": [
    {
     "data": {
      "text/html": [
       "53"
      ],
      "text/latex": [
       "53"
      ],
      "text/markdown": [
       "53"
      ],
      "text/plain": [
       "[1] 53"
      ]
     },
     "execution_count": 8,
     "metadata": {},
     "output_type": "execute_result"
    }
   ],
   "source": [
    "length(val[!is.na(val) & val>=24])"
   ]
  },
  {
   "cell_type": "code",
   "execution_count": 9,
   "metadata": {
    "collapsed": false
   },
   "outputs": [
    {
     "name": "stderr",
     "output_type": "stream",
     "text": [
      "Loading required package: rJava\n",
      "Loading required package: xlsxjars\n"
     ]
    }
   ],
   "source": [
    "library(xlsx)\n",
    "fileurl2<-\"https://d396qusza40orc.cloudfront.net/getdata%2Fdata%2FDATA.gov_NGAP.xlsx\"\n",
    "download.file(fileurl2,destfile=\"~/Downloads/1.xlsx\",method=\"curl\")"
   ]
  },
  {
   "cell_type": "code",
   "execution_count": 10,
   "metadata": {
    "collapsed": true
   },
   "outputs": [],
   "source": [
    "colindex<-7:15\n",
    "rowindex<-18:23\n",
    "dat<-read.xlsx(\"~/Downloads/1.xlsx\",sheetIndex=1, colIndex=colindex,rowIndex=rowindex)"
   ]
  },
  {
   "cell_type": "code",
   "execution_count": 11,
   "metadata": {
    "collapsed": false
   },
   "outputs": [
    {
     "data": {
      "text/html": [
       "<table>\n",
       "<thead><tr><th></th><th scope=col>Zip</th><th scope=col>CuCurrent</th><th scope=col>PaCurrent</th><th scope=col>PoCurrent</th><th scope=col>Contact</th><th scope=col>Ext</th><th scope=col>Fax</th><th scope=col>email</th><th scope=col>Status</th></tr></thead>\n",
       "<tbody>\n",
       "\t<tr><th scope=row>1</th><td>74136</td><td>0</td><td>1</td><td>0</td><td>918-491-6998</td><td>0</td><td>918-491-6659</td><td>NA</td><td>1</td></tr>\n",
       "\t<tr><th scope=row>2</th><td>30329</td><td>1</td><td>0</td><td>0</td><td>404-321-5711</td><td>NA</td><td>NA</td><td>NA</td><td>1</td></tr>\n",
       "\t<tr><th scope=row>3</th><td>74136</td><td>1</td><td>0</td><td>0</td><td>918-523-2516</td><td>0</td><td>918-523-2522</td><td>NA</td><td>1</td></tr>\n",
       "\t<tr><th scope=row>4</th><td>80203</td><td>0</td><td>1</td><td>0</td><td>303-864-1919</td><td>0</td><td>NA</td><td>NA</td><td>1</td></tr>\n",
       "\t<tr><th scope=row>5</th><td>80120</td><td>1</td><td>0</td><td>0</td><td>345-098-8890</td><td>456</td><td>NA</td><td>NA</td><td>1</td></tr>\n",
       "</tbody>\n",
       "</table>\n"
      ],
      "text/latex": [
       "\\begin{tabular}{r|lllllllll}\n",
       "  & Zip & CuCurrent & PaCurrent & PoCurrent & Contact & Ext & Fax & email & Status\\\\\n",
       "\\hline\n",
       "\t1 & 74136 & 0 & 1 & 0 & 918-491-6998 & 0 & 918-491-6659 & NA & 1\\\\\n",
       "\t2 & 30329 & 1 & 0 & 0 & 404-321-5711 & NA & NA & NA & 1\\\\\n",
       "\t3 & 74136 & 1 & 0 & 0 & 918-523-2516 & 0 & 918-523-2522 & NA & 1\\\\\n",
       "\t4 & 80203 & 0 & 1 & 0 & 303-864-1919 & 0 & NA & NA & 1\\\\\n",
       "\t5 & 80120 & 1 & 0 & 0 & 345-098-8890 & 456 & NA & NA & 1\\\\\n",
       "\\end{tabular}\n"
      ],
      "text/plain": [
       "    Zip CuCurrent PaCurrent PoCurrent      Contact Ext          Fax email\n",
       "1 74136         0         1         0 918-491-6998   0 918-491-6659    NA\n",
       "2 30329         1         0         0 404-321-5711  NA         <NA>    NA\n",
       "3 74136         1         0         0 918-523-2516   0 918-523-2522    NA\n",
       "4 80203         0         1         0 303-864-1919   0         <NA>    NA\n",
       "5 80120         1         0         0 345-098-8890 456         <NA>    NA\n",
       "  Status\n",
       "1      1\n",
       "2      1\n",
       "3      1\n",
       "4      1\n",
       "5      1"
      ]
     },
     "execution_count": 11,
     "metadata": {},
     "output_type": "execute_result"
    }
   ],
   "source": [
    "dat"
   ]
  },
  {
   "cell_type": "code",
   "execution_count": 12,
   "metadata": {
    "collapsed": false
   },
   "outputs": [
    {
     "data": {
      "text/html": [
       "36534720"
      ],
      "text/latex": [
       "36534720"
      ],
      "text/markdown": [
       "36534720"
      ],
      "text/plain": [
       "[1] 36534720"
      ]
     },
     "execution_count": 12,
     "metadata": {},
     "output_type": "execute_result"
    }
   ],
   "source": [
    "sum(dat$Zip*dat$Ext,na.rm=T)"
   ]
  },
  {
   "cell_type": "code",
   "execution_count": 13,
   "metadata": {
    "collapsed": false
   },
   "outputs": [],
   "source": [
    "library(XML)\n",
    "fileurl3<-\"https://d396qusza40orc.cloudfront.net/getdata%2Fdata%2Frestaurants.xml\""
   ]
  },
  {
   "cell_type": "code",
   "execution_count": 14,
   "metadata": {
    "collapsed": false
   },
   "outputs": [
    {
     "ename": "ERROR",
     "evalue": "Error: XML content does not seem to be XML: 'https://d396qusza40orc.cloudfront.net/getdata%2Fdata%2Frestaurants.xml'\n",
     "output_type": "error",
     "traceback": [
      "Error: XML content does not seem to be XML: 'https://d396qusza40orc.cloudfront.net/getdata%2Fdata%2Frestaurants.xml'\n"
     ]
    }
   ],
   "source": [
    "doc<-xmlTreeParse(fileurl3,useInternal=TRUE)"
   ]
  },
  {
   "cell_type": "code",
   "execution_count": 15,
   "metadata": {
    "collapsed": true
   },
   "outputs": [],
   "source": [
    "download.file(\"https://d396qusza40orc.cloudfront.net/getdata%2Fdata%2Fss06pid.csv\",destfile=\"~/Downloads/2.csv\",method=\"curl\" )"
   ]
  },
  {
   "cell_type": "code",
   "execution_count": 3,
   "metadata": {
    "collapsed": false
   },
   "outputs": [],
   "source": [
    "#################Quiz 3\n",
    "########Problem 1\n",
    "url<-\"https://d396qusza40orc.cloudfront.net/getdata%2Fdata%2Fss06hid.csv\"\n",
    "download.file(url,destfile=\"~/data/R/c3.csv\",method=\"curl\")\n",
    "data1<-read.csv(\"~/data/R/c3.csv\")"
   ]
  },
  {
   "cell_type": "code",
   "execution_count": 11,
   "metadata": {
    "collapsed": true
   },
   "outputs": [],
   "source": [
    "agricultureLogical<-(data1$AGS==6&data1$ACR==3)"
   ]
  },
  {
   "cell_type": "code",
   "execution_count": 14,
   "metadata": {
    "collapsed": false
   },
   "outputs": [
    {
     "data": {
      "text/html": [
       "<ol class=list-inline>\n",
       "\t<li>125</li>\n",
       "\t<li>238</li>\n",
       "\t<li>262</li>\n",
       "</ol>\n"
      ],
      "text/latex": [
       "\\begin{enumerate*}\n",
       "\\item 125\n",
       "\\item 238\n",
       "\\item 262\n",
       "\\end{enumerate*}\n"
      ],
      "text/markdown": [
       "1. 125\n",
       "2. 238\n",
       "3. 262\n",
       "\n",
       "\n"
      ],
      "text/plain": [
       "[1] 125 238 262"
      ]
     },
     "execution_count": 14,
     "metadata": {},
     "output_type": "execute_result"
    }
   ],
   "source": [
    "head(which(agricultureLogical),n=3)"
   ]
  },
  {
   "cell_type": "code",
   "execution_count": 15,
   "metadata": {
    "collapsed": true
   },
   "outputs": [],
   "source": [
    "###Problem 2\n",
    "library(jpeg)"
   ]
  },
  {
   "cell_type": "code",
   "execution_count": 21,
   "metadata": {
    "collapsed": false
   },
   "outputs": [],
   "source": [
    "url<-\"https://d396qusza40orc.cloudfront.net/getdata%2Fjeff.jpg\"\n",
    "download.file(url,destfile=\"~/data/R/1.jpeg\",method=\"curl\")\n",
    "q2<-readJPEG(\"~/data/R/1.jpeg\",native=TRUE)"
   ]
  },
  {
   "cell_type": "code",
   "execution_count": 22,
   "metadata": {
    "collapsed": false
   },
   "outputs": [
    {
     "data": {
      "text/html": [
       "<dl class=dl-horizontal>\n",
       "\t<dt>30%</dt>\n",
       "\t\t<dd>-15259150.1</dd>\n",
       "\t<dt>80%</dt>\n",
       "\t\t<dd>-10575416</dd>\n",
       "</dl>\n"
      ],
      "text/latex": [
       "\\begin{description*}\n",
       "\\item[30%] -15259150.1\n",
       "\\item[80%] -10575416\n",
       "\\end{description*}\n"
      ],
      "text/markdown": [
       "30%\n",
       ":   -15259150.180%\n",
       ":   -10575416\n",
       "\n"
      ],
      "text/plain": [
       "      30%       80% \n",
       "-15259150 -10575416 "
      ]
     },
     "execution_count": 22,
     "metadata": {},
     "output_type": "execute_result"
    }
   ],
   "source": [
    "quantile(q2,c(0.3,0.8))"
   ]
  },
  {
   "cell_type": "code",
   "execution_count": 244,
   "metadata": {
    "collapsed": true
   },
   "outputs": [],
   "source": [
    "#########Problem 3\n",
    "download.file(\"https://d396qusza40orc.cloudfront.net/getdata%2Fdata%2FGDP.csv\",\n",
    "              destfile=\"~/data/R/q3-3_1.csv\",method=\"curl\")"
   ]
  },
  {
   "cell_type": "code",
   "execution_count": 245,
   "metadata": {
    "collapsed": true
   },
   "outputs": [],
   "source": [
    "download.file(\"https://d396qusza40orc.cloudfront.net/getdata%2Fdata%2FEDSTATS_Country.csv\",\n",
    "              destfile=\"~/data/R/q3-3_2.csv\",method=\"curl\")"
   ]
  },
  {
   "cell_type": "code",
   "execution_count": 246,
   "metadata": {
    "collapsed": true
   },
   "outputs": [],
   "source": [
    "q3_1<-read.csv(\"~/data/R/q3-3_1.csv\",skip=3,header=T,sep=\",\")\n",
    "q3_2<-read.csv(\"~/data/R/q3-3_2.csv\")"
   ]
  },
  {
   "cell_type": "code",
   "execution_count": 247,
   "metadata": {
    "collapsed": false
   },
   "outputs": [
    {
     "data": {
      "text/html": [
       "<ol class=list-inline>\n",
       "\t<li>'X'</li>\n",
       "\t<li>'Ranking'</li>\n",
       "\t<li>'X.1'</li>\n",
       "\t<li>'Economy'</li>\n",
       "\t<li>'US.dollars.'</li>\n",
       "\t<li>'X.2'</li>\n",
       "\t<li>'X.3'</li>\n",
       "\t<li>'X.4'</li>\n",
       "\t<li>'X.5'</li>\n",
       "\t<li>'X.6'</li>\n",
       "</ol>\n"
      ],
      "text/latex": [
       "\\begin{enumerate*}\n",
       "\\item 'X'\n",
       "\\item 'Ranking'\n",
       "\\item 'X.1'\n",
       "\\item 'Economy'\n",
       "\\item 'US.dollars.'\n",
       "\\item 'X.2'\n",
       "\\item 'X.3'\n",
       "\\item 'X.4'\n",
       "\\item 'X.5'\n",
       "\\item 'X.6'\n",
       "\\end{enumerate*}\n"
      ],
      "text/markdown": [
       "1. 'X'\n",
       "2. 'Ranking'\n",
       "3. 'X.1'\n",
       "4. 'Economy'\n",
       "5. 'US.dollars.'\n",
       "6. 'X.2'\n",
       "7. 'X.3'\n",
       "8. 'X.4'\n",
       "9. 'X.5'\n",
       "10. 'X.6'\n",
       "\n",
       "\n"
      ],
      "text/plain": [
       " [1] \"X\"           \"Ranking\"     \"X.1\"         \"Economy\"     \"US.dollars.\"\n",
       " [6] \"X.2\"         \"X.3\"         \"X.4\"         \"X.5\"         \"X.6\"        "
      ]
     },
     "execution_count": 247,
     "metadata": {},
     "output_type": "execute_result"
    },
    {
     "data": {
      "text/html": [
       "327"
      ],
      "text/latex": [
       "327"
      ],
      "text/markdown": [
       "327"
      ],
      "text/plain": [
       "[1] 327"
      ]
     },
     "execution_count": 247,
     "metadata": {},
     "output_type": "execute_result"
    },
    {
     "data": {
      "text/html": [
       "10"
      ],
      "text/latex": [
       "10"
      ],
      "text/markdown": [
       "10"
      ],
      "text/plain": [
       "[1] 10"
      ]
     },
     "execution_count": 247,
     "metadata": {},
     "output_type": "execute_result"
    },
    {
     "data": {
      "text/html": [
       "<table>\n",
       "<thead><tr><th></th><th scope=col>X</th><th scope=col>Ranking</th><th scope=col>X.1</th><th scope=col>Economy</th><th scope=col>US.dollars.</th><th scope=col>X.2</th><th scope=col>X.3</th><th scope=col>X.4</th><th scope=col>X.5</th><th scope=col>X.6</th></tr></thead>\n",
       "<tbody>\n",
       "\t<tr><th scope=row>1</th><td></td><td></td><td>NA</td><td></td><td></td><td></td><td>NA</td><td>NA</td><td>NA</td><td>NA</td></tr>\n",
       "\t<tr><th scope=row>2</th><td>USA</td><td>1</td><td>NA</td><td>United States</td><td> 16,244,600 </td><td></td><td>NA</td><td>NA</td><td>NA</td><td>NA</td></tr>\n",
       "\t<tr><th scope=row>3</th><td>CHN</td><td>2</td><td>NA</td><td>China</td><td> 8,227,103 </td><td></td><td>NA</td><td>NA</td><td>NA</td><td>NA</td></tr>\n",
       "\t<tr><th scope=row>4</th><td>JPN</td><td>3</td><td>NA</td><td>Japan</td><td> 5,959,718 </td><td></td><td>NA</td><td>NA</td><td>NA</td><td>NA</td></tr>\n",
       "\t<tr><th scope=row>5</th><td>DEU</td><td>4</td><td>NA</td><td>Germany</td><td> 3,428,131 </td><td></td><td>NA</td><td>NA</td><td>NA</td><td>NA</td></tr>\n",
       "\t<tr><th scope=row>6</th><td>FRA</td><td>5</td><td>NA</td><td>France</td><td> 2,612,878 </td><td></td><td>NA</td><td>NA</td><td>NA</td><td>NA</td></tr>\n",
       "</tbody>\n",
       "</table>\n"
      ],
      "text/latex": [
       "\\begin{tabular}{r|llllllllll}\n",
       "  & X & Ranking & X.1 & Economy & US.dollars. & X.2 & X.3 & X.4 & X.5 & X.6\\\\\n",
       "\\hline\n",
       "\t1 &  &  & NA &  &  &  & NA & NA & NA & NA\\\\\n",
       "\t2 & USA & 1 & NA & United States &  16,244,600  &  & NA & NA & NA & NA\\\\\n",
       "\t3 & CHN & 2 & NA & China &  8,227,103  &  & NA & NA & NA & NA\\\\\n",
       "\t4 & JPN & 3 & NA & Japan &  5,959,718  &  & NA & NA & NA & NA\\\\\n",
       "\t5 & DEU & 4 & NA & Germany &  3,428,131  &  & NA & NA & NA & NA\\\\\n",
       "\t6 & FRA & 5 & NA & France &  2,612,878  &  & NA & NA & NA & NA\\\\\n",
       "\\end{tabular}\n"
      ],
      "text/plain": [
       "    X Ranking X.1       Economy  US.dollars. X.2 X.3 X.4 X.5 X.6\n",
       "1              NA                                 NA  NA  NA  NA\n",
       "2 USA       1  NA United States  16,244,600       NA  NA  NA  NA\n",
       "3 CHN       2  NA         China   8,227,103       NA  NA  NA  NA\n",
       "4 JPN       3  NA         Japan   5,959,718       NA  NA  NA  NA\n",
       "5 DEU       4  NA       Germany   3,428,131       NA  NA  NA  NA\n",
       "6 FRA       5  NA        France   2,612,878       NA  NA  NA  NA"
      ]
     },
     "execution_count": 247,
     "metadata": {},
     "output_type": "execute_result"
    },
    {
     "data": {
      "text/html": [
       "<table>\n",
       "<thead><tr><th></th><th scope=col>X</th><th scope=col>Ranking</th><th scope=col>X.1</th><th scope=col>Economy</th><th scope=col>US.dollars.</th><th scope=col>X.2</th><th scope=col>X.3</th><th scope=col>X.4</th><th scope=col>X.5</th><th scope=col>X.6</th></tr></thead>\n",
       "<tbody>\n",
       "\t<tr><th scope=row>322</th><td></td><td></td><td>NA</td><td></td><td></td><td></td><td>NA</td><td>NA</td><td>NA</td><td>NA</td></tr>\n",
       "\t<tr><th scope=row>323</th><td></td><td></td><td>NA</td><td></td><td></td><td></td><td>NA</td><td>NA</td><td>NA</td><td>NA</td></tr>\n",
       "\t<tr><th scope=row>324</th><td></td><td></td><td>NA</td><td></td><td></td><td></td><td>NA</td><td>NA</td><td>NA</td><td>NA</td></tr>\n",
       "\t<tr><th scope=row>325</th><td></td><td></td><td>NA</td><td></td><td></td><td></td><td>NA</td><td>NA</td><td>NA</td><td>NA</td></tr>\n",
       "\t<tr><th scope=row>326</th><td></td><td></td><td>NA</td><td></td><td></td><td></td><td>NA</td><td>NA</td><td>NA</td><td>NA</td></tr>\n",
       "\t<tr><th scope=row>327</th><td></td><td></td><td>NA</td><td></td><td></td><td></td><td>NA</td><td>NA</td><td>NA</td><td>NA</td></tr>\n",
       "</tbody>\n",
       "</table>\n"
      ],
      "text/latex": [
       "\\begin{tabular}{r|llllllllll}\n",
       "  & X & Ranking & X.1 & Economy & US.dollars. & X.2 & X.3 & X.4 & X.5 & X.6\\\\\n",
       "\\hline\n",
       "\t322 &  &  & NA &  &  &  & NA & NA & NA & NA\\\\\n",
       "\t323 &  &  & NA &  &  &  & NA & NA & NA & NA\\\\\n",
       "\t324 &  &  & NA &  &  &  & NA & NA & NA & NA\\\\\n",
       "\t325 &  &  & NA &  &  &  & NA & NA & NA & NA\\\\\n",
       "\t326 &  &  & NA &  &  &  & NA & NA & NA & NA\\\\\n",
       "\t327 &  &  & NA &  &  &  & NA & NA & NA & NA\\\\\n",
       "\\end{tabular}\n"
      ],
      "text/plain": [
       "    X Ranking X.1 Economy US.dollars. X.2 X.3 X.4 X.5 X.6\n",
       "322            NA                          NA  NA  NA  NA\n",
       "323            NA                          NA  NA  NA  NA\n",
       "324            NA                          NA  NA  NA  NA\n",
       "325            NA                          NA  NA  NA  NA\n",
       "326            NA                          NA  NA  NA  NA\n",
       "327            NA                          NA  NA  NA  NA"
      ]
     },
     "execution_count": 247,
     "metadata": {},
     "output_type": "execute_result"
    }
   ],
   "source": [
    "names(q3_1)\n",
    "nrow(q3_1)\n",
    "ncol(q3_1)\n",
    "head(q3_1)\n",
    "tail(q3_1)"
   ]
  },
  {
   "cell_type": "code",
   "execution_count": 248,
   "metadata": {
    "collapsed": false
   },
   "outputs": [
    {
     "data": {
      "text/html": [
       "<table>\n",
       "<thead><tr><th></th><th scope=col>X</th><th scope=col>Ranking</th><th scope=col>Economy</th><th scope=col>US.dollars.</th></tr></thead>\n",
       "<tbody>\n",
       "\t<tr><th scope=row>2</th><td>USA</td><td>1</td><td>United States</td><td> 16,244,600 </td></tr>\n",
       "\t<tr><th scope=row>3</th><td>CHN</td><td>2</td><td>China</td><td> 8,227,103 </td></tr>\n",
       "\t<tr><th scope=row>4</th><td>JPN</td><td>3</td><td>Japan</td><td> 5,959,718 </td></tr>\n",
       "\t<tr><th scope=row>5</th><td>DEU</td><td>4</td><td>Germany</td><td> 3,428,131 </td></tr>\n",
       "\t<tr><th scope=row>6</th><td>FRA</td><td>5</td><td>France</td><td> 2,612,878 </td></tr>\n",
       "\t<tr><th scope=row>7</th><td>GBR</td><td>6</td><td>United Kingdom</td><td> 2,471,784 </td></tr>\n",
       "</tbody>\n",
       "</table>\n"
      ],
      "text/latex": [
       "\\begin{tabular}{r|llll}\n",
       "  & X & Ranking & Economy & US.dollars.\\\\\n",
       "\\hline\n",
       "\t2 & USA & 1 & United States &  16,244,600 \\\\\n",
       "\t3 & CHN & 2 & China &  8,227,103 \\\\\n",
       "\t4 & JPN & 3 & Japan &  5,959,718 \\\\\n",
       "\t5 & DEU & 4 & Germany &  3,428,131 \\\\\n",
       "\t6 & FRA & 5 & France &  2,612,878 \\\\\n",
       "\t7 & GBR & 6 & United Kingdom &  2,471,784 \\\\\n",
       "\\end{tabular}\n"
      ],
      "text/plain": [
       "    X Ranking        Economy  US.dollars.\n",
       "2 USA       1  United States  16,244,600 \n",
       "3 CHN       2          China   8,227,103 \n",
       "4 JPN       3          Japan   5,959,718 \n",
       "5 DEU       4        Germany   3,428,131 \n",
       "6 FRA       5         France   2,612,878 \n",
       "7 GBR       6 United Kingdom   2,471,784 "
      ]
     },
     "execution_count": 248,
     "metadata": {},
     "output_type": "execute_result"
    }
   ],
   "source": [
    "dat1 <- q3_1[2:191, c(1,2,4,5)]\n",
    "head(dat1)\n",
    "tail(dat1)"
   ]
  },
  {
   "cell_type": "code",
   "execution_count": 249,
   "metadata": {
    "collapsed": false
   },
   "outputs": [
    {
     "data": {
      "text/html": [
       "<ol class=list-inline>\n",
       "\t<li>'CountryCode'</li>\n",
       "\t<li>'Long.Name'</li>\n",
       "\t<li>'Income.Group'</li>\n",
       "\t<li>'Region'</li>\n",
       "\t<li>'Lending.category'</li>\n",
       "\t<li>'Other.groups'</li>\n",
       "\t<li>'Currency.Unit'</li>\n",
       "\t<li>'Latest.population.census'</li>\n",
       "\t<li>'Latest.household.survey'</li>\n",
       "\t<li>'Special.Notes'</li>\n",
       "\t<li>'National.accounts.base.year'</li>\n",
       "\t<li>'National.accounts.reference.year'</li>\n",
       "\t<li>'System.of.National.Accounts'</li>\n",
       "\t<li>'SNA.price.valuation'</li>\n",
       "\t<li>'Alternative.conversion.factor'</li>\n",
       "\t<li>'PPP.survey.year'</li>\n",
       "\t<li>'Balance.of.Payments.Manual.in.use'</li>\n",
       "\t<li>'External.debt.Reporting.status'</li>\n",
       "\t<li>'System.of.trade'</li>\n",
       "\t<li>'Government.Accounting.concept'</li>\n",
       "\t<li>'IMF.data.dissemination.standard'</li>\n",
       "\t<li>'Source.of.most.recent.Income.and.expenditure.data'</li>\n",
       "\t<li>'Vital.registration.complete'</li>\n",
       "\t<li>'Latest.agricultural.census'</li>\n",
       "\t<li>'Latest.industrial.data'</li>\n",
       "\t<li>'Latest.trade.data'</li>\n",
       "\t<li>'Latest.water.withdrawal.data'</li>\n",
       "\t<li>'X2.alpha.code'</li>\n",
       "\t<li>'WB.2.code'</li>\n",
       "\t<li>'Table.Name'</li>\n",
       "\t<li>'Short.Name'</li>\n",
       "</ol>\n"
      ],
      "text/latex": [
       "\\begin{enumerate*}\n",
       "\\item 'CountryCode'\n",
       "\\item 'Long.Name'\n",
       "\\item 'Income.Group'\n",
       "\\item 'Region'\n",
       "\\item 'Lending.category'\n",
       "\\item 'Other.groups'\n",
       "\\item 'Currency.Unit'\n",
       "\\item 'Latest.population.census'\n",
       "\\item 'Latest.household.survey'\n",
       "\\item 'Special.Notes'\n",
       "\\item 'National.accounts.base.year'\n",
       "\\item 'National.accounts.reference.year'\n",
       "\\item 'System.of.National.Accounts'\n",
       "\\item 'SNA.price.valuation'\n",
       "\\item 'Alternative.conversion.factor'\n",
       "\\item 'PPP.survey.year'\n",
       "\\item 'Balance.of.Payments.Manual.in.use'\n",
       "\\item 'External.debt.Reporting.status'\n",
       "\\item 'System.of.trade'\n",
       "\\item 'Government.Accounting.concept'\n",
       "\\item 'IMF.data.dissemination.standard'\n",
       "\\item 'Source.of.most.recent.Income.and.expenditure.data'\n",
       "\\item 'Vital.registration.complete'\n",
       "\\item 'Latest.agricultural.census'\n",
       "\\item 'Latest.industrial.data'\n",
       "\\item 'Latest.trade.data'\n",
       "\\item 'Latest.water.withdrawal.data'\n",
       "\\item 'X2.alpha.code'\n",
       "\\item 'WB.2.code'\n",
       "\\item 'Table.Name'\n",
       "\\item 'Short.Name'\n",
       "\\end{enumerate*}\n"
      ],
      "text/markdown": [
       "1. 'CountryCode'\n",
       "2. 'Long.Name'\n",
       "3. 'Income.Group'\n",
       "4. 'Region'\n",
       "5. 'Lending.category'\n",
       "6. 'Other.groups'\n",
       "7. 'Currency.Unit'\n",
       "8. 'Latest.population.census'\n",
       "9. 'Latest.household.survey'\n",
       "10. 'Special.Notes'\n",
       "11. 'National.accounts.base.year'\n",
       "12. 'National.accounts.reference.year'\n",
       "13. 'System.of.National.Accounts'\n",
       "14. 'SNA.price.valuation'\n",
       "15. 'Alternative.conversion.factor'\n",
       "16. 'PPP.survey.year'\n",
       "17. 'Balance.of.Payments.Manual.in.use'\n",
       "18. 'External.debt.Reporting.status'\n",
       "19. 'System.of.trade'\n",
       "20. 'Government.Accounting.concept'\n",
       "21. 'IMF.data.dissemination.standard'\n",
       "22. 'Source.of.most.recent.Income.and.expenditure.data'\n",
       "23. 'Vital.registration.complete'\n",
       "24. 'Latest.agricultural.census'\n",
       "25. 'Latest.industrial.data'\n",
       "26. 'Latest.trade.data'\n",
       "27. 'Latest.water.withdrawal.data'\n",
       "28. 'X2.alpha.code'\n",
       "29. 'WB.2.code'\n",
       "30. 'Table.Name'\n",
       "31. 'Short.Name'\n",
       "\n",
       "\n"
      ],
      "text/plain": [
       " [1] \"CountryCode\"                                      \n",
       " [2] \"Long.Name\"                                        \n",
       " [3] \"Income.Group\"                                     \n",
       " [4] \"Region\"                                           \n",
       " [5] \"Lending.category\"                                 \n",
       " [6] \"Other.groups\"                                     \n",
       " [7] \"Currency.Unit\"                                    \n",
       " [8] \"Latest.population.census\"                         \n",
       " [9] \"Latest.household.survey\"                          \n",
       "[10] \"Special.Notes\"                                    \n",
       "[11] \"National.accounts.base.year\"                      \n",
       "[12] \"National.accounts.reference.year\"                 \n",
       "[13] \"System.of.National.Accounts\"                      \n",
       "[14] \"SNA.price.valuation\"                              \n",
       "[15] \"Alternative.conversion.factor\"                    \n",
       "[16] \"PPP.survey.year\"                                  \n",
       "[17] \"Balance.of.Payments.Manual.in.use\"                \n",
       "[18] \"External.debt.Reporting.status\"                   \n",
       "[19] \"System.of.trade\"                                  \n",
       "[20] \"Government.Accounting.concept\"                    \n",
       "[21] \"IMF.data.dissemination.standard\"                  \n",
       "[22] \"Source.of.most.recent.Income.and.expenditure.data\"\n",
       "[23] \"Vital.registration.complete\"                      \n",
       "[24] \"Latest.agricultural.census\"                       \n",
       "[25] \"Latest.industrial.data\"                           \n",
       "[26] \"Latest.trade.data\"                                \n",
       "[27] \"Latest.water.withdrawal.data\"                     \n",
       "[28] \"X2.alpha.code\"                                    \n",
       "[29] \"WB.2.code\"                                        \n",
       "[30] \"Table.Name\"                                       \n",
       "[31] \"Short.Name\"                                       "
      ]
     },
     "execution_count": 249,
     "metadata": {},
     "output_type": "execute_result"
    },
    {
     "data": {
      "text/html": [
       "234"
      ],
      "text/latex": [
       "234"
      ],
      "text/markdown": [
       "234"
      ],
      "text/plain": [
       "[1] 234"
      ]
     },
     "execution_count": 249,
     "metadata": {},
     "output_type": "execute_result"
    },
    {
     "data": {
      "text/html": [
       "31"
      ],
      "text/latex": [
       "31"
      ],
      "text/markdown": [
       "31"
      ],
      "text/plain": [
       "[1] 31"
      ]
     },
     "execution_count": 249,
     "metadata": {},
     "output_type": "execute_result"
    }
   ],
   "source": [
    "names(q3_3_2)\n",
    "nrow(q3_3_2)\n",
    "ncol(q3_3_2)"
   ]
  },
  {
   "cell_type": "code",
   "execution_count": 250,
   "metadata": {
    "collapsed": false
   },
   "outputs": [],
   "source": [
    "colnames(dat1)[1]<-\"CountryCode\"\n",
    "colnames(dat1)[2]<-\"GDP\""
   ]
  },
  {
   "cell_type": "code",
   "execution_count": 251,
   "metadata": {
    "collapsed": false
   },
   "outputs": [
    {
     "data": {
      "text/html": [
       "<ol class=list-inline>\n",
       "\t<li>'CountryCode'</li>\n",
       "\t<li>'GDP'</li>\n",
       "\t<li>'Economy'</li>\n",
       "\t<li>'US.dollars.'</li>\n",
       "</ol>\n"
      ],
      "text/latex": [
       "\\begin{enumerate*}\n",
       "\\item 'CountryCode'\n",
       "\\item 'GDP'\n",
       "\\item 'Economy'\n",
       "\\item 'US.dollars.'\n",
       "\\end{enumerate*}\n"
      ],
      "text/markdown": [
       "1. 'CountryCode'\n",
       "2. 'GDP'\n",
       "3. 'Economy'\n",
       "4. 'US.dollars.'\n",
       "\n",
       "\n"
      ],
      "text/plain": [
       "[1] \"CountryCode\" \"GDP\"         \"Economy\"     \"US.dollars.\""
      ]
     },
     "execution_count": 251,
     "metadata": {},
     "output_type": "execute_result"
    }
   ],
   "source": [
    "names(dat1)"
   ]
  },
  {
   "cell_type": "code",
   "execution_count": 252,
   "metadata": {
    "collapsed": true
   },
   "outputs": [],
   "source": [
    "q3all<-merge(x=dat1,y=q3_3_2,by=\"CountryCode\")"
   ]
  },
  {
   "cell_type": "code",
   "execution_count": 253,
   "metadata": {
    "collapsed": false
   },
   "outputs": [
    {
     "data": {
      "text/html": [
       "189"
      ],
      "text/latex": [
       "189"
      ],
      "text/markdown": [
       "189"
      ],
      "text/plain": [
       "[1] 189"
      ]
     },
     "execution_count": 253,
     "metadata": {},
     "output_type": "execute_result"
    }
   ],
   "source": [
    "nrow(q3all)"
   ]
  },
  {
   "cell_type": "code",
   "execution_count": 274,
   "metadata": {
    "collapsed": false
   },
   "outputs": [
    {
     "data": {
      "text/html": [
       "'numeric'"
      ],
      "text/latex": [
       "'numeric'"
      ],
      "text/markdown": [
       "'numeric'"
      ],
      "text/plain": [
       "[1] \"numeric\""
      ]
     },
     "execution_count": 274,
     "metadata": {},
     "output_type": "execute_result"
    }
   ],
   "source": [
    "class(q3all$GDP)"
   ]
  },
  {
   "cell_type": "code",
   "execution_count": 284,
   "metadata": {
    "collapsed": false
   },
   "outputs": [
    {
     "data": {
      "text/html": [
       "<table>\n",
       "<thead><tr><th></th><th scope=col>CountryCode</th><th scope=col>GDP</th><th scope=col>Economy</th><th scope=col>US.dollars.</th><th scope=col>Long.Name</th><th scope=col>Income.Group</th></tr></thead>\n",
       "<tbody>\n",
       "\t<tr><th scope=row>1</th><td>ABW</td><td>161</td><td>Aruba</td><td> 2,584 </td><td>Aruba</td><td>High income: nonOECD</td></tr>\n",
       "\t<tr><th scope=row>2</th><td>AFG</td><td>105</td><td>Afghanistan</td><td> 20,497 </td><td>Islamic State of Afghanistan</td><td>Low income</td></tr>\n",
       "\t<tr><th scope=row>3</th><td>AGO</td><td>60</td><td>Angola</td><td> 114,147 </td><td>People's Republic of Angola</td><td>Lower middle income</td></tr>\n",
       "\t<tr><th scope=row>4</th><td>ALB</td><td>125</td><td>Albania</td><td> 12,648 </td><td>Republic of Albania</td><td>Upper middle income</td></tr>\n",
       "\t<tr><th scope=row>5</th><td>ARE</td><td>32</td><td>United Arab Emirates</td><td> 348,595 </td><td>United Arab Emirates</td><td>High income: nonOECD</td></tr>\n",
       "\t<tr><th scope=row>6</th><td>ARG</td><td>26</td><td>Argentina</td><td> 475,502 </td><td>Argentine Republic</td><td>Upper middle income</td></tr>\n",
       "</tbody>\n",
       "</table>\n"
      ],
      "text/latex": [
       "\\begin{tabular}{r|llllll}\n",
       "  & CountryCode & GDP & Economy & US.dollars. & Long.Name & Income.Group\\\\\n",
       "\\hline\n",
       "\t1 & ABW & 161 & Aruba &  2,584  & Aruba & High income: nonOECD\\\\\n",
       "\t2 & AFG & 105 & Afghanistan &  20,497  & Islamic State of Afghanistan & Low income\\\\\n",
       "\t3 & AGO & 60 & Angola &  114,147  & People's Republic of Angola & Lower middle income\\\\\n",
       "\t4 & ALB & 125 & Albania &  12,648  & Republic of Albania & Upper middle income\\\\\n",
       "\t5 & ARE & 32 & United Arab Emirates &  348,595  & United Arab Emirates & High income: nonOECD\\\\\n",
       "\t6 & ARG & 26 & Argentina &  475,502  & Argentine Republic & Upper middle income\\\\\n",
       "\\end{tabular}\n"
      ],
      "text/plain": [
       "  CountryCode GDP              Economy US.dollars.                    Long.Name\n",
       "1         ABW 161                Aruba      2,584                         Aruba\n",
       "2         AFG 105          Afghanistan     20,497  Islamic State of Afghanistan\n",
       "3         AGO  60               Angola    114,147   People's Republic of Angola\n",
       "4         ALB 125              Albania     12,648           Republic of Albania\n",
       "5         ARE  32 United Arab Emirates    348,595          United Arab Emirates\n",
       "6         ARG  26            Argentina    475,502            Argentine Republic\n",
       "          Income.Group\n",
       "1 High income: nonOECD\n",
       "2           Low income\n",
       "3  Lower middle income\n",
       "4  Upper middle income\n",
       "5 High income: nonOECD\n",
       "6  Upper middle income"
      ]
     },
     "execution_count": 284,
     "metadata": {},
     "output_type": "execute_result"
    }
   ],
   "source": [
    "q3all$GDP<-as.numeric(as.character(q3all$GDP))\n",
    "q3all<-q3all[,1:6]\n",
    "head(q3all)"
   ]
  },
  {
   "cell_type": "code",
   "execution_count": 305,
   "metadata": {
    "collapsed": false,
    "scrolled": true
   },
   "outputs": [],
   "source": [
    "#class(q3all$GDP)\n",
    "#length(q3all$GDP)\n",
    "A<-order(-q3all$GDP)[13]"
   ]
  },
  {
   "cell_type": "code",
   "execution_count": 306,
   "metadata": {
    "collapsed": false
   },
   "outputs": [
    {
     "data": {
      "text/html": [
       "<table>\n",
       "<thead><tr><th></th><th scope=col>CountryCode</th><th scope=col>GDP</th><th scope=col>Economy</th><th scope=col>US.dollars.</th><th scope=col>Long.Name</th><th scope=col>Income.Group</th></tr></thead>\n",
       "<tbody>\n",
       "\t<tr><th scope=row>93</th><td>KNA</td><td>178</td><td>St. Kitts and Nevis</td><td> 767 </td><td>St. Kitts and Nevis</td><td>Upper middle income</td></tr>\n",
       "</tbody>\n",
       "</table>\n"
      ],
      "text/latex": [
       "\\begin{tabular}{r|llllll}\n",
       "  & CountryCode & GDP & Economy & US.dollars. & Long.Name & Income.Group\\\\\n",
       "\\hline\n",
       "\t93 & KNA & 178 & St. Kitts and Nevis &  767  & St. Kitts and Nevis & Upper middle income\\\\\n",
       "\\end{tabular}\n"
      ],
      "text/plain": [
       "   CountryCode GDP             Economy US.dollars.           Long.Name\n",
       "93         KNA 178 St. Kitts and Nevis        767  St. Kitts and Nevis\n",
       "          Income.Group\n",
       "93 Upper middle income"
      ]
     },
     "execution_count": 306,
     "metadata": {},
     "output_type": "execute_result"
    }
   ],
   "source": [
    "q3all[A,]"
   ]
  },
  {
   "cell_type": "code",
   "execution_count": 311,
   "metadata": {
    "collapsed": false
   },
   "outputs": [],
   "source": [
    "###Problem 4\n",
    "library(plyr)\n",
    "library(dplyr)\n",
    "income_group <- group_by(q3all, Income.Group)"
   ]
  },
  {
   "cell_type": "code",
   "execution_count": 312,
   "metadata": {
    "collapsed": false
   },
   "outputs": [
    {
     "data": {
      "text/html": [
       "<table>\n",
       "<thead><tr><th></th><th scope=col>Income.Group</th><th scope=col>avg</th></tr></thead>\n",
       "<tbody>\n",
       "\t<tr><th scope=row>1</th><td>High income: nonOECD</td><td>91.91304</td></tr>\n",
       "\t<tr><th scope=row>2</th><td>High income: OECD</td><td>32.96667</td></tr>\n",
       "\t<tr><th scope=row>3</th><td>Low income</td><td>133.7297</td></tr>\n",
       "\t<tr><th scope=row>4</th><td>Lower middle income</td><td>107.7037</td></tr>\n",
       "\t<tr><th scope=row>5</th><td>Upper middle income</td><td>92.13333</td></tr>\n",
       "</tbody>\n",
       "</table>\n"
      ],
      "text/latex": [
       "\\begin{tabular}{r|ll}\n",
       "  & Income.Group & avg\\\\\n",
       "\\hline\n",
       "\t1 & High income: nonOECD & 91.91304\\\\\n",
       "\t2 & High income: OECD & 32.96667\\\\\n",
       "\t3 & Low income & 133.7297\\\\\n",
       "\t4 & Lower middle income & 107.7037\\\\\n",
       "\t5 & Upper middle income & 92.13333\\\\\n",
       "\\end{tabular}\n"
      ],
      "text/plain": [
       "Source: local data frame [5 x 2]\n",
       "\n",
       "          Income.Group       avg\n",
       "                (fctr)     (dbl)\n",
       "1 High income: nonOECD  91.91304\n",
       "2    High income: OECD  32.96667\n",
       "3           Low income 133.72973\n",
       "4  Lower middle income 107.70370\n",
       "5  Upper middle income  92.13333"
      ]
     },
     "execution_count": 312,
     "metadata": {},
     "output_type": "execute_result"
    }
   ],
   "source": [
    "summarise(income_group, avg = mean(GDP, na.rm = TRUE))"
   ]
  },
  {
   "cell_type": "code",
   "execution_count": 313,
   "metadata": {
    "collapsed": false
   },
   "outputs": [],
   "source": [
    "q3$RankingGroup <- cut(q3all$GDP, breaks = 5)"
   ]
  },
  {
   "cell_type": "code",
   "execution_count": 314,
   "metadata": {
    "collapsed": false
   },
   "outputs": [
    {
     "data": {
      "text/plain": [
       "              \n",
       "                  High income: nonOECD High income: OECD Low income\n",
       "  (0.811,38.8]  0                    4                18          0\n",
       "  (38.8,76.6]   0                    5                10          1\n",
       "  (76.6,114]    0                    8                 1          9\n",
       "  (114,152]     0                    4                 1         16\n",
       "  (152,190]     0                    2                 0         11\n",
       "              \n",
       "               Lower middle income Upper middle income\n",
       "  (0.811,38.8]                   5                  11\n",
       "  (38.8,76.6]                   13                   9\n",
       "  (76.6,114]                    12                   8\n",
       "  (114,152]                      8                   8\n",
       "  (152,190]                     16                   9"
      ]
     },
     "execution_count": 314,
     "metadata": {},
     "output_type": "execute_result"
    }
   ],
   "source": [
    "table(q3$RankingGroup, q3all$Income.Group)"
   ]
  },
  {
   "cell_type": "code",
   "execution_count": 315,
   "metadata": {
    "collapsed": true
   },
   "outputs": [],
   "source": [
    "########Quiz 4\n",
    "###############Problem 1\n",
    "download.file(\"https://d396qusza40orc.cloudfront.net/getdata%2Fdata%2Fss06hid.csv\",\n",
    "              destfile=\"~/data/R/q4-1.csv\",method=\"curl\")"
   ]
  },
  {
   "cell_type": "code",
   "execution_count": 316,
   "metadata": {
    "collapsed": true
   },
   "outputs": [],
   "source": [
    "data1<-read.csv(\"~/data/R/q4-1.csv\")"
   ]
  },
  {
   "cell_type": "code",
   "execution_count": 318,
   "metadata": {
    "collapsed": false
   },
   "outputs": [
    {
     "data": {
      "text/html": [
       "<table>\n",
       "<thead><tr><th></th><th scope=col>RT</th><th scope=col>SERIALNO</th><th scope=col>DIVISION</th><th scope=col>PUMA</th><th scope=col>REGION</th><th scope=col>ST</th><th scope=col>ADJUST</th><th scope=col>WGTP</th><th scope=col>NP</th><th scope=col>TYPE</th><th scope=col>ellip.h</th><th scope=col>wgtp71</th><th scope=col>wgtp72</th><th scope=col>wgtp73</th><th scope=col>wgtp74</th><th scope=col>wgtp75</th><th scope=col>wgtp76</th><th scope=col>wgtp77</th><th scope=col>wgtp78</th><th scope=col>wgtp79</th><th scope=col>wgtp80</th></tr></thead>\n",
       "<tbody>\n",
       "\t<tr><th scope=row>1</th><td>H</td><td>186</td><td>8</td><td>700</td><td>4</td><td>16</td><td>1015675</td><td>89</td><td>4</td><td>1</td><td>⋯</td><td>81</td><td>27</td><td>93</td><td>151</td><td>28</td><td>79</td><td>25</td><td>101</td><td>157</td><td>129</td></tr>\n",
       "\t<tr><th scope=row>2</th><td>H</td><td>306</td><td>8</td><td>700</td><td>4</td><td>16</td><td>1015675</td><td>310</td><td>1</td><td>1</td><td>⋯</td><td>292</td><td>401</td><td>81</td><td>494</td><td>346</td><td>496</td><td>615</td><td>286</td><td>454</td><td>260</td></tr>\n",
       "\t<tr><th scope=row>3</th><td>H</td><td>395</td><td>8</td><td>100</td><td>4</td><td>16</td><td>1015675</td><td>106</td><td>2</td><td>1</td><td>⋯</td><td>123</td><td>119</td><td>168</td><td>107</td><td>95</td><td>101</td><td>30</td><td>124</td><td>106</td><td>31</td></tr>\n",
       "\t<tr><th scope=row>4</th><td>H</td><td>506</td><td>8</td><td>700</td><td>4</td><td>16</td><td>1015675</td><td>240</td><td>4</td><td>1</td><td>⋯</td><td>68</td><td>359</td><td>385</td><td>71</td><td>234</td><td>421</td><td>76</td><td>77</td><td>242</td><td>231</td></tr>\n",
       "\t<tr><th scope=row>5</th><td>H</td><td>835</td><td>8</td><td>800</td><td>4</td><td>16</td><td>1015675</td><td>118</td><td>4</td><td>1</td><td>⋯</td><td>127</td><td>36</td><td>119</td><td>121</td><td>116</td><td>209</td><td>97</td><td>176</td><td>144</td><td>38</td></tr>\n",
       "\t<tr><th scope=row>6</th><td>H</td><td>989</td><td>8</td><td>700</td><td>4</td><td>16</td><td>1015675</td><td>115</td><td>4</td><td>1</td><td>⋯</td><td>120</td><td>34</td><td>109</td><td>199</td><td>116</td><td>110</td><td>211</td><td>120</td><td>31</td><td>189</td></tr>\n",
       "</tbody>\n",
       "</table>\n"
      ],
      "text/latex": [
       "\\begin{tabular}{r|llllllllllllllllllllllllllllllllllllllllllllllllllllllllllllllllllllllllllllllllllllllllllllllllllllllllllllllllllllllllllllllllllllllllllllllllllllllllllllllllllllllllllllllllllllllllllll}\n",
       "  & RT & SERIALNO & DIVISION & PUMA & REGION & ST & ADJUST & WGTP & NP & TYPE & ellip.h & wgtp71 & wgtp72 & wgtp73 & wgtp74 & wgtp75 & wgtp76 & wgtp77 & wgtp78 & wgtp79 & wgtp80\\\\\n",
       "\\hline\n",
       "\t1 & H & 186 & 8 & 700 & 4 & 16 & 1015675 & 89 & 4 & 1 & ⋯ & 81 & 27 & 93 & 151 & 28 & 79 & 25 & 101 & 157 & 129\\\\\n",
       "\t2 & H & 306 & 8 & 700 & 4 & 16 & 1015675 & 310 & 1 & 1 & ⋯ & 292 & 401 & 81 & 494 & 346 & 496 & 615 & 286 & 454 & 260\\\\\n",
       "\t3 & H & 395 & 8 & 100 & 4 & 16 & 1015675 & 106 & 2 & 1 & ⋯ & 123 & 119 & 168 & 107 & 95 & 101 & 30 & 124 & 106 & 31\\\\\n",
       "\t4 & H & 506 & 8 & 700 & 4 & 16 & 1015675 & 240 & 4 & 1 & ⋯ & 68 & 359 & 385 & 71 & 234 & 421 & 76 & 77 & 242 & 231\\\\\n",
       "\t5 & H & 835 & 8 & 800 & 4 & 16 & 1015675 & 118 & 4 & 1 & ⋯ & 127 & 36 & 119 & 121 & 116 & 209 & 97 & 176 & 144 & 38\\\\\n",
       "\t6 & H & 989 & 8 & 700 & 4 & 16 & 1015675 & 115 & 4 & 1 & ⋯ & 120 & 34 & 109 & 199 & 116 & 110 & 211 & 120 & 31 & 189\\\\\n",
       "\\end{tabular}\n"
      ],
      "text/plain": [
       "  RT SERIALNO DIVISION PUMA REGION ST  ADJUST WGTP NP TYPE ACR AGS BDS BLD BUS\n",
       "1  H      186        8  700      4 16 1015675   89  4    1   1  NA   4   2   2\n",
       "2  H      306        8  700      4 16 1015675  310  1    1  NA  NA   1   7  NA\n",
       "3  H      395        8  100      4 16 1015675  106  2    1   1  NA   3   2   2\n",
       "4  H      506        8  700      4 16 1015675  240  4    1   1  NA   4   2   2\n",
       "5  H      835        8  800      4 16 1015675  118  4    1   2   1   5   2   2\n",
       "6  H      989        8  700      4 16 1015675  115  4    1   1  NA   3   2   2\n",
       "  CONP ELEP FS FULP GASP HFL INSP KIT MHP MRGI MRGP MRGT MRGX PLM RMS RNTM RNTP\n",
       "1   NA  180  0    2    3   3  600   1  NA    1 1300    1    1   1   9   NA   NA\n",
       "2   NA   60  0    2    3   3   NA   1  NA   NA   NA   NA   NA   1   2    2  600\n",
       "3   NA   70  0    2   30   1  200   1  NA   NA   NA   NA    3   1   7   NA   NA\n",
       "4   NA   40  0    2   80   1  200   1  NA    1  860    1    1   1   6   NA   NA\n",
       "5   NA  250  0    2    3   3  700   1  NA    1 1900    1    1   1   7   NA   NA\n",
       "6   NA  130  0    2    3   3  250   1  NA    1  700    1    1   1   6   NA   NA\n",
       "  SMP TEL TEN VACS VAL VEH WATP YBL FES  FINCP FPARC GRNTP GRPIP HHL HHT  HINCP\n",
       "1  NA   1   1   NA  17   3  840   5   2 105600     2    NA    NA   1   1 105600\n",
       "2  NA   1   3   NA  NA   1    1   3  NA     NA    NA   660    23   1   4  34000\n",
       "3  NA   1   2   NA  18   2   50   5   7   9400     2    NA    NA   1   3   9400\n",
       "4 400   1   1   NA  19   3  500   2   1  66000     1    NA    NA   1   1  66000\n",
       "5 650   1   1   NA  20   5    2   3   1  93000     2    NA    NA   1   1  93000\n",
       "6 400   1   1   NA  15   2 1200   5   2  61000     1    NA    NA   1   1  61000\n",
       "  HUGCL HUPAC HUPAOC HUPARC LNGI MV NOC NPF NPP NR NRC OCPIP PARTNER PSF R18\n",
       "1     0     2      2      2    1  4   2   4   0  0   2    18       0   0   1\n",
       "2     0     4      4      4    1  3   0  NA   0  0   0    NA       0   0   0\n",
       "3     0     2      2      2    1  2   1   2   0  0   1    23       0   0   1\n",
       "4     0     1      1      1    1  3   2   4   0  0   2    26       0   0   1\n",
       "5     0     2      2      2    1  1   1   4   0  0   1    36       0   0   1\n",
       "6     0     1      1      1    1  4   2   4   0  0   2    26       0   0   1\n",
       "  R60 R65 RESMODE SMOCP SMX SRNT SVAL TAXP WIF WKEXREL WORKSTAT FACRP FAGSP\n",
       "1   0   0       1  1550   3    0    1   24   3       2        3     0     0\n",
       "2   0   0       2    NA  NA    1    0   NA  NA      NA       NA     0     0\n",
       "3   0   0       1   179  NA    0    1   16   1      13       13     0     0\n",
       "4   0   0       2  1422   1    0    1   31   2       2        1     0     0\n",
       "5   0   0       1  2800   1    0    1   25   3       1        1     0     0\n",
       "6   0   0       2  1330   2    0    1    7   1       7        3     0     0\n",
       "  FBDSP FBLDP FBUSP FCONP FELEP FFSP FFULP FGASP FHFLP FINSP FKITP FMHP FMRGIP\n",
       "1     0     0     0     0     0    0     0     0     0     0     0    0      0\n",
       "2     0     0     0     0     0    0     0     0     0     0     0    0      0\n",
       "3     0     0     0     0     0    0     0     0     0     0     0    0      0\n",
       "4     0     0     0     0     0    0     0     0     0     0     0    0      0\n",
       "5     0     0     0     0     0    0     0     0     0     0     0    0      0\n",
       "6     0     0     0     0     0    0     0     0     0     1     0    0      0\n",
       "  FMRGP FMRGTP FMRGXP FMVYP FPLMP FRMSP FRNTMP FRNTP FSMP FSMXHP FSMXSP FTAXP\n",
       "1     0      0      0     0     0     0      0     0    0      0      0     0\n",
       "2     0      0      0     0     0     0      0     0    0      0      0     0\n",
       "3     0      0      0     0     0     0      0     0    0      0      0     0\n",
       "4     0      0      0     0     0     0      0     0    0      0      0     0\n",
       "5     0      0      0     0     0     0      0     0    0      0      0     0\n",
       "6     0      0      0     0     0     0      0     0    0      0      0     1\n",
       "  FTELP FTENP FVACSP FVALP FVEHP FWATP FYBLP wgtp1 wgtp2 wgtp3 wgtp4 wgtp5\n",
       "1     0     0      0     0     0     0     0    87    28   156    95    26\n",
       "2     0     0      0     0     0     0     1   539   363   293   422   566\n",
       "3     0     0      0     0     0     0     0   187    35   184   178    83\n",
       "4     0     0      0     0     0     0     0   232   406   234   270   249\n",
       "5     0     0      0     0     0     0     0   107   194   129    41   156\n",
       "6     0     0      0     0     0     1     0   191   197   127   115   115\n",
       "  wgtp6 wgtp7 wgtp8 wgtp9 wgtp10 wgtp11 wgtp12 wgtp13 wgtp14 wgtp15 wgtp16\n",
       "1    25    95    93    93     91     87    166     90     25    153     89\n",
       "2   289    87   242   453    453    334    358    414    102    281     99\n",
       "3    95    31    32   177    118    110    114    184    107     95    115\n",
       "4   242   406   249   287     67     72    413    399     77    245    424\n",
       "5   174    47   113   101     33    115     52    113     95    135    206\n",
       "6   107   119    34    32     30    123    199    117     33    109    117\n",
       "  wgtp17 wgtp18 wgtp19 wgtp20 wgtp21 wgtp22 wgtp23 wgtp24 wgtp25 wgtp26 wgtp27\n",
       "1    148     82     25    180     90     24    140     92     25     27     86\n",
       "2    108    278    131    407    447    264    352    238    390    336    122\n",
       "3     33    118    120     37    184     35    176    176    110    103     29\n",
       "4     67     63    226    254    238     69    238    255    239    248     69\n",
       "5    100    185    135    279    116     33    105    244     38     30    230\n",
       "6     31    115    201    190    184    198    113    109    117    111    110\n",
       "  wgtp28 wgtp29 wgtp30 wgtp31 wgtp32 wgtp33 wgtp34 wgtp35 wgtp36 wgtp37 wgtp38\n",
       "1     84     87     93     90    149     91     28    143     81    144     95\n",
       "2    374    482    468    335    251    613    104    284    116     91    326\n",
       "3     30    197    127     92    118    177     99     99    109     34    100\n",
       "4    234    247    437    423     74     61    401    267     72    388    335\n",
       "5    123    123    243    120    238     98     90    107     44    122     32\n",
       "6     33     37     36    110    183    114     35    134    119     32    121\n",
       "  wgtp39 wgtp40 wgtp41 wgtp42 wgtp43 wgtp44 wgtp45 wgtp46 wgtp47 wgtp48 wgtp49\n",
       "1     27     22     90    171     27     83    153    148     92     91     91\n",
       "2    102    361    107    253    321    289     96    343    564    274    118\n",
       "3    105     33    173     36    168    175     99    103     30     35    155\n",
       "4    229    236    239     65    259    247    230    225     82    220    233\n",
       "5    127    195    116     36    135    237     33     33    249    102     84\n",
       "6    188     33     34     32    109    115    115    112    119    192    186\n",
       "  wgtp50 wgtp51 wgtp52 wgtp53 wgtp54 wgtp55 wgtp56 wgtp57 wgtp58 wgtp59 wgtp60\n",
       "1     93     90     26     94    142     24     91     29     84    148     30\n",
       "2    118    321    261    130    463    294    479    391    307    476    283\n",
       "3    102     95    107    185    120    114    113     36    115    103     29\n",
       "4    419    390     69     74    391    276     70    422    409    223    245\n",
       "5    224    119    250    119    125    126     32    112     33    131     45\n",
       "6    213    106     34    124    179    106    107    190    112     34     35\n",
       "  wgtp61 wgtp62 wgtp63 wgtp64 wgtp65 wgtp66 wgtp67 wgtp68 wgtp69 wgtp70 wgtp71\n",
       "1     93    143     24     88    147    145     91     83     83     86     81\n",
       "2    116    353    323    374    106    236    380    313     90     94    292\n",
       "3    183     35    179    169     95    110     28     34    233     97    123\n",
       "4    269    488    221    250    247    240    415    234    219     66     68\n",
       "5    101    165    125     41    191    195     49    119     92     44    127\n",
       "6     32     34    119    123    122    121    123    196    196    207    120\n",
       "  wgtp72 wgtp73 wgtp74 wgtp75 wgtp76 wgtp77 wgtp78 wgtp79 wgtp80\n",
       "1     27     93    151     28     79     25    101    157    129\n",
       "2    401     81    494    346    496    615    286    454    260\n",
       "3    119    168    107     95    101     30    124    106     31\n",
       "4    359    385     71    234    421     76     77    242    231\n",
       "5     36    119    121    116    209     97    176    144     38\n",
       "6     34    109    199    116    110    211    120     31    189"
      ]
     },
     "execution_count": 318,
     "metadata": {},
     "output_type": "execute_result"
    }
   ],
   "source": [
    "head(data1)"
   ]
  },
  {
   "cell_type": "code",
   "execution_count": 326,
   "metadata": {
    "collapsed": false
   },
   "outputs": [
    {
     "data": {
      "text/html": [
       "<ol class=list-inline>\n",
       "\t<li>''</li>\n",
       "\t<li>'15'</li>\n",
       "</ol>\n"
      ],
      "text/latex": [
       "\\begin{enumerate*}\n",
       "\\item ''\n",
       "\\item '15'\n",
       "\\end{enumerate*}\n"
      ],
      "text/markdown": [
       "1. ''\n",
       "2. '15'\n",
       "\n",
       "\n"
      ],
      "text/plain": [
       "[1] \"\"   \"15\""
      ]
     },
     "execution_count": 326,
     "metadata": {},
     "output_type": "execute_result"
    }
   ],
   "source": [
    "strsplit(names(data1), \"wgtp\")[[123]]"
   ]
  },
  {
   "cell_type": "code",
   "execution_count": 361,
   "metadata": {
    "collapsed": true
   },
   "outputs": [],
   "source": [
    "######Problem 4\n",
    "download.file(\"https://d396qusza40orc.cloudfront.net/getdata%2Fdata%2FGDP.csv\",\n",
    "              destfile=\"~/data/R/q4-2.csv\",method=\"curl\")\n",
    "data2<-read.csv(\"~/data/R/q4-2.csv\",skip=3,header=T,sep=\",\")"
   ]
  },
  {
   "cell_type": "code",
   "execution_count": 362,
   "metadata": {
    "collapsed": false
   },
   "outputs": [
    {
     "data": {
      "text/html": [
       "<table>\n",
       "<thead><tr><th></th><th scope=col>X</th><th scope=col>Ranking</th><th scope=col>X.1</th><th scope=col>Economy</th><th scope=col>US.dollars.</th><th scope=col>X.2</th><th scope=col>X.3</th><th scope=col>X.4</th><th scope=col>X.5</th><th scope=col>X.6</th></tr></thead>\n",
       "<tbody>\n",
       "\t<tr><th scope=row>1</th><td></td><td></td><td>NA</td><td></td><td></td><td></td><td>NA</td><td>NA</td><td>NA</td><td>NA</td></tr>\n",
       "\t<tr><th scope=row>2</th><td>USA</td><td>1</td><td>NA</td><td>United States</td><td> 16,244,600 </td><td></td><td>NA</td><td>NA</td><td>NA</td><td>NA</td></tr>\n",
       "\t<tr><th scope=row>3</th><td>CHN</td><td>2</td><td>NA</td><td>China</td><td> 8,227,103 </td><td></td><td>NA</td><td>NA</td><td>NA</td><td>NA</td></tr>\n",
       "\t<tr><th scope=row>4</th><td>JPN</td><td>3</td><td>NA</td><td>Japan</td><td> 5,959,718 </td><td></td><td>NA</td><td>NA</td><td>NA</td><td>NA</td></tr>\n",
       "\t<tr><th scope=row>5</th><td>DEU</td><td>4</td><td>NA</td><td>Germany</td><td> 3,428,131 </td><td></td><td>NA</td><td>NA</td><td>NA</td><td>NA</td></tr>\n",
       "\t<tr><th scope=row>6</th><td>FRA</td><td>5</td><td>NA</td><td>France</td><td> 2,612,878 </td><td></td><td>NA</td><td>NA</td><td>NA</td><td>NA</td></tr>\n",
       "</tbody>\n",
       "</table>\n"
      ],
      "text/latex": [
       "\\begin{tabular}{r|llllllllll}\n",
       "  & X & Ranking & X.1 & Economy & US.dollars. & X.2 & X.3 & X.4 & X.5 & X.6\\\\\n",
       "\\hline\n",
       "\t1 &  &  & NA &  &  &  & NA & NA & NA & NA\\\\\n",
       "\t2 & USA & 1 & NA & United States &  16,244,600  &  & NA & NA & NA & NA\\\\\n",
       "\t3 & CHN & 2 & NA & China &  8,227,103  &  & NA & NA & NA & NA\\\\\n",
       "\t4 & JPN & 3 & NA & Japan &  5,959,718  &  & NA & NA & NA & NA\\\\\n",
       "\t5 & DEU & 4 & NA & Germany &  3,428,131  &  & NA & NA & NA & NA\\\\\n",
       "\t6 & FRA & 5 & NA & France &  2,612,878  &  & NA & NA & NA & NA\\\\\n",
       "\\end{tabular}\n"
      ],
      "text/plain": [
       "    X Ranking X.1       Economy  US.dollars. X.2 X.3 X.4 X.5 X.6\n",
       "1              NA                                 NA  NA  NA  NA\n",
       "2 USA       1  NA United States  16,244,600       NA  NA  NA  NA\n",
       "3 CHN       2  NA         China   8,227,103       NA  NA  NA  NA\n",
       "4 JPN       3  NA         Japan   5,959,718       NA  NA  NA  NA\n",
       "5 DEU       4  NA       Germany   3,428,131       NA  NA  NA  NA\n",
       "6 FRA       5  NA        France   2,612,878       NA  NA  NA  NA"
      ]
     },
     "execution_count": 362,
     "metadata": {},
     "output_type": "execute_result"
    }
   ],
   "source": [
    "head(data2)"
   ]
  },
  {
   "cell_type": "code",
   "execution_count": 363,
   "metadata": {
    "collapsed": false
   },
   "outputs": [
    {
     "data": {
      "text/html": [
       "327"
      ],
      "text/latex": [
       "327"
      ],
      "text/markdown": [
       "327"
      ],
      "text/plain": [
       "[1] 327"
      ]
     },
     "execution_count": 363,
     "metadata": {},
     "output_type": "execute_result"
    },
    {
     "data": {
      "text/html": [
       "'factor'"
      ],
      "text/latex": [
       "'factor'"
      ],
      "text/markdown": [
       "'factor'"
      ],
      "text/plain": [
       "[1] \"factor\""
      ]
     },
     "execution_count": 363,
     "metadata": {},
     "output_type": "execute_result"
    }
   ],
   "source": [
    "length(data2$US.dollars.)\n",
    "class(data2$US.dollars.)"
   ]
  },
  {
   "cell_type": "code",
   "execution_count": 364,
   "metadata": {
    "collapsed": true
   },
   "outputs": [],
   "source": [
    "names(data2) <- gsub(pattern = \"\\\\.\", replacement = \"\", x = names(data2))\n",
    "names(data2) <- tolower(names(data2))"
   ]
  },
  {
   "cell_type": "code",
   "execution_count": 365,
   "metadata": {
    "collapsed": false
   },
   "outputs": [
    {
     "data": {
      "text/html": [
       "<ol class=list-inline>\n",
       "\t<li>'x'</li>\n",
       "\t<li>'ranking'</li>\n",
       "\t<li>'x1'</li>\n",
       "\t<li>'economy'</li>\n",
       "\t<li>'usdollars'</li>\n",
       "\t<li>'x2'</li>\n",
       "\t<li>'x3'</li>\n",
       "\t<li>'x4'</li>\n",
       "\t<li>'x5'</li>\n",
       "\t<li>'x6'</li>\n",
       "</ol>\n"
      ],
      "text/latex": [
       "\\begin{enumerate*}\n",
       "\\item 'x'\n",
       "\\item 'ranking'\n",
       "\\item 'x1'\n",
       "\\item 'economy'\n",
       "\\item 'usdollars'\n",
       "\\item 'x2'\n",
       "\\item 'x3'\n",
       "\\item 'x4'\n",
       "\\item 'x5'\n",
       "\\item 'x6'\n",
       "\\end{enumerate*}\n"
      ],
      "text/markdown": [
       "1. 'x'\n",
       "2. 'ranking'\n",
       "3. 'x1'\n",
       "4. 'economy'\n",
       "5. 'usdollars'\n",
       "6. 'x2'\n",
       "7. 'x3'\n",
       "8. 'x4'\n",
       "9. 'x5'\n",
       "10. 'x6'\n",
       "\n",
       "\n"
      ],
      "text/plain": [
       " [1] \"x\"         \"ranking\"   \"x1\"        \"economy\"   \"usdollars\" \"x2\"       \n",
       " [7] \"x3\"        \"x4\"        \"x5\"        \"x6\"       "
      ]
     },
     "execution_count": 365,
     "metadata": {},
     "output_type": "execute_result"
    }
   ],
   "source": [
    "names(data2)"
   ]
  },
  {
   "cell_type": "code",
   "execution_count": 366,
   "metadata": {
    "collapsed": true
   },
   "outputs": [],
   "source": [
    "data2$usdollars <- gsub(pattern = \",\", replacement = \"\", x = data2$usdollars)"
   ]
  },
  {
   "cell_type": "code",
   "execution_count": 367,
   "metadata": {
    "collapsed": false
   },
   "outputs": [
    {
     "data": {
      "text/html": [
       "<table>\n",
       "<thead><tr><th></th><th scope=col>x</th><th scope=col>ranking</th><th scope=col>x1</th><th scope=col>economy</th><th scope=col>usdollars</th><th scope=col>x2</th><th scope=col>x3</th><th scope=col>x4</th><th scope=col>x5</th><th scope=col>x6</th></tr></thead>\n",
       "<tbody>\n",
       "\t<tr><th scope=row>1</th><td></td><td></td><td>NA</td><td></td><td></td><td></td><td>NA</td><td>NA</td><td>NA</td><td>NA</td></tr>\n",
       "\t<tr><th scope=row>2</th><td>USA</td><td>1</td><td>NA</td><td>United States</td><td> 16244600 </td><td></td><td>NA</td><td>NA</td><td>NA</td><td>NA</td></tr>\n",
       "\t<tr><th scope=row>3</th><td>CHN</td><td>2</td><td>NA</td><td>China</td><td> 8227103 </td><td></td><td>NA</td><td>NA</td><td>NA</td><td>NA</td></tr>\n",
       "\t<tr><th scope=row>4</th><td>JPN</td><td>3</td><td>NA</td><td>Japan</td><td> 5959718 </td><td></td><td>NA</td><td>NA</td><td>NA</td><td>NA</td></tr>\n",
       "\t<tr><th scope=row>5</th><td>DEU</td><td>4</td><td>NA</td><td>Germany</td><td> 3428131 </td><td></td><td>NA</td><td>NA</td><td>NA</td><td>NA</td></tr>\n",
       "\t<tr><th scope=row>6</th><td>FRA</td><td>5</td><td>NA</td><td>France</td><td> 2612878 </td><td></td><td>NA</td><td>NA</td><td>NA</td><td>NA</td></tr>\n",
       "</tbody>\n",
       "</table>\n"
      ],
      "text/latex": [
       "\\begin{tabular}{r|llllllllll}\n",
       "  & x & ranking & x1 & economy & usdollars & x2 & x3 & x4 & x5 & x6\\\\\n",
       "\\hline\n",
       "\t1 &  &  & NA &  &  &  & NA & NA & NA & NA\\\\\n",
       "\t2 & USA & 1 & NA & United States &  16244600  &  & NA & NA & NA & NA\\\\\n",
       "\t3 & CHN & 2 & NA & China &  8227103  &  & NA & NA & NA & NA\\\\\n",
       "\t4 & JPN & 3 & NA & Japan &  5959718  &  & NA & NA & NA & NA\\\\\n",
       "\t5 & DEU & 4 & NA & Germany &  3428131  &  & NA & NA & NA & NA\\\\\n",
       "\t6 & FRA & 5 & NA & France &  2612878  &  & NA & NA & NA & NA\\\\\n",
       "\\end{tabular}\n"
      ],
      "text/plain": [
       "    x ranking x1       economy  usdollars x2 x3 x4 x5 x6\n",
       "1             NA                             NA NA NA NA\n",
       "2 USA       1 NA United States  16244600     NA NA NA NA\n",
       "3 CHN       2 NA         China   8227103     NA NA NA NA\n",
       "4 JPN       3 NA         Japan   5959718     NA NA NA NA\n",
       "5 DEU       4 NA       Germany   3428131     NA NA NA NA\n",
       "6 FRA       5 NA        France   2612878     NA NA NA NA"
      ]
     },
     "execution_count": 367,
     "metadata": {},
     "output_type": "execute_result"
    },
    {
     "data": {
      "text/html": [
       "<table>\n",
       "<thead><tr><th></th><th scope=col>x</th><th scope=col>ranking</th><th scope=col>x1</th><th scope=col>economy</th><th scope=col>usdollars</th><th scope=col>x2</th><th scope=col>x3</th><th scope=col>x4</th><th scope=col>x5</th><th scope=col>x6</th></tr></thead>\n",
       "<tbody>\n",
       "\t<tr><th scope=row>322</th><td></td><td></td><td>NA</td><td></td><td></td><td></td><td>NA</td><td>NA</td><td>NA</td><td>NA</td></tr>\n",
       "\t<tr><th scope=row>323</th><td></td><td></td><td>NA</td><td></td><td></td><td></td><td>NA</td><td>NA</td><td>NA</td><td>NA</td></tr>\n",
       "\t<tr><th scope=row>324</th><td></td><td></td><td>NA</td><td></td><td></td><td></td><td>NA</td><td>NA</td><td>NA</td><td>NA</td></tr>\n",
       "\t<tr><th scope=row>325</th><td></td><td></td><td>NA</td><td></td><td></td><td></td><td>NA</td><td>NA</td><td>NA</td><td>NA</td></tr>\n",
       "\t<tr><th scope=row>326</th><td></td><td></td><td>NA</td><td></td><td></td><td></td><td>NA</td><td>NA</td><td>NA</td><td>NA</td></tr>\n",
       "\t<tr><th scope=row>327</th><td></td><td></td><td>NA</td><td></td><td></td><td></td><td>NA</td><td>NA</td><td>NA</td><td>NA</td></tr>\n",
       "</tbody>\n",
       "</table>\n"
      ],
      "text/latex": [
       "\\begin{tabular}{r|llllllllll}\n",
       "  & x & ranking & x1 & economy & usdollars & x2 & x3 & x4 & x5 & x6\\\\\n",
       "\\hline\n",
       "\t322 &  &  & NA &  &  &  & NA & NA & NA & NA\\\\\n",
       "\t323 &  &  & NA &  &  &  & NA & NA & NA & NA\\\\\n",
       "\t324 &  &  & NA &  &  &  & NA & NA & NA & NA\\\\\n",
       "\t325 &  &  & NA &  &  &  & NA & NA & NA & NA\\\\\n",
       "\t326 &  &  & NA &  &  &  & NA & NA & NA & NA\\\\\n",
       "\t327 &  &  & NA &  &  &  & NA & NA & NA & NA\\\\\n",
       "\\end{tabular}\n"
      ],
      "text/plain": [
       "    x ranking x1 economy usdollars x2 x3 x4 x5 x6\n",
       "322           NA                      NA NA NA NA\n",
       "323           NA                      NA NA NA NA\n",
       "324           NA                      NA NA NA NA\n",
       "325           NA                      NA NA NA NA\n",
       "326           NA                      NA NA NA NA\n",
       "327           NA                      NA NA NA NA"
      ]
     },
     "execution_count": 367,
     "metadata": {},
     "output_type": "execute_result"
    }
   ],
   "source": [
    "head(data2)\n",
    "tail(data2)"
   ]
  },
  {
   "cell_type": "code",
   "execution_count": 368,
   "metadata": {
    "collapsed": true
   },
   "outputs": [],
   "source": [
    "data2<-data2[2:191,1:5]"
   ]
  },
  {
   "cell_type": "code",
   "execution_count": 369,
   "metadata": {
    "collapsed": false
   },
   "outputs": [
    {
     "data": {
      "text/html": [
       "<table>\n",
       "<thead><tr><th></th><th scope=col>x</th><th scope=col>ranking</th><th scope=col>x1</th><th scope=col>economy</th><th scope=col>usdollars</th></tr></thead>\n",
       "<tbody>\n",
       "\t<tr><th scope=row>2</th><td>USA</td><td>1</td><td>NA</td><td>United States</td><td> 16244600 </td></tr>\n",
       "\t<tr><th scope=row>3</th><td>CHN</td><td>2</td><td>NA</td><td>China</td><td> 8227103 </td></tr>\n",
       "\t<tr><th scope=row>4</th><td>JPN</td><td>3</td><td>NA</td><td>Japan</td><td> 5959718 </td></tr>\n",
       "\t<tr><th scope=row>5</th><td>DEU</td><td>4</td><td>NA</td><td>Germany</td><td> 3428131 </td></tr>\n",
       "\t<tr><th scope=row>6</th><td>FRA</td><td>5</td><td>NA</td><td>France</td><td> 2612878 </td></tr>\n",
       "\t<tr><th scope=row>7</th><td>GBR</td><td>6</td><td>NA</td><td>United Kingdom</td><td> 2471784 </td></tr>\n",
       "</tbody>\n",
       "</table>\n"
      ],
      "text/latex": [
       "\\begin{tabular}{r|lllll}\n",
       "  & x & ranking & x1 & economy & usdollars\\\\\n",
       "\\hline\n",
       "\t2 & USA & 1 & NA & United States &  16244600 \\\\\n",
       "\t3 & CHN & 2 & NA & China &  8227103 \\\\\n",
       "\t4 & JPN & 3 & NA & Japan &  5959718 \\\\\n",
       "\t5 & DEU & 4 & NA & Germany &  3428131 \\\\\n",
       "\t6 & FRA & 5 & NA & France &  2612878 \\\\\n",
       "\t7 & GBR & 6 & NA & United Kingdom &  2471784 \\\\\n",
       "\\end{tabular}\n"
      ],
      "text/plain": [
       "    x ranking x1        economy  usdollars\n",
       "2 USA       1 NA  United States  16244600 \n",
       "3 CHN       2 NA          China   8227103 \n",
       "4 JPN       3 NA          Japan   5959718 \n",
       "5 DEU       4 NA        Germany   3428131 \n",
       "6 FRA       5 NA         France   2612878 \n",
       "7 GBR       6 NA United Kingdom   2471784 "
      ]
     },
     "execution_count": 369,
     "metadata": {},
     "output_type": "execute_result"
    }
   ],
   "source": [
    "head(data2)\n",
    "tail(data2)"
   ]
  },
  {
   "cell_type": "code",
   "execution_count": 370,
   "metadata": {
    "collapsed": false
   },
   "outputs": [
    {
     "data": {
      "text/html": [
       "377652.421052632"
      ],
      "text/latex": [
       "377652.421052632"
      ],
      "text/markdown": [
       "377652.421052632"
      ],
      "text/plain": [
       "[1] 377652.4"
      ]
     },
     "execution_count": 370,
     "metadata": {},
     "output_type": "execute_result"
    }
   ],
   "source": [
    "mean(as.numeric(as.character(data2$usdollars)),na.rm=T)"
   ]
  },
  {
   "cell_type": "code",
   "execution_count": 371,
   "metadata": {
    "collapsed": false
   },
   "outputs": [
    {
     "name": "stderr",
     "output_type": "stream",
     "text": [
      "Warning message:\n",
      "In grep(\"^United\", data2$economy): input string 99 is invalid in this localeWarning message:\n",
      "In grep(\"^United\", data2$economy): input string 186 is invalid in this locale"
     ]
    },
    {
     "data": {
      "text/html": [
       "<ol class=list-inline>\n",
       "\t<li>1</li>\n",
       "\t<li>6</li>\n",
       "\t<li>32</li>\n",
       "</ol>\n"
      ],
      "text/latex": [
       "\\begin{enumerate*}\n",
       "\\item 1\n",
       "\\item 6\n",
       "\\item 32\n",
       "\\end{enumerate*}\n"
      ],
      "text/markdown": [
       "1. 1\n",
       "2. 6\n",
       "3. 32\n",
       "\n",
       "\n"
      ],
      "text/plain": [
       "[1]  1  6 32"
      ]
     },
     "execution_count": 371,
     "metadata": {},
     "output_type": "execute_result"
    }
   ],
   "source": [
    "###Problem 3\n",
    "grep(\"^United\",data2$economy)"
   ]
  },
  {
   "cell_type": "code",
   "execution_count": 415,
   "metadata": {
    "collapsed": true
   },
   "outputs": [],
   "source": [
    "download.file(\"https://d396qusza40orc.cloudfront.net/getdata%2Fdata%2FEDSTATS_Country.csv\",\n",
    "              destfile=\"~/data/R/q4_4_2.csv\",method=\"curl\")"
   ]
  },
  {
   "cell_type": "code",
   "execution_count": 416,
   "metadata": {
    "collapsed": true
   },
   "outputs": [],
   "source": [
    "dat2<-read.csv(\"~/data/R/q4_4_2.csv\")"
   ]
  },
  {
   "cell_type": "code",
   "execution_count": 417,
   "metadata": {
    "collapsed": false
   },
   "outputs": [],
   "source": [
    "names(dat2) <- tolower(gsub(pattern = \"\\\\.\",replacement = \"\", x = names(dat2)))"
   ]
  },
  {
   "cell_type": "code",
   "execution_count": 419,
   "metadata": {
    "collapsed": false,
    "scrolled": true
   },
   "outputs": [
    {
     "data": {
      "text/html": [
       "<table>\n",
       "<thead><tr><th></th><th scope=col>x</th><th scope=col>longname</th><th scope=col>incomegroup</th><th scope=col>region</th><th scope=col>lendingcategory</th><th scope=col>othergroups</th><th scope=col>currencyunit</th><th scope=col>latestpopulationcensus</th><th scope=col>latesthouseholdsurvey</th><th scope=col>specialnotes</th><th scope=col>ellip.h</th><th scope=col>sourceofmostrecentincomeandexpendituredata</th><th scope=col>vitalregistrationcomplete</th><th scope=col>latestagriculturalcensus</th><th scope=col>latestindustrialdata</th><th scope=col>latesttradedata</th><th scope=col>latestwaterwithdrawaldata</th><th scope=col>x2alphacode</th><th scope=col>wb2code</th><th scope=col>tablename</th><th scope=col>shortname</th></tr></thead>\n",
       "<tbody>\n",
       "\t<tr><th scope=row>1</th><td>ABW</td><td>Aruba</td><td>High income: nonOECD</td><td>Latin America & Caribbean</td><td></td><td></td><td>Aruban florin</td><td>2000</td><td></td><td></td><td>⋯</td><td></td><td></td><td></td><td>NA</td><td>2008</td><td>NA</td><td>AW</td><td>AW</td><td>Aruba</td><td>Aruba</td></tr>\n",
       "\t<tr><th scope=row>2</th><td>ADO</td><td>Principality of Andorra</td><td>High income: nonOECD</td><td>Europe & Central Asia</td><td></td><td></td><td>Euro</td><td>Register based</td><td></td><td></td><td>⋯</td><td></td><td>Yes</td><td></td><td>NA</td><td>2006</td><td>NA</td><td>AD</td><td>AD</td><td>Andorra</td><td>Andorra</td></tr>\n",
       "\t<tr><th scope=row>3</th><td>AFG</td><td>Islamic State of Afghanistan</td><td>Low income</td><td>South Asia</td><td>IDA</td><td>HIPC</td><td>Afghan afghani</td><td>1979</td><td>MICS, 2003</td><td>Fiscal year end: March 20; reporting period for national accounts data: FY.</td><td>⋯</td><td></td><td></td><td></td><td>NA</td><td>2008</td><td>2000</td><td>AF</td><td>AF</td><td>Afghanistan</td><td>Afghanistan</td></tr>\n",
       "\t<tr><th scope=row>4</th><td>AGO</td><td>People's Republic of Angola</td><td>Lower middle income</td><td>Sub-Saharan Africa</td><td>IDA</td><td></td><td>Angolan kwanza</td><td>1970</td><td>MICS, 2001, MIS, 2006/07</td><td></td><td>⋯</td><td>IHS, 2000</td><td></td><td>1964-65</td><td>NA</td><td>1991</td><td>2000</td><td>AO</td><td>AO</td><td>Angola</td><td>Angola</td></tr>\n",
       "\t<tr><th scope=row>5</th><td>ALB</td><td>Republic of Albania</td><td>Upper middle income</td><td>Europe & Central Asia</td><td>IBRD</td><td></td><td>Albanian lek</td><td>2001</td><td>MICS, 2005</td><td></td><td>⋯</td><td>LSMS, 2005</td><td>Yes</td><td>1998</td><td>2005</td><td>2008</td><td>2000</td><td>AL</td><td>AL</td><td>Albania</td><td>Albania</td></tr>\n",
       "\t<tr><th scope=row>6</th><td>ARE</td><td>United Arab Emirates</td><td>High income: nonOECD</td><td>Middle East & North Africa</td><td></td><td></td><td>U.A.E. dirham</td><td>2005</td><td></td><td></td><td>⋯</td><td></td><td></td><td>1998</td><td>NA</td><td>2008</td><td>2005</td><td>AE</td><td>AE</td><td>United Arab Emirates</td><td>United Arab Emirates</td></tr>\n",
       "</tbody>\n",
       "</table>\n"
      ],
      "text/latex": [
       "\\begin{tabular}{r|lllllllllllllllllllllllllllllll}\n",
       "  & x & longname & incomegroup & region & lendingcategory & othergroups & currencyunit & latestpopulationcensus & latesthouseholdsurvey & specialnotes & ellip.h & sourceofmostrecentincomeandexpendituredata & vitalregistrationcomplete & latestagriculturalcensus & latestindustrialdata & latesttradedata & latestwaterwithdrawaldata & x2alphacode & wb2code & tablename & shortname\\\\\n",
       "\\hline\n",
       "\t1 & ABW & Aruba & High income: nonOECD & Latin America & Caribbean &  &  & Aruban florin & 2000 &  &  & ⋯ &  &  &  & NA & 2008 & NA & AW & AW & Aruba & Aruba\\\\\n",
       "\t2 & ADO & Principality of Andorra & High income: nonOECD & Europe & Central Asia &  &  & Euro & Register based &  &  & ⋯ &  & Yes &  & NA & 2006 & NA & AD & AD & Andorra & Andorra\\\\\n",
       "\t3 & AFG & Islamic State of Afghanistan & Low income & South Asia & IDA & HIPC & Afghan afghani & 1979 & MICS, 2003 & Fiscal year end: March 20; reporting period for national accounts data: FY. & ⋯ &  &  &  & NA & 2008 & 2000 & AF & AF & Afghanistan & Afghanistan\\\\\n",
       "\t4 & AGO & People's Republic of Angola & Lower middle income & Sub-Saharan Africa & IDA &  & Angolan kwanza & 1970 & MICS, 2001, MIS, 2006/07 &  & ⋯ & IHS, 2000 &  & 1964-65 & NA & 1991 & 2000 & AO & AO & Angola & Angola\\\\\n",
       "\t5 & ALB & Republic of Albania & Upper middle income & Europe & Central Asia & IBRD &  & Albanian lek & 2001 & MICS, 2005 &  & ⋯ & LSMS, 2005 & Yes & 1998 & 2005 & 2008 & 2000 & AL & AL & Albania & Albania\\\\\n",
       "\t6 & ARE & United Arab Emirates & High income: nonOECD & Middle East & North Africa &  &  & U.A.E. dirham & 2005 &  &  & ⋯ &  &  & 1998 & NA & 2008 & 2005 & AE & AE & United Arab Emirates & United Arab Emirates\\\\\n",
       "\\end{tabular}\n"
      ],
      "text/plain": [
       "    x                     longname          incomegroup\n",
       "1 ABW                        Aruba High income: nonOECD\n",
       "2 ADO      Principality of Andorra High income: nonOECD\n",
       "3 AFG Islamic State of Afghanistan           Low income\n",
       "4 AGO  People's Republic of Angola  Lower middle income\n",
       "5 ALB          Republic of Albania  Upper middle income\n",
       "6 ARE         United Arab Emirates High income: nonOECD\n",
       "                      region lendingcategory othergroups   currencyunit\n",
       "1  Latin America & Caribbean                              Aruban florin\n",
       "2      Europe & Central Asia                                       Euro\n",
       "3                 South Asia             IDA        HIPC Afghan afghani\n",
       "4         Sub-Saharan Africa             IDA             Angolan kwanza\n",
       "5      Europe & Central Asia            IBRD               Albanian lek\n",
       "6 Middle East & North Africa                              U.A.E. dirham\n",
       "  latestpopulationcensus    latesthouseholdsurvey\n",
       "1                   2000                         \n",
       "2         Register based                         \n",
       "3                   1979               MICS, 2003\n",
       "4                   1970 MICS, 2001, MIS, 2006/07\n",
       "5                   2001               MICS, 2005\n",
       "6                   2005                         \n",
       "                                                                 specialnotes\n",
       "1                                                                            \n",
       "2                                                                            \n",
       "3 Fiscal year end: March 20; reporting period for national accounts data: FY.\n",
       "4                                                                            \n",
       "5                                                                            \n",
       "6                                                                            \n",
       "  nationalaccountsbaseyear nationalaccountsreferenceyear\n",
       "1                     1995                            NA\n",
       "2                                                     NA\n",
       "3                2002/2003                            NA\n",
       "4                     1997                            NA\n",
       "5                                                   1996\n",
       "6                     1995                            NA\n",
       "  systemofnationalaccounts snapricevaluation alternativeconversionfactor\n",
       "1                       NA                                              \n",
       "2                       NA                                              \n",
       "3                       NA               VAB                            \n",
       "4                       NA               VAP                     1991-96\n",
       "5                     1993               VAB                            \n",
       "6                       NA               VAB                            \n",
       "  pppsurveyyear balanceofpaymentsmanualinuse externaldebtreportingstatus\n",
       "1            NA                                                         \n",
       "2            NA                                                         \n",
       "3            NA                                                   Actual\n",
       "4          2005                         BPM5                      Actual\n",
       "5          2005                         BPM5                      Actual\n",
       "6            NA                         BPM4                            \n",
       "  systemoftrade governmentaccountingconcept imfdatadisseminationstandard\n",
       "1       Special                                                         \n",
       "2       General                                                         \n",
       "3       General                Consolidated                         GDDS\n",
       "4       Special                                                     GDDS\n",
       "5       General                Consolidated                         GDDS\n",
       "6       General                Consolidated                         GDDS\n",
       "  sourceofmostrecentincomeandexpendituredata vitalregistrationcomplete\n",
       "1                                                                     \n",
       "2                                                                  Yes\n",
       "3                                                                     \n",
       "4                                  IHS, 2000                          \n",
       "5                                 LSMS, 2005                       Yes\n",
       "6                                                                     \n",
       "  latestagriculturalcensus latestindustrialdata latesttradedata\n",
       "1                                            NA            2008\n",
       "2                                            NA            2006\n",
       "3                                            NA            2008\n",
       "4                  1964-65                   NA            1991\n",
       "5                     1998                 2005            2008\n",
       "6                     1998                   NA            2008\n",
       "  latestwaterwithdrawaldata x2alphacode wb2code            tablename\n",
       "1                        NA          AW      AW                Aruba\n",
       "2                        NA          AD      AD              Andorra\n",
       "3                      2000          AF      AF          Afghanistan\n",
       "4                      2000          AO      AO               Angola\n",
       "5                      2000          AL      AL              Albania\n",
       "6                      2005          AE      AE United Arab Emirates\n",
       "             shortname\n",
       "1                Aruba\n",
       "2              Andorra\n",
       "3          Afghanistan\n",
       "4               Angola\n",
       "5              Albania\n",
       "6 United Arab Emirates"
      ]
     },
     "execution_count": 419,
     "metadata": {},
     "output_type": "execute_result"
    }
   ],
   "source": [
    "colnames(dat2)[1]<-\"x\"\n",
    "head(dat2)"
   ]
  },
  {
   "cell_type": "code",
   "execution_count": 421,
   "metadata": {
    "collapsed": false
   },
   "outputs": [],
   "source": [
    "q4all<-merge(data2,dat2,by=\"x\")"
   ]
  },
  {
   "cell_type": "code",
   "execution_count": 422,
   "metadata": {
    "collapsed": false
   },
   "outputs": [
    {
     "data": {
      "text/html": [
       "<table>\n",
       "<thead><tr><th></th><th scope=col>x</th><th scope=col>ranking</th><th scope=col>x1</th><th scope=col>economy</th><th scope=col>usdollars</th><th scope=col>longname</th><th scope=col>incomegroup</th><th scope=col>region</th><th scope=col>lendingcategory</th><th scope=col>othergroups</th><th scope=col>ellip.h</th><th scope=col>sourceofmostrecentincomeandexpendituredata</th><th scope=col>vitalregistrationcomplete</th><th scope=col>latestagriculturalcensus</th><th scope=col>latestindustrialdata</th><th scope=col>latesttradedata</th><th scope=col>latestwaterwithdrawaldata</th><th scope=col>x2alphacode</th><th scope=col>wb2code</th><th scope=col>tablename</th><th scope=col>shortname</th></tr></thead>\n",
       "<tbody>\n",
       "\t<tr><th scope=row>1</th><td>ABW</td><td>161</td><td>NA</td><td>Aruba</td><td> 2584 </td><td>Aruba</td><td>High income: nonOECD</td><td>Latin America & Caribbean</td><td></td><td></td><td>⋯</td><td></td><td></td><td></td><td>NA</td><td>2008</td><td>NA</td><td>AW</td><td>AW</td><td>Aruba</td><td>Aruba</td></tr>\n",
       "\t<tr><th scope=row>2</th><td>AFG</td><td>105</td><td>NA</td><td>Afghanistan</td><td> 20497 </td><td>Islamic State of Afghanistan</td><td>Low income</td><td>South Asia</td><td>IDA</td><td>HIPC</td><td>⋯</td><td></td><td></td><td></td><td>NA</td><td>2008</td><td>2000</td><td>AF</td><td>AF</td><td>Afghanistan</td><td>Afghanistan</td></tr>\n",
       "\t<tr><th scope=row>3</th><td>AGO</td><td>60</td><td>NA</td><td>Angola</td><td> 114147 </td><td>People's Republic of Angola</td><td>Lower middle income</td><td>Sub-Saharan Africa</td><td>IDA</td><td></td><td>⋯</td><td>IHS, 2000</td><td></td><td>1964-65</td><td>NA</td><td>1991</td><td>2000</td><td>AO</td><td>AO</td><td>Angola</td><td>Angola</td></tr>\n",
       "\t<tr><th scope=row>4</th><td>ALB</td><td>125</td><td>NA</td><td>Albania</td><td> 12648 </td><td>Republic of Albania</td><td>Upper middle income</td><td>Europe & Central Asia</td><td>IBRD</td><td></td><td>⋯</td><td>LSMS, 2005</td><td>Yes</td><td>1998</td><td>2005</td><td>2008</td><td>2000</td><td>AL</td><td>AL</td><td>Albania</td><td>Albania</td></tr>\n",
       "\t<tr><th scope=row>5</th><td>ARE</td><td>32</td><td>NA</td><td>United Arab Emirates</td><td> 348595 </td><td>United Arab Emirates</td><td>High income: nonOECD</td><td>Middle East & North Africa</td><td></td><td></td><td>⋯</td><td></td><td></td><td>1998</td><td>NA</td><td>2008</td><td>2005</td><td>AE</td><td>AE</td><td>United Arab Emirates</td><td>United Arab Emirates</td></tr>\n",
       "\t<tr><th scope=row>6</th><td>ARG</td><td>26</td><td>NA</td><td>Argentina</td><td> 475502 </td><td>Argentine Republic</td><td>Upper middle income</td><td>Latin America & Caribbean</td><td>IBRD</td><td></td><td>⋯</td><td>IHS, 2006</td><td>Yes</td><td>2002</td><td>2001</td><td>2008</td><td>2000</td><td>AR</td><td>AR</td><td>Argentina</td><td>Argentina</td></tr>\n",
       "</tbody>\n",
       "</table>\n"
      ],
      "text/latex": [
       "\\begin{tabular}{r|lllllllllllllllllllllllllllllllllll}\n",
       "  & x & ranking & x1 & economy & usdollars & longname & incomegroup & region & lendingcategory & othergroups & ellip.h & sourceofmostrecentincomeandexpendituredata & vitalregistrationcomplete & latestagriculturalcensus & latestindustrialdata & latesttradedata & latestwaterwithdrawaldata & x2alphacode & wb2code & tablename & shortname\\\\\n",
       "\\hline\n",
       "\t1 & ABW & 161 & NA & Aruba &  2584  & Aruba & High income: nonOECD & Latin America & Caribbean &  &  & ⋯ &  &  &  & NA & 2008 & NA & AW & AW & Aruba & Aruba\\\\\n",
       "\t2 & AFG & 105 & NA & Afghanistan &  20497  & Islamic State of Afghanistan & Low income & South Asia & IDA & HIPC & ⋯ &  &  &  & NA & 2008 & 2000 & AF & AF & Afghanistan & Afghanistan\\\\\n",
       "\t3 & AGO & 60 & NA & Angola &  114147  & People's Republic of Angola & Lower middle income & Sub-Saharan Africa & IDA &  & ⋯ & IHS, 2000 &  & 1964-65 & NA & 1991 & 2000 & AO & AO & Angola & Angola\\\\\n",
       "\t4 & ALB & 125 & NA & Albania &  12648  & Republic of Albania & Upper middle income & Europe & Central Asia & IBRD &  & ⋯ & LSMS, 2005 & Yes & 1998 & 2005 & 2008 & 2000 & AL & AL & Albania & Albania\\\\\n",
       "\t5 & ARE & 32 & NA & United Arab Emirates &  348595  & United Arab Emirates & High income: nonOECD & Middle East & North Africa &  &  & ⋯ &  &  & 1998 & NA & 2008 & 2005 & AE & AE & United Arab Emirates & United Arab Emirates\\\\\n",
       "\t6 & ARG & 26 & NA & Argentina &  475502  & Argentine Republic & Upper middle income & Latin America & Caribbean & IBRD &  & ⋯ & IHS, 2006 & Yes & 2002 & 2001 & 2008 & 2000 & AR & AR & Argentina & Argentina\\\\\n",
       "\\end{tabular}\n"
      ],
      "text/plain": [
       "    x ranking x1              economy usdollars                     longname\n",
       "1 ABW     161 NA                Aruba     2584                         Aruba\n",
       "2 AFG     105 NA          Afghanistan    20497  Islamic State of Afghanistan\n",
       "3 AGO      60 NA               Angola   114147   People's Republic of Angola\n",
       "4 ALB     125 NA              Albania    12648           Republic of Albania\n",
       "5 ARE      32 NA United Arab Emirates   348595          United Arab Emirates\n",
       "6 ARG      26 NA            Argentina   475502            Argentine Republic\n",
       "           incomegroup                     region lendingcategory othergroups\n",
       "1 High income: nonOECD  Latin America & Caribbean                            \n",
       "2           Low income                 South Asia             IDA        HIPC\n",
       "3  Lower middle income         Sub-Saharan Africa             IDA            \n",
       "4  Upper middle income      Europe & Central Asia            IBRD            \n",
       "5 High income: nonOECD Middle East & North Africa                            \n",
       "6  Upper middle income  Latin America & Caribbean            IBRD            \n",
       "    currencyunit latestpopulationcensus    latesthouseholdsurvey\n",
       "1  Aruban florin                   2000                         \n",
       "2 Afghan afghani                   1979               MICS, 2003\n",
       "3 Angolan kwanza                   1970 MICS, 2001, MIS, 2006/07\n",
       "4   Albanian lek                   2001               MICS, 2005\n",
       "5  U.A.E. dirham                   2005                         \n",
       "6 Argentine peso                   2001                         \n",
       "                                                                 specialnotes\n",
       "1                                                                            \n",
       "2 Fiscal year end: March 20; reporting period for national accounts data: FY.\n",
       "3                                                                            \n",
       "4                                                                            \n",
       "5                                                                            \n",
       "6                                                                            \n",
       "  nationalaccountsbaseyear nationalaccountsreferenceyear\n",
       "1                     1995                            NA\n",
       "2                2002/2003                            NA\n",
       "3                     1997                            NA\n",
       "4                                                   1996\n",
       "5                     1995                            NA\n",
       "6                     1993                            NA\n",
       "  systemofnationalaccounts snapricevaluation alternativeconversionfactor\n",
       "1                       NA                                              \n",
       "2                       NA               VAB                            \n",
       "3                       NA               VAP                     1991-96\n",
       "4                     1993               VAB                            \n",
       "5                       NA               VAB                            \n",
       "6                     1993               VAB                     1971-84\n",
       "  pppsurveyyear balanceofpaymentsmanualinuse externaldebtreportingstatus\n",
       "1            NA                                                         \n",
       "2            NA                                                   Actual\n",
       "3          2005                         BPM5                      Actual\n",
       "4          2005                         BPM5                      Actual\n",
       "5            NA                         BPM4                            \n",
       "6          2005                         BPM5                      Actual\n",
       "  systemoftrade governmentaccountingconcept imfdatadisseminationstandard\n",
       "1       Special                                                         \n",
       "2       General                Consolidated                         GDDS\n",
       "3       Special                                                     GDDS\n",
       "4       General                Consolidated                         GDDS\n",
       "5       General                Consolidated                         GDDS\n",
       "6       Special                Consolidated                         SDDS\n",
       "  sourceofmostrecentincomeandexpendituredata vitalregistrationcomplete\n",
       "1                                                                     \n",
       "2                                                                     \n",
       "3                                  IHS, 2000                          \n",
       "4                                 LSMS, 2005                       Yes\n",
       "5                                                                     \n",
       "6                                  IHS, 2006                       Yes\n",
       "  latestagriculturalcensus latestindustrialdata latesttradedata\n",
       "1                                            NA            2008\n",
       "2                                            NA            2008\n",
       "3                  1964-65                   NA            1991\n",
       "4                     1998                 2005            2008\n",
       "5                     1998                   NA            2008\n",
       "6                     2002                 2001            2008\n",
       "  latestwaterwithdrawaldata x2alphacode wb2code            tablename\n",
       "1                        NA          AW      AW                Aruba\n",
       "2                      2000          AF      AF          Afghanistan\n",
       "3                      2000          AO      AO               Angola\n",
       "4                      2000          AL      AL              Albania\n",
       "5                      2005          AE      AE United Arab Emirates\n",
       "6                      2000          AR      AR            Argentina\n",
       "             shortname\n",
       "1                Aruba\n",
       "2          Afghanistan\n",
       "3               Angola\n",
       "4              Albania\n",
       "5 United Arab Emirates\n",
       "6            Argentina"
      ]
     },
     "execution_count": 422,
     "metadata": {},
     "output_type": "execute_result"
    }
   ],
   "source": [
    "head(q4all)"
   ]
  },
  {
   "cell_type": "code",
   "execution_count": 423,
   "metadata": {
    "collapsed": false
   },
   "outputs": [
    {
     "data": {
      "text/html": [
       "13"
      ],
      "text/latex": [
       "13"
      ],
      "text/markdown": [
       "13"
      ],
      "text/plain": [
       "[1] 13"
      ]
     },
     "execution_count": 423,
     "metadata": {},
     "output_type": "execute_result"
    }
   ],
   "source": [
    "sum(grepl(pattern = \"^[Ff]iscal(.*)[Yy]ear(.*)[Ee]nd(.)*[Jj]une\", \n",
    "          x = q4all$specialnotes) == TRUE)"
   ]
  },
  {
   "cell_type": "code",
   "execution_count": 426,
   "metadata": {
    "collapsed": false
   },
   "outputs": [],
   "source": [
    "#####Problem 5\n",
    "library(quantmod)\n",
    "amzn = getSymbols(\"AMZN\",auto.assign=FALSE)\n",
    "sampleTimes = index(amzn)"
   ]
  },
  {
   "cell_type": "code",
   "execution_count": 433,
   "metadata": {
    "collapsed": false
   },
   "outputs": [
    {
     "data": {
      "text/html": [
       "'Date'"
      ],
      "text/latex": [
       "'Date'"
      ],
      "text/markdown": [
       "'Date'"
      ],
      "text/plain": [
       "[1] \"Date\""
      ]
     },
     "execution_count": 433,
     "metadata": {},
     "output_type": "execute_result"
    },
    {
     "data": {
      "text/html": [
       "<ol class=list-inline>\n",
       "\t<li>'xts'</li>\n",
       "\t<li>'zoo'</li>\n",
       "</ol>\n"
      ],
      "text/latex": [
       "\\begin{enumerate*}\n",
       "\\item 'xts'\n",
       "\\item 'zoo'\n",
       "\\end{enumerate*}\n"
      ],
      "text/markdown": [
       "1. 'xts'\n",
       "2. 'zoo'\n",
       "\n",
       "\n"
      ],
      "text/plain": [
       "[1] \"xts\" \"zoo\""
      ]
     },
     "execution_count": 433,
     "metadata": {},
     "output_type": "execute_result"
    },
    {
     "data": {
      "text/html": [
       "'data.frame'"
      ],
      "text/latex": [
       "'data.frame'"
      ],
      "text/markdown": [
       "'data.frame'"
      ],
      "text/plain": [
       "[1] \"data.frame\""
      ]
     },
     "execution_count": 433,
     "metadata": {},
     "output_type": "execute_result"
    }
   ],
   "source": [
    "class(sampleTimes)\n",
    "class(amzn)\n",
    "amzn <- data.frame(amzn)\n",
    "class(amzn)"
   ]
  },
  {
   "cell_type": "code",
   "execution_count": 435,
   "metadata": {
    "collapsed": false
   },
   "outputs": [
    {
     "data": {
      "text/html": [
       "250"
      ],
      "text/latex": [
       "250"
      ],
      "text/markdown": [
       "250"
      ],
      "text/plain": [
       "[1] 250"
      ]
     },
     "execution_count": 435,
     "metadata": {},
     "output_type": "execute_result"
    }
   ],
   "source": [
    "sum(format(as.Date(x = rownames(amzn), format = \"%Y-%m-%d\"), \"%Y\") == 2012)"
   ]
  },
  {
   "cell_type": "code",
   "execution_count": 437,
   "metadata": {
    "collapsed": false
   },
   "outputs": [
    {
     "data": {
      "text/html": [
       "47"
      ],
      "text/latex": [
       "47"
      ],
      "text/markdown": [
       "47"
      ],
      "text/plain": [
       "[1] 47"
      ]
     },
     "execution_count": 437,
     "metadata": {},
     "output_type": "execute_result"
    }
   ],
   "source": [
    "sum(format(as.Date(x = rownames(amzn), format = \"%Y-%m-%d\"), \"%Y%a\") == \"2012Mon\")"
   ]
  },
  {
   "cell_type": "code",
   "execution_count": null,
   "metadata": {
    "collapsed": true
   },
   "outputs": [],
   "source": []
  }
 ],
 "metadata": {
  "kernelspec": {
   "display_name": "R",
   "language": "R",
   "name": "ir"
  },
  "language_info": {
   "codemirror_mode": "r",
   "file_extension": ".r",
   "mimetype": "text/x-r-source",
   "name": "R",
   "pygments_lexer": "r",
   "version": "3.2.4"
  }
 },
 "nbformat": 4,
 "nbformat_minor": 0
}
