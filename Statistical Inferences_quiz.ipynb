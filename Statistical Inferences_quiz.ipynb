{
 "cells": [
  {
   "cell_type": "code",
   "execution_count": null,
   "metadata": {
    "collapsed": true
   },
   "outputs": [],
   "source": [
    "#####Quiz 2\n",
    "###Problem 1\n",
    "###samle variance is (\\sigmma^2)/n, \n",
    "##where \\sigmma^2 is the population variance, and n is number of samples."
   ]
  },
  {
   "cell_type": "code",
   "execution_count": 1,
   "metadata": {
    "collapsed": false
   },
   "outputs": [
    {
     "data": {
      "text/html": [
       "0.158655253931457"
      ],
      "text/latex": [
       "0.158655253931457"
      ],
      "text/markdown": [
       "0.158655253931457"
      ],
      "text/plain": [
       "[1] 0.1586553"
      ]
     },
     "execution_count": 1,
     "metadata": {},
     "output_type": "execute_result"
    }
   ],
   "source": [
    "###Problem 2\n",
    "pnorm(70, mean = 80, sd = 10)"
   ]
  },
  {
   "cell_type": "code",
   "execution_count": 2,
   "metadata": {
    "collapsed": false
   },
   "outputs": [
    {
     "data": {
      "text/html": [
       "1223.36402202136"
      ],
      "text/latex": [
       "1223.36402202136"
      ],
      "text/markdown": [
       "1223.36402202136"
      ],
      "text/plain": [
       "[1] 1223.364"
      ]
     },
     "execution_count": 2,
     "metadata": {},
     "output_type": "execute_result"
    }
   ],
   "source": [
    "###Problem 3\n",
    "qnorm(0.95, mean = 1100, sd = 75)"
   ]
  },
  {
   "cell_type": "code",
   "execution_count": 3,
   "metadata": {
    "collapsed": false
   },
   "outputs": [
    {
     "data": {
      "text/html": [
       "1112.33640220214"
      ],
      "text/latex": [
       "1112.33640220214"
      ],
      "text/markdown": [
       "1112.33640220214"
      ],
      "text/plain": [
       "[1] 1112.336"
      ]
     },
     "execution_count": 3,
     "metadata": {},
     "output_type": "execute_result"
    }
   ],
   "source": [
    "#####Problem 4\n",
    "qnorm(0.95, mean = 1100, sd = 75/sqrt(100))"
   ]
  },
  {
   "cell_type": "code",
   "execution_count": 4,
   "metadata": {
    "collapsed": false
   },
   "outputs": [
    {
     "data": {
      "text/html": [
       "0.1875"
      ],
      "text/latex": [
       "0.1875"
      ],
      "text/markdown": [
       "0.1875"
      ],
      "text/plain": [
       "[1] 0.1875"
      ]
     },
     "execution_count": 4,
     "metadata": {},
     "output_type": "execute_result"
    }
   ],
   "source": [
    "#####Problem 5\n",
    "1/32+5/32"
   ]
  },
  {
   "cell_type": "code",
   "execution_count": 5,
   "metadata": {
    "collapsed": false
   },
   "outputs": [
    {
     "data": {
      "text/html": [
       "0.682689492137086"
      ],
      "text/latex": [
       "0.682689492137086"
      ],
      "text/markdown": [
       "0.682689492137086"
      ],
      "text/plain": [
       "[1] 0.6826895"
      ]
     },
     "execution_count": 5,
     "metadata": {},
     "output_type": "execute_result"
    }
   ],
   "source": [
    "####Problem 6\n",
    "pnorm(16, mean = 15, sd = 1) - pnorm(14, mean = 15, sd = 1)"
   ]
  },
  {
   "cell_type": "code",
   "execution_count": 6,
   "metadata": {
    "collapsed": false
   },
   "outputs": [
    {
     "data": {
      "text/html": [
       "0.118464411529015"
      ],
      "text/latex": [
       "0.118464411529015"
      ],
      "text/markdown": [
       "0.118464411529015"
      ],
      "text/plain": [
       "[1] 0.1184644"
      ]
     },
     "execution_count": 6,
     "metadata": {},
     "output_type": "execute_result"
    }
   ],
   "source": [
    "######Problem 8\n",
    "ppois(10, lambda = 5 * 3)"
   ]
  },
  {
   "cell_type": "code",
   "execution_count": 1,
   "metadata": {
    "collapsed": true
   },
   "outputs": [],
   "source": [
    "#######Quiz 3######\n",
    "##Problem 1"
   ]
  },
  {
   "cell_type": "code",
   "execution_count": 2,
   "metadata": {
    "collapsed": false
   },
   "outputs": [
    {
     "data": {
      "text/html": [
       "<ol class=list-inline>\n",
       "\t<li>1076.93995864796</li>\n",
       "\t<li>1123.06004135204</li>\n",
       "</ol>\n"
      ],
      "text/latex": [
       "\\begin{enumerate*}\n",
       "\\item 1076.93995864796\n",
       "\\item 1123.06004135204\n",
       "\\end{enumerate*}\n"
      ],
      "text/markdown": [
       "1. 1076.93995864796\n",
       "2. 1123.06004135204\n",
       "\n",
       "\n"
      ],
      "text/plain": [
       "[1] 1076.94 1123.06"
      ]
     },
     "execution_count": 2,
     "metadata": {},
     "output_type": "execute_result"
    }
   ],
   "source": [
    "1100+c(-1,1)*qt(0.975,9-1)*30/sqrt(9)"
   ]
  },
  {
   "cell_type": "code",
   "execution_count": 5,
   "metadata": {
    "collapsed": false
   },
   "outputs": [
    {
     "data": {
      "text/html": [
       "<ol class=list-inline>\n",
       "\t<li>-3.99853691717694</li>\n",
       "\t<li>-0.00146308282305618</li>\n",
       "</ol>\n"
      ],
      "text/latex": [
       "\\begin{enumerate*}\n",
       "\\item -3.99853691717694\n",
       "\\item -0.00146308282305618\n",
       "\\end{enumerate*}\n"
      ],
      "text/markdown": [
       "1. -3.99853691717694\n",
       "2. -0.00146308282305618\n",
       "\n",
       "\n"
      ],
      "text/plain": [
       "[1] -3.998536917 -0.001463083"
      ]
     },
     "execution_count": 5,
     "metadata": {},
     "output_type": "execute_result"
    }
   ],
   "source": [
    "###Problem 2\n",
    "s<-2.6\n",
    "-2+c(-1,1)*qt(0.975,9-1)*s/sqrt(9)"
   ]
  },
  {
   "cell_type": "code",
   "execution_count": 16,
   "metadata": {
    "collapsed": true
   },
   "outputs": [],
   "source": [
    "##Problem 4\n",
    "var_n<-0.6\n",
    "mu_n<-3\n",
    "var_o<-0.68\n",
    "mu_o<-5\n",
    "n<-10"
   ]
  },
  {
   "cell_type": "code",
   "execution_count": 17,
   "metadata": {
    "collapsed": true
   },
   "outputs": [],
   "source": [
    "sq<-sqrt(((n-1)*var_n+(n-1)*var_o)/(2*n-2))\n",
    "sme<-sq*sqrt(1/n+1/n)"
   ]
  },
  {
   "cell_type": "code",
   "execution_count": 18,
   "metadata": {
    "collapsed": false
   },
   "outputs": [
    {
     "data": {
      "text/html": [
       "<ol class=list-inline>\n",
       "\t<li>-2.75164871958504</li>\n",
       "\t<li>-1.24835128041496</li>\n",
       "</ol>\n"
      ],
      "text/latex": [
       "\\begin{enumerate*}\n",
       "\\item -2.75164871958504\n",
       "\\item -1.24835128041496\n",
       "\\end{enumerate*}\n"
      ],
      "text/markdown": [
       "1. -2.75164871958504\n",
       "2. -1.24835128041496\n",
       "\n",
       "\n"
      ],
      "text/plain": [
       "[1] -2.751649 -1.248351"
      ]
     },
     "execution_count": 18,
     "metadata": {},
     "output_type": "execute_result"
    }
   ],
   "source": [
    "mu_n-mu_o+c(-1,1)*qt(0.975,2*n-2)*sme"
   ]
  },
  {
   "cell_type": "code",
   "execution_count": 19,
   "metadata": {
    "collapsed": false
   },
   "outputs": [
    {
     "data": {
      "text/html": [
       "<ol class=list-inline>\n",
       "\t<li>-2.62039745627284</li>\n",
       "\t<li>-1.37960254372716</li>\n",
       "</ol>\n"
      ],
      "text/latex": [
       "\\begin{enumerate*}\n",
       "\\item -2.62039745627284\n",
       "\\item -1.37960254372716\n",
       "\\end{enumerate*}\n"
      ],
      "text/markdown": [
       "1. -2.62039745627284\n",
       "2. -1.37960254372716\n",
       "\n",
       "\n"
      ],
      "text/plain": [
       "[1] -2.620397 -1.379603"
      ]
     },
     "execution_count": 19,
     "metadata": {},
     "output_type": "execute_result"
    }
   ],
   "source": [
    "###Problem 5\n",
    "mu_n-mu_o+c(-1,1)*qt(0.95,2*n-2)*sme"
   ]
  },
  {
   "cell_type": "code",
   "execution_count": 27,
   "metadata": {
    "collapsed": true
   },
   "outputs": [],
   "source": [
    "###Problem 6\n",
    "var_n<-0.5**2\n",
    "mu_n<-4\n",
    "var_o<-2**2\n",
    "mu_o<-6\n",
    "n<-100"
   ]
  },
  {
   "cell_type": "code",
   "execution_count": 28,
   "metadata": {
    "collapsed": true
   },
   "outputs": [],
   "source": [
    "sq<-sqrt(((n-1)*var_n+(n-1)*var_o)/(2*n-2))\n",
    "sme<-sq*sqrt(1/n+1/n)"
   ]
  },
  {
   "cell_type": "code",
   "execution_count": 29,
   "metadata": {
    "collapsed": false
   },
   "outputs": [
    {
     "data": {
      "text/html": [
       "<ol class=list-inline>\n",
       "\t<li>1.59345818216584</li>\n",
       "\t<li>2.40654181783416</li>\n",
       "</ol>\n"
      ],
      "text/latex": [
       "\\begin{enumerate*}\n",
       "\\item 1.59345818216584\n",
       "\\item 2.40654181783416\n",
       "\\end{enumerate*}\n"
      ],
      "text/markdown": [
       "1. 1.59345818216584\n",
       "2. 2.40654181783416\n",
       "\n",
       "\n"
      ],
      "text/plain": [
       "[1] 1.593458 2.406542"
      ]
     },
     "execution_count": 29,
     "metadata": {},
     "output_type": "execute_result"
    }
   ],
   "source": [
    "-mu_n+mu_o+c(-1,1)*qt(0.975,2*n-2)*sme"
   ]
  },
  {
   "cell_type": "code",
   "execution_count": 30,
   "metadata": {
    "collapsed": false
   },
   "outputs": [
    {
     "data": {
      "text/html": [
       "<ol class=list-inline>\n",
       "\t<li>1.59594307346675</li>\n",
       "\t<li>2.40405692653326</li>\n",
       "</ol>\n"
      ],
      "text/latex": [
       "\\begin{enumerate*}\n",
       "\\item 1.59594307346675\n",
       "\\item 2.40405692653326\n",
       "\\end{enumerate*}\n"
      ],
      "text/markdown": [
       "1. 1.59594307346675\n",
       "2. 2.40405692653326\n",
       "\n",
       "\n"
      ],
      "text/plain": [
       "[1] 1.595943 2.404057"
      ]
     },
     "execution_count": 30,
     "metadata": {},
     "output_type": "execute_result"
    }
   ],
   "source": [
    "-mu_n+mu_o+c(-1,1)*qnorm(0.975)*sme"
   ]
  },
  {
   "cell_type": "code",
   "execution_count": 24,
   "metadata": {
    "collapsed": true
   },
   "outputs": [],
   "source": [
    "###Problem 7\n",
    "var_n<-1.5**2\n",
    "mu_n<--3\n",
    "var_o<-1.8**2\n",
    "mu_o<-1\n",
    "n<-9"
   ]
  },
  {
   "cell_type": "code",
   "execution_count": 25,
   "metadata": {
    "collapsed": true
   },
   "outputs": [],
   "source": [
    "sq<-sqrt(((n-1)*var_n+(n-1)*var_o)/(2*n-2))\n",
    "sme<-sq*sqrt(1/n+1/n)"
   ]
  },
  {
   "cell_type": "code",
   "execution_count": 26,
   "metadata": {
    "collapsed": false
   },
   "outputs": [
    {
     "data": {
      "text/html": [
       "<ol class=list-inline>\n",
       "\t<li>-5.36357874168073</li>\n",
       "\t<li>-2.63642125831927</li>\n",
       "</ol>\n"
      ],
      "text/latex": [
       "\\begin{enumerate*}\n",
       "\\item -5.36357874168073\n",
       "\\item -2.63642125831927\n",
       "\\end{enumerate*}\n"
      ],
      "text/markdown": [
       "1. -5.36357874168073\n",
       "2. -2.63642125831927\n",
       "\n",
       "\n"
      ],
      "text/plain": [
       "[1] -5.363579 -2.636421"
      ]
     },
     "execution_count": 26,
     "metadata": {},
     "output_type": "execute_result"
    }
   ],
   "source": [
    "mu_n-mu_o+c(-1,1)*qt(0.95,2*n-2)*sme"
   ]
  },
  {
   "cell_type": "code",
   "execution_count": 47,
   "metadata": {
    "collapsed": true
   },
   "outputs": [],
   "source": [
    "####Quiz 4\n",
    "#####Problem 1\n",
    "x<-c(140, 138, 150, 148, 135)\n",
    "y<-c(132, 135, 151, 146, 130)"
   ]
  },
  {
   "cell_type": "code",
   "execution_count": 48,
   "metadata": {
    "collapsed": false
   },
   "outputs": [
    {
     "data": {
      "text/plain": [
       "\n",
       "\tPaired t-test\n",
       "\n",
       "data:  x and y\n",
       "t = 2.2616, df = 4, p-value = 0.08652\n",
       "alternative hypothesis: true difference in means is not equal to 0\n",
       "95 percent confidence interval:\n",
       " -0.7739122  7.5739122\n",
       "sample estimates:\n",
       "mean of the differences \n",
       "                    3.4 \n"
      ]
     },
     "execution_count": 48,
     "metadata": {},
     "output_type": "execute_result"
    }
   ],
   "source": [
    "t.test(x,y, paired=TRUE, alternative = \"two.sided\")"
   ]
  },
  {
   "cell_type": "code",
   "execution_count": 50,
   "metadata": {
    "collapsed": false
   },
   "outputs": [
    {
     "data": {
      "text/plain": [
       "\n",
       "\tOne Sample t-test\n",
       "\n",
       "data:  x - y\n",
       "t = 2.2616, df = 4, p-value = 0.08652\n",
       "alternative hypothesis: true mean is not equal to 0\n",
       "95 percent confidence interval:\n",
       " -0.7739122  7.5739122\n",
       "sample estimates:\n",
       "mean of x \n",
       "      3.4 \n"
      ]
     },
     "execution_count": 50,
     "metadata": {},
     "output_type": "execute_result"
    }
   ],
   "source": [
    "t.test(x-y,alternative = \"two.sided\")"
   ]
  },
  {
   "cell_type": "code",
   "execution_count": 34,
   "metadata": {
    "collapsed": false
   },
   "outputs": [
    {
     "data": {
      "text/html": [
       "<ol class=list-inline>\n",
       "\t<li>1076.93995864796</li>\n",
       "\t<li>1123.06004135204</li>\n",
       "</ol>\n"
      ],
      "text/latex": [
       "\\begin{enumerate*}\n",
       "\\item 1076.93995864796\n",
       "\\item 1123.06004135204\n",
       "\\end{enumerate*}\n"
      ],
      "text/markdown": [
       "1. 1076.93995864796\n",
       "2. 1123.06004135204\n",
       "\n",
       "\n"
      ],
      "text/plain": [
       "[1] 1076.94 1123.06"
      ]
     },
     "execution_count": 34,
     "metadata": {},
     "output_type": "execute_result"
    }
   ],
   "source": [
    "###Problem 2\n",
    "1100+c(-1,1)*qt(0.975,9-1)*30/sqrt(9)"
   ]
  },
  {
   "cell_type": "code",
   "execution_count": 41,
   "metadata": {
    "collapsed": false
   },
   "outputs": [
    {
     "data": {
      "text/html": [
       "0.3125"
      ],
      "text/latex": [
       "0.3125"
      ],
      "text/markdown": [
       "0.3125"
      ],
      "text/plain": [
       "[1] 0.3125"
      ]
     },
     "execution_count": 41,
     "metadata": {},
     "output_type": "execute_result"
    }
   ],
   "source": [
    "###Problem 3\n",
    "pbinom(2, size = 4, prob = 0.5, lower.tail = FALSE)"
   ]
  },
  {
   "cell_type": "code",
   "execution_count": 35,
   "metadata": {
    "collapsed": true
   },
   "outputs": [],
   "source": [
    "##Problem 4\n",
    "p1 <- 1/100\n",
    "p2 <- 10/1787\n",
    "n <- 1787"
   ]
  },
  {
   "cell_type": "code",
   "execution_count": 54,
   "metadata": {
    "collapsed": false
   },
   "outputs": [
    {
     "data": {
      "text/html": [
       "0.032371526287371"
      ],
      "text/latex": [
       "0.032371526287371"
      ],
      "text/markdown": [
       "0.032371526287371"
      ],
      "text/plain": [
       "[1] 0.03237153"
      ]
     },
     "execution_count": 54,
     "metadata": {},
     "output_type": "execute_result"
    }
   ],
   "source": [
    "ppois(10, p1*n)"
   ]
  },
  {
   "cell_type": "code",
   "execution_count": 56,
   "metadata": {
    "collapsed": false
   },
   "outputs": [
    {
     "data": {
      "text/html": [
       "0.000102517435999753"
      ],
      "text/latex": [
       "0.000102517435999753"
      ],
      "text/markdown": [
       "0.000102517435999753"
      ],
      "text/plain": [
       "[1] 0.0001025174"
      ]
     },
     "execution_count": 56,
     "metadata": {},
     "output_type": "execute_result"
    }
   ],
   "source": [
    "###Problem 5\n",
    "n1 <- n2 <- 9\n",
    "x1 <- -3 ##treated\n",
    "x2 <- 1 ##placebo\n",
    "s1 <- 1.5 ##treated\n",
    "s2 <- 1.8 ##placebo\n",
    "s <- sqrt(((n1 - 1) * s1^2 + (n2 - 1) * s2^2)/(n1 + n2 - 2))\n",
    "ts <- (x1 - x2)/(s * sqrt(1/n1 + 1/n2))\n",
    "2 * pt(ts, n1 + n2 - 2)"
   ]
  },
  {
   "cell_type": "code",
   "execution_count": 43,
   "metadata": {
    "collapsed": false
   },
   "outputs": [
    {
     "data": {
      "text/html": [
       "0.798985470429869"
      ],
      "text/latex": [
       "0.798985470429869"
      ],
      "text/markdown": [
       "0.798985470429869"
      ],
      "text/plain": [
       "[1] 0.7989855"
      ]
     },
     "execution_count": 43,
     "metadata": {},
     "output_type": "execute_result"
    }
   ],
   "source": [
    "###Problem 7\n",
    "power.t.test(n=100, delta=0.01, sd=0.04, sig.level=0.05, \n",
    "             type=\"one.sample\", alt=\"one.sided\")$power"
   ]
  },
  {
   "cell_type": "code",
   "execution_count": 44,
   "metadata": {
    "collapsed": false
   },
   "outputs": [
    {
     "data": {
      "text/html": [
       "138.385636468867"
      ],
      "text/latex": [
       "138.385636468867"
      ],
      "text/markdown": [
       "138.385636468867"
      ],
      "text/plain": [
       "[1] 138.3856"
      ]
     },
     "execution_count": 44,
     "metadata": {},
     "output_type": "execute_result"
    }
   ],
   "source": [
    "###Problem 8\n",
    "power.t.test(power=0.9,delta=0.01, sd=0.04, sig.level=0.05, \n",
    "             type=\"one.sample\", alt=\"one.sided\")$n"
   ]
  },
  {
   "cell_type": "code",
   "execution_count": null,
   "metadata": {
    "collapsed": true
   },
   "outputs": [],
   "source": []
  }
 ],
 "metadata": {
  "kernelspec": {
   "display_name": "R",
   "language": "R",
   "name": "ir"
  },
  "language_info": {
   "codemirror_mode": "r",
   "file_extension": ".r",
   "mimetype": "text/x-r-source",
   "name": "R",
   "pygments_lexer": "r",
   "version": "3.2.4"
  }
 },
 "nbformat": 4,
 "nbformat_minor": 0
}
